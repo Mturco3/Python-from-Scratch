{
 "cells": [
  {
   "cell_type": "markdown",
   "metadata": {},
   "source": [
    "# Pandas"
   ]
  },
  {
   "cell_type": "markdown",
   "metadata": {},
   "source": [
    "## 1\\) Importing dataset\n",
    "Creation of a dataframe, a two dimensional data structure with rows and columns. It is similar to a dictionary in which we have a list of values(rows) for each key(columns). It is possible to set and index column to select rows.\n",
    "The dataframe can be created from a dictionary, a list of lists, a list of dictionaries, a list of tuples, a dictionary of series, a numpy array, a series, another dataframe.\n",
    "To import the dataframe from a csv file, we can use the function:\n",
    "\n",
    "```python  \n",
    "pd.read_csv(file_path, index_col=\"Column_to_set_as_index\")\n",
    "```"
   ]
  },
  {
   "cell_type": "markdown",
   "metadata": {},
   "source": [
    "--> from a csv file"
   ]
  },
  {
   "cell_type": "code",
   "execution_count": 2,
   "metadata": {},
   "outputs": [],
   "source": [
    "import pandas as pd\n",
    "df_results=pd.read_csv(r\"C:\\Users\\miche\\Documenti\\Csv files\\Data_Stack_2019\\survey_results_public.csv\", index_col=\"Respondent\")\n",
    "df_questions=pd.read_csv(r\"C:\\Users\\miche\\Documenti\\Csv files\\Data_Stack_2019\\survey_results_schema.csv\", index_col=\"Column\")\n"
   ]
  },
  {
   "cell_type": "markdown",
   "metadata": {},
   "source": [
    "--> from a dictionary"
   ]
  },
  {
   "cell_type": "code",
   "execution_count": 3,
   "metadata": {},
   "outputs": [],
   "source": [
    "dic={\"first\":[\"Michele\", \"Gabriele\", \"Raffaele\"], \n",
    "     \"last\": [\"Capitollo\", \"Turco\", \"Turco\"],\n",
    "     \"age\": [20, 16, 10],\n",
    "     \"pokemon\": [\"piplup\", \"turtwig\", \"chimchar\"],\n",
    "     \"email\": [\"michele@mail.it\",\"gabriele@mail.it\",\"raffaele@mail.it\"]}\n",
    "df_people=pd.DataFrame(dic)"
   ]
  },
  {
   "cell_type": "markdown",
   "metadata": {},
   "source": [
    "A dataframe has different attributes and methods:\n",
    "\n",
    "#1\\) `df.shape`    -> Numbers of rows and columns (ATTRIBUTE)  \n",
    "#2\\) `df.info()`     -> Numbers of rows and columns + names and datatypes of each column  \n",
    "#3\\) `df.head(int)`  -> Shows the first n rows of the dataframe  \n",
    "#4\\) `df.tail(int)`  -> Shows the last n rows of the dataframe  \n",
    "#5\\) `df.columns`    -> Shows the name of each column  \n",
    "#6\\) `df.index`     -> Shows the name of each label  \n",
    "#7\\) `df.sort_index` -> Sorts the indexes"
   ]
  },
  {
   "cell_type": "markdown",
   "metadata": {},
   "source": [
    "## 2\\) Accessing columns\n",
    "We can access a single column in the same way we access the value associated to a specific key in a dictionary: however the return type will be a series, a one dimensional array:  \n",
    "#1\\) `df[column_to_access]`  -> Returns a series with the selected column  \n",
    "#2\\) `df[[list_of_columns]]` -> Returns a dataframe with the selected columns\n",
    "\n",
    "```python\n"
   ]
  },
  {
   "cell_type": "code",
   "execution_count": 4,
   "metadata": {},
   "outputs": [
    {
     "name": "stdout",
     "output_type": "stream",
     "text": [
      "<class 'pandas.core.series.Series'>\n",
      "<class 'pandas.core.frame.DataFrame'>\n"
     ]
    }
   ],
   "source": [
    "series_first_names=df_people[\"first\"] # Series\n",
    "df_emails_names=df_people[[\"first\"]] # DataFrame\n",
    "print(type(series_first_names))\n",
    "print(type(df_emails_names))"
   ]
  },
  {
   "cell_type": "markdown",
   "metadata": {},
   "source": [
    "## 3\\) Series\n",
    "Series have different methods and attributes too:  \n",
    "#1\\) `serie.value_counts()`  -> returns each value in a series and it counts how many times it appears   \n",
    "#2\\) `serie.min()`           -> returns the smallest element of the series  \n",
    "#3\\) `serie.max()`           -> returns the biggest element of the series  \n",
    "#4\\) `serie.sum()`          -> returns the sum of the elements in the series"
   ]
  },
  {
   "cell_type": "code",
   "execution_count": 5,
   "metadata": {},
   "outputs": [],
   "source": [
    "series_age=df_people[\"age\"]\n",
    "min_age=series_age.min()\n"
   ]
  },
  {
   "cell_type": "markdown",
   "metadata": {},
   "source": [
    "## 4\\) Accessing rows\n",
    "To access also rows we need to use the following methods:  \n",
    "#1\\) `df.iloc[[list of rows],[list of columns]]`  -> Shows the nth row and the nth column (Integer location, the rows are accessed by index).  \n",
    "#2\\) `df.loc[[list of rows],[list of columns]]`  -> Shows the nth row and the nth column (The label of columns and rows need to be passed to access them)."
   ]
  },
  {
   "cell_type": "code",
   "execution_count": 6,
   "metadata": {},
   "outputs": [],
   "source": [
    "int_first_people=df_people.iloc[0] # First row = Series\n",
    "reduced_data=df_results.loc[1:2,\"Hobbyist\":\"Employment\"] #Slicing is inclusive \n"
   ]
  },
  {
   "cell_type": "markdown",
   "metadata": {},
   "source": [
    "As we have seen, the rows can be represented by labels: to create a label, we need to use the method:  \n",
    "#1\\) `df.set_index(\"column_to_set_as_index\", Inplace=True/False)` (It does not change the df, unless we specify Inplace=True)   \n",
    "#2\\) `df.reset_index()` it resets the index of the dataframe"
   ]
  },
  {
   "cell_type": "code",
   "execution_count": 7,
   "metadata": {},
   "outputs": [
    {
     "data": {
      "text/html": [
       "<div>\n",
       "<style scoped>\n",
       "    .dataframe tbody tr th:only-of-type {\n",
       "        vertical-align: middle;\n",
       "    }\n",
       "\n",
       "    .dataframe tbody tr th {\n",
       "        vertical-align: top;\n",
       "    }\n",
       "\n",
       "    .dataframe thead th {\n",
       "        text-align: right;\n",
       "    }\n",
       "</style>\n",
       "<table border=\"1\" class=\"dataframe\">\n",
       "  <thead>\n",
       "    <tr style=\"text-align: right;\">\n",
       "      <th></th>\n",
       "      <th>first</th>\n",
       "      <th>last</th>\n",
       "      <th>age</th>\n",
       "      <th>pokemon</th>\n",
       "    </tr>\n",
       "    <tr>\n",
       "      <th>email</th>\n",
       "      <th></th>\n",
       "      <th></th>\n",
       "      <th></th>\n",
       "      <th></th>\n",
       "    </tr>\n",
       "  </thead>\n",
       "  <tbody>\n",
       "    <tr>\n",
       "      <th>michele@mail.it</th>\n",
       "      <td>Michele</td>\n",
       "      <td>Capitollo</td>\n",
       "      <td>20</td>\n",
       "      <td>piplup</td>\n",
       "    </tr>\n",
       "    <tr>\n",
       "      <th>gabriele@mail.it</th>\n",
       "      <td>Gabriele</td>\n",
       "      <td>Turco</td>\n",
       "      <td>16</td>\n",
       "      <td>turtwig</td>\n",
       "    </tr>\n",
       "    <tr>\n",
       "      <th>raffaele@mail.it</th>\n",
       "      <td>Raffaele</td>\n",
       "      <td>Turco</td>\n",
       "      <td>10</td>\n",
       "      <td>chimchar</td>\n",
       "    </tr>\n",
       "  </tbody>\n",
       "</table>\n",
       "</div>"
      ],
      "text/plain": [
       "                     first       last  age   pokemon\n",
       "email                                               \n",
       "michele@mail.it    Michele  Capitollo   20    piplup\n",
       "gabriele@mail.it  Gabriele      Turco   16   turtwig\n",
       "raffaele@mail.it  Raffaele      Turco   10  chimchar"
      ]
     },
     "execution_count": 7,
     "metadata": {},
     "output_type": "execute_result"
    }
   ],
   "source": [
    "df_people.set_index(\"email\", inplace=True)\n",
    "df_people"
   ]
  },
  {
   "cell_type": "markdown",
   "metadata": {},
   "source": [
    "## 5\\) Filtering\n",
    "When we compare the column series to a specific value, we get another series of bool values: we can then pass that serie to the dataframe to get the matching values.  \n",
    "To get the opposite boolean series, we can add a tilde before the filter to negate it.  \n",
    "#0\\) `filter = df[\"column\"] == \"value\"`  \n",
    "#0\\) `filter_opposite = ~df[\"column\"] == \"value\"` -> Returns the opposite boolean series \n",
    "We can filter the dataframe by using the following methods:  \n",
    "#1\\) `df[df[\"column\"] == \"value\"]` -> Returns the rows that satisfy the condition  \n",
    "#2\\) `df[(df[\"column\"] == \"value\") & (df[\"column\"] == \"value\")]` -> Returns the rows that satisfy both the condition  \n",
    "#3\\) `df[(df[\"column\"] == \"value\") | (df[\"column\"] == \"value\")]` -> Returns the rows that satisfy one of the two the condition  \n",
    "#4\\) `df[df[\"column\"].isin([\"value1\", \"value2\"])]` -> Returns the rows that satisfy the condition (the values are in the list passed as argument of the method isin)  \n",
    "#5\\) `df[df[\"column\"].isnull()]` -> Returns the rows that satisfy the condition (only considering the null values of the column)  \n",
    "#6\\) `df[df[\"column\"].notnull()]` -> Returns the rows that satisfy the condition (only considering the not null values of the column)  \n",
    "#7\\) `df[df[\"column\"].str.contains(\"value\")]` -> Returns the rows that satisfy the condition (only considering the values of the column that contain the string passed as argument of the method contains)  \n",
    "#8\\) `df[df[\"column\"].str.startswith(\"value\")]` -> Returns the rows that satisfy the condition (only considering the values of the column that start with the string passed as argument of the method startswith)  \n",
    "#9\\) `df[df[\"column\"].str.endswith(\"value\")]` -> Returns the rows that satisfy the condition (only considering the values of the column that end with the string passed as argument of the method endswith)\n"
   ]
  },
  {
   "cell_type": "code",
   "execution_count": 8,
   "metadata": {},
   "outputs": [
    {
     "name": "stdout",
     "output_type": "stream",
     "text": [
      "<class 'pandas.core.frame.DataFrame'>\n"
     ]
    }
   ],
   "source": [
    "filt1= (df_people[\"first\"]==\"Michele\") &  (df_people[\"last\"]==\"Capitollo\")\n",
    "filt2= (df_people[\"last\"]==\"Turco\")\n",
    "michele=df_people[filt1]\n",
    "gabriele=df_people[~filt1]\n",
    "result=df_people[filt2]\n",
    "\n",
    "\n",
    "high_salary=(df_results[\"ConvertedComp\"]>70000)\n",
    "filtered=(df_results[high_salary])[[\"ConvertedComp\",\"Employment\",\"EdLevel\",\"LanguageWorkedWith\"]]\n",
    "list_of_countries=[\"United States\",\"India\", \"United Kingdom\", \"Germany\"]\n",
    "#To check for multiple values in a column, we can firstly create a list and then use the isin function.\n",
    "filt_country=df_results[\"Country\"].isin(list_of_countries)\n",
    "#We can also consider the filter created as selector for rows in the loc function\n",
    "country=df_results.loc[filt_country,[\"Country\",\"Employment\"]]\n",
    "print(type(result[[\"first\"]]))"
   ]
  },
  {
   "cell_type": "markdown",
   "metadata": {},
   "source": [
    "# 6\\) Updating rows and columns  \n",
    "We can update values of the entire dataframe by using the following methods:  \n",
    "#1\\) `df = df.applymap(function)` -> Updates all the values of the dataframe with the value returned by the function passed as argument  \n",
    "#2\\) `df = df.applymap(lambda x: function)` -> Updates all the values of the dataframe with the value returned by the function passed as argument  \n",
    "#3\\) `df = df.replace(dictionary)` -> Updates all the values of the dataframe with the value returned by the dictionary passed as argument  \n",
    "#4\\) `df = df.replace([list of values], [list of values])` -> Updates all the values of the dataframe with the value returned by the dictionary passed as argument.  \n",
    "\n",
    "We can update the name of the columns by using the following methods:  \n",
    "#1\\) `df.columns = [\"column1\", \"column2\", \"column3\"]` -> Updates the name of the columns with the list passed as argument    \n",
    "#2\\) `df.rename(columns={\"old_name\": \"new_name\"}, inplace=True)` -> Updates the name of the columns with the dictionary passed as argument (It does not change the df, unless we specify Inplace=True)  \n",
    "\n",
    "We can update the values of a column by using the following methods:  \n",
    "#1\\) `df[\"column\"] = \"value\"` -> Updates all the values of the column with the value passed as argument  \n",
    "#2\\) `df[\"column\"] = df[\"column\"].apply(function)` -> Updates all the values of the column with the value returned by the function passed as argument  \n",
    "#3\\) `df[\"column\"] = df[\"column\"].apply(lambda x: function)` -> Updates all the values of the column with the value returned by the function passed as argument.  \n",
    "#4\\) `df[\"column\"] = df[\"column\"].map(dictionary)` -> Updates all the values of the column with the value returned by the dictionary passed as argument (it only works with series). The unchanged values are set to NaN.   \n",
    "#5\\) `df[\"column\"] = df[\"column\"].replace(dictionary)` -> Updates all the values of the column with the value returned by the dictionary passed as argument. The unchanged values are not set to NaN.  \n",
    "#6\\) `df[\"column\"] = df[\"column\"].replace([list of values], [list of values])` -> Updates all the values of the column with the value returned by the dictionary passed as argument.  \n",
    "#7\\) `df[\"column\"] = df[\"column\"].str.string_method()` -> Updates all the values of the column with the value returned by the string method passed as argument.\n",
    "\n",
    "We can update single values of a column by using the following methods:  \n",
    "#1\\) `df.loc[df[\"column\"] == \"value\", \"column\"] = \"new_value\"` -> Updates the value of the column with the new value passed as argument (only considering the rows that satisfy the condition)  \n",
    "#2\\) `df.loc[df[\"column\"] == \"value\", \"column\"] = df[\"column\"].apply(function)` -> Updates the value of the column with the value returned by the function passed as argument (only considering the rows that satisfy the condition)  \n",
    "#3\\) `df.loc[df[\"column\"] == \"value\", \"column\"] = df[\"column\"].apply(lambda x: function)` -> Updates the value of the column with the value returned by the function passed as argument (only considering the rows that satisfy the condition)  \n",
    "\n"
   ]
  },
  {
   "cell_type": "code",
   "execution_count": 9,
   "metadata": {},
   "outputs": [
    {
     "name": "stdout",
     "output_type": "stream",
     "text": [
      "Dataframe that converts each entry in its datatype\n",
      "                          first           last            age        pokemon\n",
      "email                                                                       \n",
      "michele@mail.it   <class 'str'>  <class 'str'>  <class 'int'>  <class 'str'>\n",
      "gabriele@mail.it  <class 'str'>  <class 'str'>  <class 'int'>  <class 'str'>\n",
      "raffaele@mail.it  <class 'str'>  <class 'str'>  <class 'int'>  <class 'str'>\n",
      "email\n",
      "michele@mail.it     200\n",
      "gabriele@mail.it    160\n",
      "raffaele@mail.it    100\n",
      "Name: age, dtype: int64\n"
     ]
    }
   ],
   "source": [
    "df_people_type=df_people.applymap(type)\n",
    "print(\"Dataframe that converts each entry in its datatype:\")\n",
    "print(df_people_type)\n",
    "series_age10= df_people[\"age\"]=df_people[\"age\"].apply(lambda x: 10*x)\n",
    "print(series_age10)"
   ]
  },
  {
   "cell_type": "markdown",
   "metadata": {},
   "source": [
    "# 7) Adding and Removing rows and columns\n",
    "To delete a column, we can use the following methods:  \n",
    "#1\\) `df.drop(\"column\", axis=1, inplace=True)` -> Deletes the column passed as argument (It does not change the df, unless we specify Inplace=True)  \n",
    "#2\\) `df.drop([\"column1\", \"column2\"], axis=1, inplace=True)` -> Deletes the columns passed as argument (It does not change the df, unless we specify Inplace=True)  \n",
    "To delete a row, we use the same methods, but we need to specify axis=0.  \n",
    "#1\\) `df.drop(\"row\", axis=0, inplace=True)` -> Deletes the row passed as argument (It does not change the df, unless we specify Inplace=True)  \n",
    "#2\\) `df.drop([\"row1\", \"row2\"], axis=0, inplace=True)` -> Deletes the rows passed as argument (It does not change the df, unless we specify Inplace=True)\n",
    "To add a column, we can use the following methods:\n",
    "#1\\) `df[\"new_column\"] = \"value\"` -> Adds a new column with the name \"new_column\" and the value \"value\"\n",
    "#2\\) `df[\"new_column\"] = df[\"column\"].apply(function)` -> Adds a new column with the name \"new_column\" and the value returned by the function passed as argument\n",
    "#3\\) `df[\"new_column\"] = df[\"column\"].apply(lambda x: function)` -> Adds a new column with the name \"new_column\" and the value returned by the function passed as argument\n",
    "It is also possible to add a row by creating a new row and appending it to the dataframe:\n",
    "#1\\) `new_row = {\"column1\": \"value1\", \"column2\": \"value2\", \"column3\": \"value3\"}` -> Creates a new row\n",
    "#2\\) `df = df.append(new_row, ignore_index=True)` -> Appends the new row to the dataframe (It does not change the df, unless we specify Inplace=True)\n",
    "To add a row, we can also use the following methods:\n",
    "#1\\) `df.loc[\"new_row\"] = \"value\"` -> Adds a new row with the name \"new_row\" and the value \"value\"\n",
    "#2\\) `df.loc[\"new_row\"] = df[\"column\"].apply(function)` -> Adds a new row with the name \"new_row\" and the value returned by the function passed as argument\n",
    "\n",
    "\n",
    "\n"
   ]
  }
 ],
 "metadata": {
  "kernelspec": {
   "display_name": "Python 3",
   "language": "python",
   "name": "python3"
  },
  "language_info": {
   "codemirror_mode": {
    "name": "ipython",
    "version": 3
   },
   "file_extension": ".py",
   "mimetype": "text/x-python",
   "name": "python",
   "nbconvert_exporter": "python",
   "pygments_lexer": "ipython3",
   "version": "3.11.5"
  },
  "orig_nbformat": 4
 },
 "nbformat": 4,
 "nbformat_minor": 2
}
