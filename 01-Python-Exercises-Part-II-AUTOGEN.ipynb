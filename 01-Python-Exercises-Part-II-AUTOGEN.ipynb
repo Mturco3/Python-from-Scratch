{
  "cells": [
    {
      "cell_type": "markdown",
      "metadata": {
        "slideshow": {
          "slide_type": "slide"
        }
      },
      "source": [
        "<div align=\"center\">\n",
        "\n",
        "# <b style=\"font-family: 'LUISS', 'Lato'\">Python Exercises - Part II</b>\n",
        "<h2 style=\"font-family: 'LUISS', 'Lato'\">Python and R for Data Science</h2>\n",
        "\n",
        "<h3 style=\"font-family: 'LUISS', 'Lato'\">Data Science and Management</h3>\n",
        "<img src=\"https://lollo93.gitlab.io/python-and-r-labs/dist/img/cliente-luiss.png\">\n",
        "\n",
        "<br><br><br>\n",
        "\n",
        "</div>"
      ]
    },
    {
      "cell_type": "markdown",
      "metadata": {
        "slideshow": {
          "slide_type": "slide"
        }
      },
      "source": [
        "## Exercise 1: sum the first n odd numbers\n",
        "\n",
        "Calculate the sum of the first 5 odd numbers (starting from 1).\n",
        "\n",
        "Save the result in a variable `total`.\n",
        "\n",
        "Hint: use a `while`."
      ]
    },
    {
      "cell_type": "code",
      "execution_count": 7,
      "metadata": {},
      "outputs": [
        {
          "name": "stdout",
          "output_type": "stream",
          "text": [
            "25\n"
          ]
        }
      ],
      "source": [
        "# Solution goes here\n",
        "total = 0\n",
        "count = 0\n",
        "current = 1\n",
        "while count<5:\n",
        "    if current%2!=0:\n",
        "        total += current\n",
        "        count += 1\n",
        "    current += 1\n",
        "\n",
        "print(total)"
      ]
    },
    {
      "cell_type": "markdown",
      "metadata": {
        "slideshow": {
          "slide_type": "slide"
        }
      },
      "source": [
        "### Test your code\n",
        "\n",
        "Run this code to test your solution:"
      ]
    },
    {
      "cell_type": "code",
      "execution_count": 8,
      "metadata": {},
      "outputs": [
        {
          "name": "stdout",
          "output_type": "stream",
          "text": [
            "Test passed\n"
          ]
        }
      ],
      "source": [
        "try:\n",
        "    assert total == 25\n",
        "    print('Test passed')\n",
        "except:\n",
        "    print('Test failed')\n"
      ]
    },
    {
      "cell_type": "markdown",
      "metadata": {
        "slideshow": {
          "slide_type": "slide"
        }
      },
      "source": [
        "## Exercise 2: create a modified list\n",
        "\n",
        "Define a list `l1 = [3, 4, 7, 8]`.\n",
        "Define a list `l2` in the following way:\n",
        "- for every element `x` in `l1` that is odd:\n",
        "    - add an element in `l2` that is equal to two times `x`\n",
        "- for every element `x` in `l1` that is even:\n",
        "    - add an element in `l2` that is the index of `x` in `l1`\n",
        "\n",
        "If `l1 = [3, 4, 7, 8]`, then `l2 = [6, 1, 14, 3]`."
      ]
    },
    {
      "cell_type": "code",
      "execution_count": 10,
      "metadata": {},
      "outputs": [
        {
          "name": "stdout",
          "output_type": "stream",
          "text": [
            "[6, 1, 14, 3]\n"
          ]
        }
      ],
      "source": [
        "# Solution goes here\n",
        "l1 = [3, 4, 7, 8]\n",
        "l2 = []\n",
        "\n",
        "for i in range(len(l1)):\n",
        "    if l1[i]%2!=0:\n",
        "        l2.append(2*l1[i])\n",
        "    else:\n",
        "        l2.append(i)\n",
        "print(l2)"
      ]
    },
    {
      "cell_type": "markdown",
      "metadata": {
        "slideshow": {
          "slide_type": "slide"
        }
      },
      "source": [
        "### Test your code\n",
        "\n",
        "Run this code to test your solution:"
      ]
    },
    {
      "cell_type": "code",
      "execution_count": 11,
      "metadata": {},
      "outputs": [
        {
          "name": "stdout",
          "output_type": "stream",
          "text": [
            "Test passed\n"
          ]
        }
      ],
      "source": [
        "try:\n",
        "    assert l2 == [6, 1, 14, 3]\n",
        "    print('Test passed')\n",
        "except:\n",
        "    print('Test failed')"
      ]
    },
    {
      "cell_type": "markdown",
      "metadata": {
        "slideshow": {
          "slide_type": "slide"
        }
      },
      "source": [
        "## Exercise 3: create a list with the greater value between two lists\n",
        "\n",
        "Given two lists `l1` and `l2` of integers of the same length, create a new list `l3` such that each element of `l3` is the greater value between the corresponding elements of `l1` and `l2`.\n",
        "\n",
        "For example:\n",
        "- If `l1 = [3, 4, 7, 8]` and `l2 = [5, 2, 10, 8]`, then `l3` should be `[5, 4, 10, 8]`."
      ]
    },
    {
      "cell_type": "code",
      "execution_count": 1,
      "metadata": {},
      "outputs": [
        {
          "name": "stdout",
          "output_type": "stream",
          "text": [
            "[5, 4, 10, 8]\n"
          ]
        }
      ],
      "source": [
        "# Solution goes here\n",
        "l1 = [3, 4, 7, 8]\n",
        "l2 = [5, 2, 10, 8]\n",
        "l3 = []\n",
        "\n",
        "for i in range(len(l1)):\n",
        "    if l1[i]>l2[i]:\n",
        "        l3.append(l1[i])\n",
        "    else:\n",
        "        l3.append(l2[i])\n",
        "\n",
        "print(l3)\n"
      ]
    },
    {
      "cell_type": "markdown",
      "metadata": {
        "slideshow": {
          "slide_type": "slide"
        }
      },
      "source": [
        "### Test your code\n",
        "\n",
        "Run this code to test your solution:"
      ]
    },
    {
      "cell_type": "code",
      "execution_count": 2,
      "metadata": {},
      "outputs": [
        {
          "name": "stdout",
          "output_type": "stream",
          "text": [
            "Test passed\n"
          ]
        }
      ],
      "source": [
        "try:\n",
        "    assert l3 == [5, 4, 10, 8]\n",
        "    print('Test passed')\n",
        "except:\n",
        "    print('Test failed')"
      ]
    },
    {
      "cell_type": "markdown",
      "metadata": {
        "slideshow": {
          "slide_type": "slide"
        }
      },
      "source": [
        "## Exercise 4: reverse a list\n",
        "\n",
        "Given a list `l1` of integers, create a new list `l2` that contains the elements of `l1` in reverse order.\n",
        "\n",
        "For example:\n",
        "- If `l1 = [3, 4, 7, 8]`, then `l2` should be `[8, 7, 4, 3]`."
      ]
    },
    {
      "cell_type": "code",
      "execution_count": 14,
      "metadata": {},
      "outputs": [],
      "source": [
        "# Solution goes here\n",
        "l1 = [3,4,7,8]\n",
        "\n",
        "l2 = l1[::-1]"
      ]
    },
    {
      "cell_type": "markdown",
      "metadata": {
        "slideshow": {
          "slide_type": "slide"
        }
      },
      "source": [
        "### Test your code\n",
        "\n",
        "Run this code to test your solution:"
      ]
    },
    {
      "cell_type": "code",
      "execution_count": 15,
      "metadata": {},
      "outputs": [
        {
          "name": "stdout",
          "output_type": "stream",
          "text": [
            "Test passed\n"
          ]
        }
      ],
      "source": [
        "try:\n",
        "    assert l2 == [8, 7, 4, 3]\n",
        "    print('Test passed')\n",
        "except:\n",
        "    print('Test failed')\n"
      ]
    },
    {
      "cell_type": "markdown",
      "metadata": {
        "slideshow": {
          "slide_type": "slide"
        }
      },
      "source": [
        "## Exercise 5: find number of unique characters\n",
        "\n",
        "Define a function `count_uniq` that:\n",
        "- takes as arguments:\n",
        "    - a string `s`\n",
        "- returns:\n",
        "    - the number of unique characters in `s`"
      ]
    },
    {
      "cell_type": "code",
      "execution_count": null,
      "metadata": {},
      "outputs": [],
      "source": [
        "# Solution goes here\n",
        "def count_uniq(s):\n",
        "    unique = set()\n",
        "    for letter in s:\n",
        "       unique.add(letter)\n",
        "    return len(list(unique))\n"
      ]
    },
    {
      "cell_type": "markdown",
      "metadata": {
        "slideshow": {
          "slide_type": "slide"
        }
      },
      "source": [
        "### Test your code\n",
        "\n",
        "Run this code to test your solution:"
      ]
    },
    {
      "cell_type": "code",
      "execution_count": 23,
      "metadata": {},
      "outputs": [
        {
          "name": "stdout",
          "output_type": "stream",
          "text": [
            "test\n",
            "Aejeje\n",
            "Test passed\n"
          ]
        }
      ],
      "source": [
        "try: assert count_uniq(\"test\") == 3 and count_uniq(\"Aejeje\") == 3 and not print(\"Test passed\")\n",
        "except: print('Test failed')"
      ]
    },
    {
      "cell_type": "markdown",
      "metadata": {
        "slideshow": {
          "slide_type": "slide"
        }
      },
      "source": [
        "## Exercise 6: remove duplicates\n",
        "\n",
        "Define a function `remove_duplicates` that:\n",
        "- takes as arguments:\n",
        "    - a list `s` of strings\n",
        "- returns:\n",
        "    - a copy of `s` without duplicate elements"
      ]
    },
    {
      "cell_type": "code",
      "execution_count": 1,
      "metadata": {},
      "outputs": [],
      "source": [
        "# Solution goes here\n",
        "def remove_duplicates(l):\n",
        "    return list(set(l))"
      ]
    },
    {
      "cell_type": "markdown",
      "metadata": {
        "slideshow": {
          "slide_type": "slide"
        }
      },
      "source": [
        "### Test your code\n",
        "\n",
        "Run this code to test your solution:"
      ]
    },
    {
      "cell_type": "code",
      "execution_count": 2,
      "metadata": {},
      "outputs": [
        {
          "name": "stdout",
          "output_type": "stream",
          "text": [
            "Test passed\n"
          ]
        }
      ],
      "source": [
        "try: assert sorted(remove_duplicates([\"test\", \"luiss\", \"data\", \"test\", \"science\"])) == sorted([\"test\", \"luiss\", \"data\", \"science\"]) and not print(\"Test passed\")\n",
        "except: print('Test failed')"
      ]
    },
    {
      "cell_type": "markdown",
      "metadata": {
        "slideshow": {
          "slide_type": "slide"
        }
      },
      "source": [
        "## Exercise 7: find common elements\n",
        "\n",
        "Define a function `common_elements` that:\n",
        "- takes as arguments:\n",
        "    - a set `s` of strings\n",
        "\t- a set `k` of strings\n",
        "- returns:\n",
        "    - a set containing all common elements between `s` and `k`"
      ]
    },
    {
      "cell_type": "code",
      "execution_count": null,
      "metadata": {},
      "outputs": [],
      "source": [
        "# Solution goes here\n",
        "def common_elements(set1, set2):\n",
        "    set3 = set()\n",
        "    for s in set1:\n",
        "        if s in set2:\n",
        "            set3.add(s)\n",
        "    return set3"
      ]
    },
    {
      "cell_type": "markdown",
      "metadata": {
        "slideshow": {
          "slide_type": "slide"
        }
      },
      "source": [
        "### Test your code\n",
        "\n",
        "Run this code to test your solution:"
      ]
    },
    {
      "cell_type": "code",
      "execution_count": 4,
      "metadata": {},
      "outputs": [
        {
          "name": "stdout",
          "output_type": "stream",
          "text": [
            "Test passed\n"
          ]
        }
      ],
      "source": [
        "friend1_companies = {'Google', 'Amazon', 'Apple', 'Microsoft'}\n",
        "friend2_companies = {'Facebook', 'Google', 'Tesla', 'Amazon'}\n",
        "try: assert common_elements(friend1_companies, friend2_companies) == {'Google', 'Amazon'} and not print(\"Test passed\")\n",
        "except: print('Test failed')"
      ]
    },
    {
      "cell_type": "markdown",
      "metadata": {
        "slideshow": {
          "slide_type": "slide"
        }
      },
      "source": [
        "## Exercise 8: count word frequency\n",
        "\n",
        "Define a function `word_freq` that:\n",
        "- takes as arguments:\n",
        "    - a string `s`\n",
        "- returns:\n",
        "    - a dictionary containing the frequency (value) within `s` of each word (key) contained in `s`.\n",
        "\n",
        "**NOTE**:\n",
        "- count the word case-insensitive.\n",
        "- split `s` by space to obtain the words."
      ]
    },
    {
      "cell_type": "code",
      "execution_count": 5,
      "metadata": {},
      "outputs": [],
      "source": [
        "# Solution goes here\n",
        "def word_freq(s):\n",
        "    s = s.lower()\n",
        "    l = s.split()\n",
        "    dic = {}\n",
        "    for word in l:\n",
        "        if word in dic.keys():\n",
        "            dic[word] += 1\n",
        "        else:\n",
        "            dic[word] = 1\n",
        "    print(dic)\n",
        "    return dic"
      ]
    },
    {
      "cell_type": "markdown",
      "metadata": {
        "slideshow": {
          "slide_type": "slide"
        }
      },
      "source": [
        "### Test your code\n",
        "\n",
        "Run this code to test your solution:"
      ]
    },
    {
      "cell_type": "code",
      "execution_count": 6,
      "metadata": {},
      "outputs": [
        {
          "name": "stdout",
          "output_type": "stream",
          "text": [
            "{'python': 2, 'is': 2, 'fun': 2, 'and': 1, 'learning': 1}\n",
            "Test passed\n"
          ]
        }
      ],
      "source": [
        "try: assert word_freq(\"Python is fun and learning Python is fun\") == {'python': 2, 'is': 2, 'fun': 2, 'and': 1, 'learning': 1} and not print(\"Test passed\")\n",
        "except: print('Test failed')"
      ]
    },
    {
      "cell_type": "markdown",
      "metadata": {
        "slideshow": {
          "slide_type": "slide"
        }
      },
      "source": [
        "## Exercise 9: track voting results\n",
        "\n",
        "Define a function `update_votes` that:\n",
        "- takes as arguments:\n",
        "    - a dictionary `votes` having as key names of candidates and as value the number of votes received by each one of them\n",
        "\t- a list `new_votes` of names of candidates\n",
        "- returns:\n",
        "    - the `votes` dictionary updated with the new votes received"
      ]
    },
    {
      "cell_type": "code",
      "execution_count": 7,
      "metadata": {},
      "outputs": [],
      "source": [
        "# Solution goes here\n",
        "def update_votes(dic, votes):\n",
        "    for candidate in votes:\n",
        "        dic[candidate] += 1\n",
        "    return dic"
      ]
    },
    {
      "cell_type": "markdown",
      "metadata": {
        "slideshow": {
          "slide_type": "slide"
        }
      },
      "source": [
        "### Test your code\n",
        "\n",
        "Run this code to test your solution:"
      ]
    },
    {
      "cell_type": "code",
      "execution_count": 8,
      "metadata": {},
      "outputs": [
        {
          "name": "stdout",
          "output_type": "stream",
          "text": [
            "Test passed\n"
          ]
        }
      ],
      "source": [
        "votes = {\n",
        "    'Alice': 120,\n",
        "    'Bob': 150,\n",
        "    'Charlie': 90\n",
        "}\n",
        "\n",
        "new_votes = ['Alice', 'Charlie', 'Charlie', 'Bob', 'Alice', 'Alice']\n",
        "try: assert update_votes(votes, new_votes) == {'Alice': 123, 'Bob': 151, 'Charlie': 92} and not print(\"Test passed\")\n",
        "except: print('Test failed')"
      ]
    },
    {
      "cell_type": "markdown",
      "metadata": {
        "slideshow": {
          "slide_type": "slide"
        }
      },
      "source": [
        "## Exercise 10: find how many equal numbers\n",
        "\n",
        "Define a function `count_equals` that:\n",
        "- takes as arguments four numbers\n",
        "- returns:\n",
        "    - the maximum number of equal numbers between the four\n",
        "\n",
        "Example:\n",
        "- `count_equals(1,2,3,4)` should return `0`\n",
        "- `count_equals(1,2,5,4)` should return `0`\n",
        "- `count_equals(1,2,2,2)` should return `3` because there are three `2` in the sequence\n",
        "- `count_equals(1,1,1,2)` should return `3` because there are three `1` in the sequence"
      ]
    },
    {
      "cell_type": "code",
      "execution_count": 14,
      "metadata": {},
      "outputs": [],
      "source": [
        "# Solution goes here\n",
        "def count_equals(i1,i2,i3,i4):\n",
        "    l = [i1,i2,i3,i4]\n",
        "    s = set(l)\n",
        "    result = []\n",
        "    for element in s:\n",
        "        result.append(l.count(element))\n",
        "    if max(result) == 1:\n",
        "        return 0\n",
        "    return max(result)"
      ]
    },
    {
      "cell_type": "markdown",
      "metadata": {
        "slideshow": {
          "slide_type": "slide"
        }
      },
      "source": [
        "### Test your code\n",
        "\n",
        "Run this code to test your solution:"
      ]
    },
    {
      "cell_type": "code",
      "execution_count": 15,
      "metadata": {},
      "outputs": [
        {
          "name": "stdout",
          "output_type": "stream",
          "text": [
            "Test passed\n"
          ]
        }
      ],
      "source": [
        "try: assert count_equals(1,2,3,4) == 0 and count_equals(1,5,3,4) == 0 and count_equals(1,5,5,4) == 2 and count_equals(1,5,1,4) == 2 and count_equals(1,5,5,5) == 3 and not print(\"Test passed\")\n",
        "except: print('Test failed')"
      ]
    },
    {
      "cell_type": "markdown",
      "metadata": {
        "slideshow": {
          "slide_type": "slide"
        }
      },
      "source": [
        "## Exercise 11: Fibonacci's sequence\n",
        "\n",
        "Define a function `fibonacci` that:\n",
        "- takes as arguments:\n",
        "    - an integer number `n`\n",
        "- returns:\n",
        "    - a list containing the first `n` numbers of the Fibonacci's sequence\n",
        "\n",
        "**NOTE**: The Fibonacci sequence is a series of numbers where each number is the sum of the two previous ones, starting with 0 and 1. To calculate it, you begin with 0 and 1, then add these to get the next number. Continue this process to generate the sequence. It goes 0, 1, 1, 2, 3, 5, 8, and so on."
      ]
    },
    {
      "cell_type": "code",
      "execution_count": 55,
      "metadata": {},
      "outputs": [],
      "source": [
        "# Solution goes here"
      ]
    },
    {
      "cell_type": "markdown",
      "metadata": {
        "slideshow": {
          "slide_type": "slide"
        }
      },
      "source": [
        "### Test your code\n",
        "\n",
        "Run this code to test your solution:"
      ]
    },
    {
      "cell_type": "code",
      "execution_count": 57,
      "metadata": {},
      "outputs": [
        {
          "name": "stdout",
          "output_type": "stream",
          "text": [
            "Test passed\n"
          ]
        }
      ],
      "source": [
        "try: assert fibonacci(1) == [0] and fibonacci(3) == [0,1,1] and fibonacci(7) == [0, 1, 1, 2, 3, 5, 8] and not print(\"Test passed\")\n",
        "except: print('Test failed')"
      ]
    },
    {
      "cell_type": "markdown",
      "metadata": {
        "slideshow": {
          "slide_type": "slide"
        }
      },
      "source": [
        "## Exercise 12: zero-sum triplets\n",
        "\n",
        "Define a function `zero_sum_triplets` that:\n",
        "- takes as arguments:\n",
        "    - a list of integers `numbers`\n",
        "- returns:\n",
        "    - the number of triplets whose sum is zero\n",
        "\n",
        "Example:\n",
        "- `zero_sum_triplets([1,-1,0,7,12])` should return `1` because the sum of 1,-1,0 is `0`\n",
        "- `zero_sum_triplets([1,9,0,7,12])` should return `0` because there are no triplets that sum up to zero\n",
        "- `zero_sum_triplets([1,-9,8,6,-14])` should return `2` because the sum of 1,-1,0 is `0` and the sum of 8,6,-14 is `0`\n"
      ]
    },
    {
      "cell_type": "code",
      "execution_count": 58,
      "metadata": {},
      "outputs": [],
      "source": [
        "# Solution goes here"
      ]
    },
    {
      "cell_type": "markdown",
      "metadata": {
        "slideshow": {
          "slide_type": "slide"
        }
      },
      "source": [
        "### Test your code\n",
        "\n",
        "Run this code to test your solution:"
      ]
    },
    {
      "cell_type": "code",
      "execution_count": 60,
      "metadata": {},
      "outputs": [
        {
          "name": "stdout",
          "output_type": "stream",
          "text": [
            "Test passed\n"
          ]
        }
      ],
      "source": [
        "try: assert zero_sum_triplets([1,-1,0,7,12]) == 1 and zero_sum_triplets([1,9,0,7,12]) == 0 and zero_sum_triplets([1,-9,8,6,-14]) == 2 and zero_sum_triplets([0, 0, 0]) == 1 and zero_sum_triplets([5, -5, 0, 10, -10]) == 2 and not print(\"Test passed\")\n",
        "except: print('Test failed')"
      ]
    },
    {
      "cell_type": "markdown",
      "metadata": {
        "slideshow": {
          "slide_type": "slide"
        }
      },
      "source": [
        "## Exercise 13: Collatz\n",
        "\n",
        "Define a function `collatz` that:\n",
        "- takes as argument an integer number `n`\n",
        "- returns:\n",
        "    - a list containing all the numbers generated by the Collatz conjecture (stopping when reaching `1`)\n",
        "\n",
        "**NOTE**: The Collatz Conjecture is a mathematical problem that starts with any positive integer. The process involves two steps: if the number is even, divide it by 2; if it's odd, multiply it by 3 and add 1. Repeat this process with the resulting number. The conjecture suggests that, no matter what number you start with, you'll eventually reach the number 1. "
      ]
    },
    {
      "cell_type": "code",
      "execution_count": 61,
      "metadata": {},
      "outputs": [],
      "source": [
        "# Solution goes here"
      ]
    },
    {
      "cell_type": "markdown",
      "metadata": {
        "slideshow": {
          "slide_type": "slide"
        }
      },
      "source": [
        "### Test your code\n",
        "\n",
        "Run this code to test your solution:"
      ]
    },
    {
      "cell_type": "code",
      "execution_count": 63,
      "metadata": {},
      "outputs": [
        {
          "name": "stdout",
          "output_type": "stream",
          "text": [
            "Test passed\n"
          ]
        }
      ],
      "source": [
        "try: assert collatz(12) == [6,3,10,5,16,8,4,2,1] and collatz(1) == [] and collatz(2) == [1] and collatz(4) == [2,1] and collatz(19) == [58, 29, 88, 44, 22, 11, 34, 17, 52, 26, 13, 40, 20, 10, 5, 16, 8, 4, 2, 1] and not print(\"Test passed\")\n",
        "except: print('Test failed')"
      ]
    },
    {
      "cell_type": "markdown",
      "metadata": {
        "slideshow": {
          "slide_type": "slide"
        }
      },
      "source": [
        "## Exercise 14: Greatest Common Divisor (GCD)\n",
        "\n",
        "Define a function `gcd` that:\n",
        "- takes as argument two integer numbers `a` and `b`\n",
        "- returns:\n",
        "    - the gcd between `a` and `b`"
      ]
    },
    {
      "cell_type": "code",
      "execution_count": 64,
      "metadata": {},
      "outputs": [],
      "source": [
        "# Solution goes here"
      ]
    },
    {
      "cell_type": "markdown",
      "metadata": {
        "slideshow": {
          "slide_type": "slide"
        }
      },
      "source": [
        "### Test your code\n",
        "\n",
        "Run this code to test your solution:"
      ]
    },
    {
      "cell_type": "code",
      "execution_count": 66,
      "metadata": {},
      "outputs": [
        {
          "name": "stdout",
          "output_type": "stream",
          "text": [
            "Test passed\n"
          ]
        }
      ],
      "source": [
        "try: assert gcd(1,2) == 1 and gcd(7,2) == 1 and gcd(4,2) == 2 and gcd(15,25) == 5 and not print(\"Test passed\")\n",
        "except: print('Test failed')"
      ]
    },
    {
      "cell_type": "markdown",
      "metadata": {
        "slideshow": {
          "slide_type": "slide"
        }
      },
      "source": [
        "## Exercise 15: Factorial of a number\n",
        "\n",
        "Define a function `factorial` that:\n",
        "- takes as argument two integer numbers `a`\n",
        "- returns:\n",
        "    - the factorial of `a` (i.e., `n! = n * (n-1) * (n-2) * ... * 1`)"
      ]
    },
    {
      "cell_type": "code",
      "execution_count": 67,
      "metadata": {},
      "outputs": [],
      "source": [
        "# Solution goes here"
      ]
    },
    {
      "cell_type": "markdown",
      "metadata": {
        "slideshow": {
          "slide_type": "slide"
        }
      },
      "source": [
        "### Test your code\n",
        "\n",
        "Run this code to test your solution:"
      ]
    },
    {
      "cell_type": "code",
      "execution_count": 69,
      "metadata": {},
      "outputs": [
        {
          "name": "stdout",
          "output_type": "stream",
          "text": [
            "Test passed\n"
          ]
        }
      ],
      "source": [
        "try: assert factorial(1) == 1 and factorial(0) == 1 and factorial(5) == 120 and not print(\"Test passed\")\n",
        "except: print('Test failed')"
      ]
    },
    {
      "cell_type": "markdown",
      "metadata": {
        "slideshow": {
          "slide_type": "slide"
        }
      },
      "source": [
        "## Exercise 16: Count vowels in a string\n",
        "\n",
        "Define a function `vowels_counter` that:\n",
        "- takes as argument a string `a`\n",
        "- returns:\n",
        "    - a dictionary with as key each vowel and as values the occurrencies of each vowel"
      ]
    },
    {
      "cell_type": "code",
      "execution_count": 70,
      "metadata": {},
      "outputs": [],
      "source": [
        "# Solution goes here"
      ]
    },
    {
      "cell_type": "markdown",
      "metadata": {
        "slideshow": {
          "slide_type": "slide"
        }
      },
      "source": [
        "### Test your code\n",
        "\n",
        "Run this code to test your solution:"
      ]
    },
    {
      "cell_type": "code",
      "execution_count": 72,
      "metadata": {},
      "outputs": [
        {
          "name": "stdout",
          "output_type": "stream",
          "text": [
            "Test passed\n"
          ]
        }
      ],
      "source": [
        "try: assert vowels_counter(\"ciao\") == {'i': 1, 'a': 1, 'o': 1} and vowels_counter(\"abbecedario\") == {'a': 2, 'e': 2, 'i': 1, 'o': 1} and vowels_counter(\"aiuole\") == {\"e\":1,\"a\":1,\"o\":1,\"u\":1,\"i\":1} and not print(\"Test passed\")\n",
        "except: print('Test failed')"
      ]
    },
    {
      "cell_type": "markdown",
      "metadata": {
        "slideshow": {
          "slide_type": "slide"
        }
      },
      "source": [
        "## Exercise 17: Find missing number in a sequence\n",
        "\n",
        "Define a function `find_missing` that:\n",
        "- Takes a list of `n-1` integers, which represents a sequence of numbers from 1 to `n`, but one number is missing.\n",
        "- Returns the missing number.\n",
        "\n",
        "**NOTE**: Suppose that there is always only one number missing\n",
        "\n",
        "Example:\n",
        "- `find_missing([1, 2, 4, 5])` should return `3`.\n",
        "- `find_missing([2, 3, 4, 6, 1])` should return `5`."
      ]
    },
    {
      "cell_type": "code",
      "execution_count": 73,
      "metadata": {},
      "outputs": [],
      "source": [
        "# Solution goes here"
      ]
    },
    {
      "cell_type": "markdown",
      "metadata": {
        "slideshow": {
          "slide_type": "slide"
        }
      },
      "source": [
        "### Test your code\n",
        "\n",
        "Run this code to test your solution:"
      ]
    },
    {
      "cell_type": "code",
      "execution_count": 75,
      "metadata": {},
      "outputs": [
        {
          "name": "stdout",
          "output_type": "stream",
          "text": [
            "Test passed\n"
          ]
        }
      ],
      "source": [
        "try: assert find_missing([1, 2, 4, 5]) == 3 and find_missing([2, 3, 4, 6, 1]) == 5 and not print(\"Test passed\")\n",
        "except: print('Test failed')"
      ]
    },
    {
      "cell_type": "markdown",
      "metadata": {
        "slideshow": {
          "slide_type": "slide"
        }
      },
      "source": [
        "## Exercise 18: Longest Substring Without Repeating Characters\n",
        "\n",
        "Define a function `longest_unique_substring` that:\n",
        "- Takes a string as input.\n",
        "- Returns the length of the longest substring that contains only unique characters.\n",
        "\n",
        "Example:\n",
        "- `longest_unique_substring(\"abcabcbb\")` should return `3` (substring \"abc\").\n",
        "- `longest_unique_substring(\"bbbbb\")` should return `1`."
      ]
    },
    {
      "cell_type": "code",
      "execution_count": 76,
      "metadata": {},
      "outputs": [],
      "source": [
        "# Solution goes here"
      ]
    },
    {
      "cell_type": "markdown",
      "metadata": {
        "slideshow": {
          "slide_type": "slide"
        }
      },
      "source": [
        "### Test your code\n",
        "\n",
        "Run this code to test your solution:"
      ]
    },
    {
      "cell_type": "code",
      "execution_count": 79,
      "metadata": {},
      "outputs": [
        {
          "name": "stdout",
          "output_type": "stream",
          "text": [
            "Test passed\n"
          ]
        }
      ],
      "source": [
        "try: assert longest_unique_substring(\"abcabcbb\") == 3 and longest_unique_substring(\"bbbbb\") == 1 and not print(\"Test passed\")\n",
        "except: print('Test failed')"
      ]
    },
    {
      "cell_type": "markdown",
      "metadata": {
        "slideshow": {
          "slide_type": "slide"
        }
      },
      "source": [
        "## Exercise 19: Find the Majority Element\n",
        "\n",
        "Define a function `majority_element` that:\n",
        "- Takes a list of integers as input.\n",
        "- Returns the element that appears more than half of the time in the list (if it exists). If no such element exists, return `None`.\n",
        "\n",
        "Example:\n",
        "- `majority_element([3, 3, 4, 2, 3, 3, 5])` should return `3`.\n",
        "- `majority_element([1, 2, 3, 4, 5])` should return `None`."
      ]
    },
    {
      "cell_type": "code",
      "execution_count": 80,
      "metadata": {},
      "outputs": [],
      "source": [
        "# Solution goes here"
      ]
    },
    {
      "cell_type": "code",
      "execution_count": 81,
      "metadata": {},
      "outputs": [],
      "source": [
        "def majority_element(nums):\n",
        "    # Initialize an empty dictionary 'count' to store the frequency of each number\n",
        "    count = {}\n",
        "    \n",
        "    # Get the length of the input list 'nums'\n",
        "    n = len(nums)\n",
        "    \n",
        "    # Iterate over each number in the list 'nums'\n",
        "    for num in nums:\n",
        "        # If the number 'num' is already in the count dictionary, increment its count by 1\n",
        "        if num in count:\n",
        "            count[num] = count[num] + 1\n",
        "        # If the number 'num' is not in the count dictionary, add it with a count of 1\n",
        "        else:\n",
        "            count[num] = 1\n",
        "        \n",
        "        # Check if the count of the current number exceeds half of the list length\n",
        "        if count[num] > n // 2:\n",
        "            # If so, return the current number as the majority element\n",
        "            return num\n",
        "    \n",
        "    # If no majority element is found, return None\n",
        "    return None\n"
      ]
    },
    {
      "cell_type": "markdown",
      "metadata": {
        "slideshow": {
          "slide_type": "slide"
        }
      },
      "source": [
        "### Test your code\n",
        "\n",
        "Run this code to test your solution:"
      ]
    },
    {
      "cell_type": "code",
      "execution_count": 82,
      "metadata": {},
      "outputs": [
        {
          "name": "stdout",
          "output_type": "stream",
          "text": [
            "Test passed\n"
          ]
        }
      ],
      "source": [
        "try: assert majority_element([3, 3, 4, 2, 3, 3, 5]) == 3 and majority_element([1, 2, 3, 4, 5]) == None and not print(\"Test passed\")\n",
        "except: print('Test failed')"
      ]
    },
    {
      "cell_type": "markdown",
      "metadata": {
        "slideshow": {
          "slide_type": "slide"
        }
      },
      "source": [
        "## Exercise 20: Check Palindrome\n",
        "\n",
        "Define a function `is_palindrome` that:\n",
        "- Takes a string as input.\n",
        "- Returns `True` if the string is a palindrome, and `False` otherwise.\n",
        "\n",
        "**NOTE**: A palindrome is a word, phrase, number, or other sequence of characters that reads the same forward and backward (**ignoring spaces, punctuation, and capitalization**).\n",
        "\n",
        "Example:\n",
        "- `is_palindrome(\"racecar\")` should return `True`.\n",
        "- `is_palindrome(\"hello\")` should return `False`.\n",
        "- `is_palindrome(\"A man, a plan, a canal, Panama\")` should return `True`."
      ]
    },
    {
      "cell_type": "code",
      "execution_count": 83,
      "metadata": {
        "vscode": {
          "languageId": "markdown"
        }
      },
      "outputs": [],
      "source": [
        "# Solution goes here"
      ]
    },
    {
      "cell_type": "markdown",
      "metadata": {
        "slideshow": {
          "slide_type": "slide"
        }
      },
      "source": [
        "### Test your code\n",
        "\n",
        "Run this code to test your solution:"
      ]
    },
    {
      "cell_type": "code",
      "execution_count": 85,
      "metadata": {},
      "outputs": [
        {
          "name": "stdout",
          "output_type": "stream",
          "text": [
            "Test passed\n"
          ]
        }
      ],
      "source": [
        "try: assert is_palindrome(\"racecar\") and not is_palindrome(\"hello\") and is_palindrome(\"A man, a plan, a canal, Panama\") and not print(\"Test passed\")\n",
        "except: print('Test failed')"
      ]
    },
    {
      "cell_type": "markdown",
      "metadata": {
        "slideshow": {
          "slide_type": "slide"
        }
      },
      "source": [
        "## Exercise 21: Implement ROT13 Cipher\n",
        "\n",
        "Define a function `rot13` that:\n",
        "- Takes a string as input.\n",
        "- Returns a new string where each letter is replaced by the letter 13 positions after it in the alphabet. If the shift passes the end of the alphabet, it wraps around to the beginning. Non-alphabetic characters should remain unchanged.\n",
        "\n",
        "**NOTE**: \n",
        "- ROT13 is a special case of the Caesar cipher, which is a simple substitution cipher where each letter in the plaintext is shifted a certain number of places down or up the alphabet. In the case of ROT13, the shift is 13 places.\n",
        "- Consider an alphabet of 26 letters: `\"abcdefghijklmnopqrstuvwxyz\"`\n",
        "- `ord(c)` returns an integer representing `c`.\n",
        "- `chr(x)` returns the character associated with integer `x`.\n",
        "\n",
        "Example:\n",
        "- `rot13(\"hello\")` should return `\"uryyb\"`.\n",
        "- `rot13(\"uryyb\")` should return `\"hello\"`.\n",
        "- `rot13(\"hello, world!\")` should return `\"uryyb, jbeyq!\"`."
      ]
    },
    {
      "cell_type": "code",
      "execution_count": 86,
      "metadata": {
        "slideshow": {
          "slide_type": "slide"
        },
        "vscode": {
          "languageId": "markdown"
        }
      },
      "outputs": [],
      "source": [
        "# Solution goes here"
      ]
    },
    {
      "cell_type": "markdown",
      "metadata": {
        "slideshow": {
          "slide_type": "slide"
        }
      },
      "source": [
        "### Test your code\n",
        "\n",
        "Run this code to test your solution:"
      ]
    },
    {
      "cell_type": "code",
      "execution_count": 88,
      "metadata": {},
      "outputs": [
        {
          "name": "stdout",
          "output_type": "stream",
          "text": [
            "Test passed\n"
          ]
        }
      ],
      "source": [
        "try: assert rot13(\"hello\") == \"uryyb\" and rot13(\"uryyb\") == \"hello\" and rot13(\"hello, world!\") == \"uryyb, jbeyq!\" and not print(\"Test passed\")\n",
        "except: print('Test failed')\n"
      ]
    }
  ],
  "metadata": {
    "kernelspec": {
      "display_name": "Python 3",
      "language": "python",
      "name": "python3"
    },
    "language_info": {
      "codemirror_mode": {
        "name": "ipython",
        "version": 3
      },
      "file_extension": ".py",
      "mimetype": "text/x-python",
      "name": "python",
      "nbconvert_exporter": "python",
      "pygments_lexer": "ipython3",
      "version": "3.13.2"
    }
  },
  "nbformat": 4,
  "nbformat_minor": 4
}
