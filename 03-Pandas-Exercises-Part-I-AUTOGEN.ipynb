{
  "cells": [
    {
      "cell_type": "markdown",
      "metadata": {
        "slideshow": {
          "slide_type": "slide"
        }
      },
      "source": [
        "<div align=\"center\">\n",
        "\n",
        "# <b style=\"font-family: 'LUISS', 'Lato'\">Pandas Exercises - Part I</b>\n",
        "<h2 style=\"font-family: 'LUISS', 'Lato'\">Python and R for Data Science</h2>\n",
        "\n",
        "<h3 style=\"font-family: 'LUISS', 'Lato'\">Data Science and Management</h3>\n",
        "<img src=\"https://lollo93.gitlab.io/python-and-r-labs/dist/img/cliente-luiss.png\">\n",
        "\n",
        "<br><br><br>\n",
        "\n",
        "</div>"
      ]
    },
    {
      "cell_type": "markdown",
      "metadata": {
        "slideshow": {
          "slide_type": "slide"
        }
      },
      "source": [
        "## Exercise 1: DataFrame from a dictionary\n",
        "\n",
        "Write a a function `build_df` that takes a dictionary as input and returns a DataFrame. The dictionary should have the following structure:\n",
        "- keys: column names\n",
        "- values: lists of values for each column"
      ]
    },
    {
      "cell_type": "code",
      "execution_count": 1,
      "metadata": {
        "slideshow": {
          "slide_type": "slide"
        }
      },
      "outputs": [],
      "source": [
        "# Solution goes here\n",
        "import pandas as pd\n",
        "def build_df(data):\n",
        "    df = pd.DataFrame(data)\n",
        "    return df"
      ]
    },
    {
      "cell_type": "markdown",
      "metadata": {
        "slideshow": {
          "slide_type": "slide"
        }
      },
      "source": [
        "### Test your code\n",
        "\n",
        "Run this code to test your solution:"
      ]
    },
    {
      "cell_type": "code",
      "execution_count": 2,
      "metadata": {},
      "outputs": [],
      "source": [
        "# Test case 1: Basic functionality\n",
        "data = {\n",
        "    'column1': [1, 2, 3, 4],\n",
        "    'column2': ['a', 'b', 'c', 'd']\n",
        "}\n",
        "df = build_df(data)\n",
        "assert df.equals(pd.DataFrame(data)), \"Test case 1 failed\"\n",
        "\n",
        "# Test case 2: Empty dictionary\n",
        "data = {}\n",
        "df = build_df(data)\n",
        "assert df.equals(pd.DataFrame(data)), \"Test case 2 failed\"\n",
        "\n",
        "# Test case 3: Single column\n",
        "data = {\n",
        "    'column1': [1, 2, 3]\n",
        "}\n",
        "df = build_df(data)\n",
        "assert df.equals(pd.DataFrame(data)), \"Test case 3 failed\"\n",
        "\n",
        "# Test case 4: Different data types\n",
        "data = {\n",
        "    'column1': [1, 2, 3],\n",
        "    'column2': [1.1, 2.2, 3.3],\n",
        "    'column3': ['x', 'y', 'z']\n",
        "}\n",
        "df = build_df(data)\n",
        "assert df.equals(pd.DataFrame(data)), \"Test case 4 failed\""
      ]
    },
    {
      "cell_type": "markdown",
      "metadata": {
        "slideshow": {
          "slide_type": "slide"
        }
      },
      "source": [
        "## Exercise 2: DataFrame with index labels\n",
        "\n",
        "Write a Python function `build_df_with_index` that takes a dictionary of data and a list of index labels as arguments, and returns a pandas DataFrame with the specified index labels applied."
      ]
    },
    {
      "cell_type": "code",
      "execution_count": 3,
      "metadata": {
        "slideshow": {
          "slide_type": "slide"
        }
      },
      "outputs": [],
      "source": [
        "# Solution goes here\n",
        "def build_df_with_index(data, labels):\n",
        "    return pd.DataFrame(data, labels)"
      ]
    },
    {
      "cell_type": "markdown",
      "metadata": {
        "slideshow": {
          "slide_type": "slide"
        }
      },
      "source": [
        "### Test your code\n",
        "\n",
        "Run this code to test your solution:"
      ]
    },
    {
      "cell_type": "code",
      "execution_count": 4,
      "metadata": {},
      "outputs": [
        {
          "name": "stdout",
          "output_type": "stream",
          "text": [
            "Test case 1 passed.\n",
            "Test case 2 passed.\n",
            "Test case 3 passed.\n",
            "Test case 4 passed.\n"
          ]
        }
      ],
      "source": [
        "import pandas as pd\n",
        "import numpy as np\n",
        "\n",
        "\n",
        "# Test case 1: Basic functionality with valid data and labels\n",
        "exam_data = {\n",
        "    'name': ['Anastasia', 'Dima', 'Katherine', 'James', 'Emily', 'Michael', 'Matthew', 'Laura', 'Kevin', 'Jonas'],\n",
        "    'score': [12.5, 9, 16.5, np.nan, 9, 20, 14.5, np.nan, 8, 19],\n",
        "    'attempts': [1, 3, 2, 3, 2, 3, 1, 1, 2, 1],\n",
        "    'qualify': ['yes', 'no', 'yes', 'no', 'no', 'yes', 'yes', 'no', 'no', 'yes']\n",
        "}\n",
        "labels = ['a', 'b', 'c', 'd', 'e', 'f', 'g', 'h', 'i', 'j']\n",
        "\n",
        "df = build_df_with_index(exam_data, labels)\n",
        "\n",
        "# Verify DataFrame shape\n",
        "assert df.shape == (10, 4), \"Test case 1 failed: Incorrect DataFrame shape\"\n",
        "\n",
        "# Verify index labels\n",
        "assert list(df.index) == labels, \"Test case 1 failed: Index labels do not match\"\n",
        "\n",
        "# Verify column names\n",
        "assert list(df.columns) == ['name', 'score', 'attempts', 'qualify'], \"Test case 1 failed: Column names do not match\"\n",
        "\n",
        "# Verify data values\n",
        "assert df.loc['a', 'name'] == 'Anastasia', \"Test case 1 failed: Incorrect data in 'name' column\"\n",
        "assert df.loc['c', 'score'] == 16.5, \"Test case 1 failed: Incorrect data in 'score' column\"\n",
        "assert pd.isna(df.loc['d', 'score']), \"Test case 1 failed: Expected NaN value in 'score' column\"\n",
        "assert df.loc['j', 'qualify'] == 'yes', \"Test case 1 failed: Incorrect data in 'qualify' column\"\n",
        "print(\"Test case 1 passed.\")\n",
        "\n",
        "# Test case 2: Empty data dictionary and labels\n",
        "empty_data = {}\n",
        "empty_labels = []\n",
        "\n",
        "df_empty = build_df_with_index(empty_data, empty_labels)\n",
        "\n",
        "# Verify DataFrame is empty\n",
        "assert df_empty.empty, \"Test case 2 failed: DataFrame should be empty\"\n",
        "print(\"Test case 2 passed.\")\n",
        "\n",
        "# Test case 3: Mismatched data length and labels (should raise an error)\n",
        "mismatched_labels = ['a', 'b', 'c']\n",
        "try:\n",
        "    build_df_with_index(exam_data, mismatched_labels)\n",
        "    print(\"Test case 3 failed: Expected an error due to mismatched labels length\")\n",
        "except ValueError:\n",
        "    print(\"Test case 3 passed.\")\n",
        "\n",
        "# Test case 4: Non-string labels (numbers as labels)\n",
        "numeric_labels = [1, 2, 3, 4, 5, 6, 7, 8, 9, 10]\n",
        "\n",
        "df_numeric_labels = build_df_with_index(exam_data, numeric_labels)\n",
        "\n",
        "# Verify DataFrame index with numeric labels\n",
        "assert list(df_numeric_labels.index) == numeric_labels, \"Test case 4 failed: Index labels do not match\"\n",
        "print(\"Test case 4 passed.\")"
      ]
    },
    {
      "cell_type": "markdown",
      "metadata": {
        "slideshow": {
          "slide_type": "slide"
        }
      },
      "source": [
        "## Exercise 3: Extract first rows from a DataFrame\n",
        "\n",
        "Define a function `get_first_n_rows(df, n)` that:\n",
        "  - Takes a pandas DataFrame `df` and an integer `n`.\n",
        "  - Returns a new DataFrame with the first `n` rows of `df`."
      ]
    },
    {
      "cell_type": "code",
      "execution_count": 5,
      "metadata": {
        "slideshow": {
          "slide_type": "slide"
        }
      },
      "outputs": [],
      "source": [
        "# Solution goes here\n",
        "def get_first_n_rows(df, n):\n",
        "    return df.head(n)"
      ]
    },
    {
      "cell_type": "markdown",
      "metadata": {
        "slideshow": {
          "slide_type": "slide"
        }
      },
      "source": [
        "### Test your code\n",
        "\n",
        "Run this code to test your solution:"
      ]
    },
    {
      "cell_type": "code",
      "execution_count": 6,
      "metadata": {},
      "outputs": [],
      "source": [
        "import numpy as np\n",
        "\n",
        "exam_data = {\n",
        "    'name': ['Anastasia', 'Dima', 'Katherine', 'James', 'Emily', 'Michael', 'Matthew', 'Laura', 'Kevin', 'Jonas'],\n",
        "    'score': [12.5, 9, 16.5, np.nan, 9, 20, 14.5, np.nan, 8, 19],\n",
        "    'attempts': [1, 3, 2, 3, 2, 3, 1, 1, 2, 1],\n",
        "    'qualify': ['yes', 'no', 'yes', 'no', 'no', 'yes', 'yes', 'no', 'no', 'yes']\n",
        "}\n",
        "labels = ['a', 'b', 'c', 'd', 'e', 'f', 'g', 'h', 'i', 'j']\n",
        "df = pd.DataFrame(exam_data, index=labels)\n",
        "\n",
        "# Test case 1: Get first 3 rows\n",
        "result = get_first_n_rows(df, 3)\n",
        "assert result.equals(df.iloc[:3]), \"Test case 1 failed: First 3 rows do not match\"\n",
        "\n",
        "# Test case 2: Get first 5 rows\n",
        "result = get_first_n_rows(df, 5)\n",
        "assert result.equals(df.iloc[:5]), \"Test case 2 failed: First 5 rows do not match\"\n",
        "\n",
        "# Test case 3: Get first 0 rows (empty result)\n",
        "result = get_first_n_rows(df, 0)\n",
        "assert result.equals(df.iloc[:0]), \"Test case 3 failed: Expected an empty DataFrame\"\n",
        "\n",
        "# Test case 4: Get first 10 rows (full DataFrame)\n",
        "result = get_first_n_rows(df, 10)\n",
        "assert result.equals(df), \"Test case 4 failed: Expected the full DataFrame\""
      ]
    },
    {
      "cell_type": "markdown",
      "metadata": {
        "slideshow": {
          "slide_type": "slide"
        }
      },
      "source": [
        "## Exercise 4: Select columns from a DataFrame\n",
        "\n",
        "Define a function `select_from_df(df, columns)` that:\n",
        "- Takes two arguments:\n",
        "    - `df`: A pandas DataFrame containing the original data.\n",
        "    - `columns`: A list of column names to include in the output DataFrame.\n",
        "- Returns a new DataFrame containing only the columns specified in `columns`. If a column in `columns` does not exist in `df`, the function should raise a `KeyError` (as pandas would do)."
      ]
    },
    {
      "cell_type": "code",
      "execution_count": 13,
      "metadata": {
        "slideshow": {
          "slide_type": "slide"
        }
      },
      "outputs": [],
      "source": [
        "# Your solution goes here\n",
        "def select_from_df(df, columns):\n",
        "    return df[columns]"
      ]
    },
    {
      "cell_type": "markdown",
      "metadata": {
        "slideshow": {
          "slide_type": "slide"
        }
      },
      "source": [
        "### Test your code"
      ]
    },
    {
      "cell_type": "code",
      "execution_count": 14,
      "metadata": {},
      "outputs": [],
      "source": [
        "# Sample DataFrame setup\n",
        "data = {\n",
        "    'name': ['Alice', 'Bob', 'Charlie', 'David'],\n",
        "    'age': [24, 27, 22, 32],\n",
        "    'city': ['New York', 'Los Angeles', 'Chicago', 'Houston'],\n",
        "    'score': [85, 90, 88, 95]\n",
        "}\n",
        "df = pd.DataFrame(data)\n",
        "\n",
        "# Test case 1: Select 'name' and 'score' columns\n",
        "result = select_from_df(df, ['name', 'score'])\n",
        "expected_df = df[['name', 'score']]\n",
        "assert result.equals(expected_df), \"Test case 1 failed: Expected DataFrame with 'name' and 'score' columns only.\"\n",
        "\n",
        "# Test case 2: Select single column 'age'\n",
        "result = select_from_df(df, ['age'])\n",
        "expected_df = df[['age']]\n",
        "assert result.equals(expected_df), \"Test case 2 failed: Expected DataFrame with 'age' column only.\"\n",
        "\n",
        "# Test case 3: Select all columns\n",
        "result = select_from_df(df, ['name', 'age', 'city', 'score'])\n",
        "assert result.equals(df), \"Test case 3 failed: Expected full DataFrame.\"\n",
        "\n",
        "# Test case 4: Non-existent column\n",
        "try:\n",
        "    select_from_df(df, ['name', 'non_existent_column'])\n",
        "    print(\"Test case 4 failed: Expected KeyError for non-existent column.\")\n",
        "except KeyError:\n",
        "    pass\n",
        "    # print(\"Test case 4 passed: KeyError raised as expected.\")"
      ]
    },
    {
      "cell_type": "markdown",
      "metadata": {
        "slideshow": {
          "slide_type": "slide"
        }
      },
      "source": [
        "## Exercise 5: Select Rows with Column Values Greater Than a Specified Value\n",
        "\n",
        "Define a function `select_row_column_greater_than_value(df, column, value)` that:\n",
        "- Takes three arguments:\n",
        "    - `df`: A pandas DataFrame containing the original data.\n",
        "    - `column`: A string representing the name of the column to compare.\n",
        "    - `value`: A numeric value to compare against.\n",
        "- Returns a new DataFrame with only the rows where the specified column’s value is greater than `value`.\n",
        "- If the column does not exist in `df`, the function should raise a `KeyError` (as done by `pandas`)."
      ]
    },
    {
      "cell_type": "code",
      "execution_count": 26,
      "metadata": {
        "slideshow": {
          "slide_type": "slide"
        }
      },
      "outputs": [],
      "source": [
        "# your solution goes here\n",
        "def select_row_column_greater_than_value(df, column, value):\n",
        "    return df.loc[df[column]>value]\n"
      ]
    },
    {
      "cell_type": "markdown",
      "metadata": {
        "slideshow": {
          "slide_type": "slide"
        }
      },
      "source": [
        "### Test your code"
      ]
    },
    {
      "cell_type": "code",
      "execution_count": 27,
      "metadata": {},
      "outputs": [],
      "source": [
        "# Sample DataFrame setup\n",
        "data = {\n",
        "    'name': ['Alice', 'Bob', 'Charlie', 'David'],\n",
        "    'age': [24, 27, 22, 32],\n",
        "    'score': [85, 90, 88, 95]\n",
        "}\n",
        "df = pd.DataFrame(data)\n",
        "\n",
        "# Test case 1: Select rows where 'age' is greater than 25\n",
        "result = select_row_column_greater_than_value(df, 'age', 25)\n",
        "expected_df = df[df['age'] > 25]\n",
        "assert result.equals(expected_df), \"Test case 1 failed: Expected rows where 'age' > 25\"\n",
        "\n",
        "# Test case 2: Select rows where 'score' is greater than 88\n",
        "result = select_row_column_greater_than_value(df, 'score', 88)\n",
        "expected_df = df[df['score'] > 88]\n",
        "assert result.equals(expected_df), \"Test case 2 failed: Expected rows where 'score' > 88\"\n",
        "\n",
        "# Test case 3: Select rows where 'age' is greater than a high value (empty result)\n",
        "result = select_row_column_greater_than_value(df, 'age', 100)\n",
        "assert result.empty, \"Test case 3 failed: Expected empty DataFrame when no rows meet criteria\"\n",
        "\n",
        "# Test case 4: Non-existent column\n",
        "try:\n",
        "    select_row_column_greater_than_value(df, 'height', 25)\n",
        "    print(\"Test case 4 failed: Expected KeyError for non-existent column\")\n",
        "except KeyError:\n",
        "    # print(\"Test case 4 passed: KeyError raised as expected\")\n",
        "    pass"
      ]
    },
    {
      "cell_type": "markdown",
      "metadata": {
        "slideshow": {
          "slide_type": "slide"
        }
      },
      "source": [
        "## Exercise 6: DataFrame with null values\n",
        "\n",
        "Define a function that takes a DataFrame as input and returns two values: a subset of the DataFrame containing only the rows with null (NaN) values, and the count of rows with null values.\n",
        "\n",
        "In particular, define a function `find_and_count_rows_with_null(df)` that:\n",
        "- Takes one argument:\n",
        "    - `df`: A pandas DataFrame.\n",
        "- Returns two values:\n",
        "    - A new DataFrame containing only the rows from `df` that have at least one null value.\n",
        "    - An integer representing the number of rows in `df` that contain at least one null value."
      ]
    },
    {
      "cell_type": "code",
      "execution_count": null,
      "metadata": {
        "slideshow": {
          "slide_type": "slide"
        }
      },
      "outputs": [
        {
          "data": {
            "text/plain": [
              "(      name  age  score\n",
              " 1      Bob  NaN   90.0\n",
              " 2  Charlie  NaN    NaN,\n",
              " 2)"
            ]
          },
          "execution_count": 50,
          "metadata": {},
          "output_type": "execute_result"
        }
      ],
      "source": [
        "# Solution goes here\n",
        "def find_and_count_rows_with_null(df):\n",
        "    return df[df.isna().sum(axis = 1)>0], len(df[df.isna().sum(axis = 1)>0])\n",
        "\n",
        "data = {\n",
        "    'name': ['Alice', 'Bob', 'Charlie', 'David'],\n",
        "    'age': [24, np.nan, np.nan, 32],\n",
        "    'score': [85, 90, np.nan, 95]\n",
        "}\n",
        "df = pd.DataFrame(data)\n",
        "\n",
        "find_and_count_rows_with_null(df)"
      ]
    },
    {
      "cell_type": "markdown",
      "metadata": {
        "slideshow": {
          "slide_type": "slide"
        }
      },
      "source": [
        "### Test your code"
      ]
    },
    {
      "cell_type": "code",
      "execution_count": 51,
      "metadata": {},
      "outputs": [],
      "source": [
        "import numpy as np\n",
        "\n",
        "# Sample DataFrame setup\n",
        "data = {\n",
        "    'name': ['Alice', 'Bob', 'Charlie', 'David'],\n",
        "    'age': [24, np.nan, 22, 32],\n",
        "    'score': [85, 90, np.nan, 95]\n",
        "}\n",
        "df = pd.DataFrame(data)\n",
        "\n",
        "# Test case 1: Basic functionality\n",
        "rows_with_null, count_null_rows = find_and_count_rows_with_null(df)\n",
        "expected_rows = df[df.isnull().any(axis=1)]\n",
        "assert rows_with_null.equals(expected_rows), \"Test case 1 failed: Expected rows with null values do not match\"\n",
        "assert count_null_rows == 2, \"Test case 1 failed: Expected count of rows with null values is 2\"\n",
        "\n",
        "# Test case 2: No null values\n",
        "data_no_nulls = {\n",
        "    'name': ['Alice', 'Bob', 'Charlie', 'David'],\n",
        "    'age': [24, 28, 22, 32],\n",
        "    'score': [85, 90, 88, 95]\n",
        "}\n",
        "df_no_nulls = pd.DataFrame(data_no_nulls)\n",
        "rows_with_null, count_null_rows = find_and_count_rows_with_null(df_no_nulls)\n",
        "assert rows_with_null.empty, \"Test case 2 failed: Expected empty DataFrame for rows with null values\"\n",
        "assert count_null_rows == 0, \"Test case 2 failed: Expected count of rows with null values is 0\"\n",
        "\n",
        "# Test case 3: All rows have null values in at least one column\n",
        "data_all_nulls = {\n",
        "    'name': ['Alice', 'Bob', np.nan, 'David'],\n",
        "    'age': [np.nan, np.nan, np.nan, np.nan],\n",
        "    'score': [85, np.nan, np.nan, 95]\n",
        "}\n",
        "df_all_nulls = pd.DataFrame(data_all_nulls)\n",
        "rows_with_null, count_null_rows = find_and_count_rows_with_null(df_all_nulls)\n",
        "assert rows_with_null.equals(df_all_nulls), \"Test case 3 failed: Expected entire DataFrame for rows with null values\"\n",
        "assert count_null_rows == 4, \"Test case 3 failed: Expected count of rows with null values is 4\""
      ]
    },
    {
      "cell_type": "markdown",
      "metadata": {
        "slideshow": {
          "slide_type": "slide"
        }
      },
      "source": [
        "## Exercise 7: Sum of values from a DataFrame\n",
        "\n",
        "Define a function that takes a DataFrame and a column name as input and returns the sum of all values in the specified column. In particular, define a function `sum_from_column(df, column)` that:\n",
        "- Takes two arguments:\n",
        "    - `df`: A pandas DataFrame containing the data.\n",
        "    - `column`: A string representing the name of the column to sum.\n",
        "- Returns the sum of all values in the specified column.\n",
        "- If the column contains any null values, the function should ignore these values in the sum.\n",
        "- If the column does not exist in `df`, the function should raise a `KeyError`."
      ]
    },
    {
      "cell_type": "code",
      "execution_count": 70,
      "metadata": {
        "slideshow": {
          "slide_type": "slide"
        }
      },
      "outputs": [],
      "source": [
        "# Solution goes here"
      ]
    },
    {
      "cell_type": "markdown",
      "metadata": {
        "slideshow": {
          "slide_type": "slide"
        }
      },
      "source": [
        "### Test your code"
      ]
    },
    {
      "cell_type": "code",
      "execution_count": 16,
      "metadata": {},
      "outputs": [],
      "source": [
        "import numpy as np\n",
        "import pandas as pd\n",
        "\n",
        "# Sample DataFrame setup\n",
        "data = {\n",
        "    'name': ['Alice', 'Bob', 'Charlie', 'David'],\n",
        "    'age': [24, np.nan, 22, 32],\n",
        "    'score': [85, 90, 88, 95]\n",
        "}\n",
        "df = pd.DataFrame(data)\n",
        "\n",
        "# Test case 1: Sum over 'age' column with null values\n",
        "result = sum_from_column(df, 'age')\n",
        "assert result == 78.0, f\"Test case 1 failed: Expected sum of ages to be 78.0, but got {result}\"\n",
        "\n",
        "# Test case 2: Sum over 'score' column with no null values\n",
        "result = sum_from_column(df, 'score')\n",
        "assert result == 358, f\"Test case 2 failed: Expected sum of scores to be 358, but got {result}\"\n",
        "\n",
        "# Test case 3: Non-existent column\n",
        "try:\n",
        "    sum_from_column(df, 'height')\n",
        "    print(\"Test case 3 failed: Expected KeyError for non-existent column\")\n",
        "except KeyError:\n",
        "    # print(\"Test case 3 passed: KeyError raised as expected\")\n",
        "    pass\n",
        "\n",
        "# Test case 4: Sum over an empty column (all values are NaN)\n",
        "data_all_null = {'col': [np.nan, np.nan, np.nan]}\n",
        "df_all_null = pd.DataFrame(data_all_null)\n",
        "result = sum_from_column(df_all_null, 'col')\n",
        "assert result == 0, f\"Test case 4 failed: Expected sum of 0 for an all-NaN column, but got {result}\""
      ]
    },
    {
      "cell_type": "markdown",
      "metadata": {
        "slideshow": {
          "slide_type": "slide"
        }
      },
      "source": [
        "## Exercise 8: Count Values Greater Than a Specified Threshold in a Column\n",
        "\n",
        "Define a function that takes a DataFrame, a column name, and a threshold value, and returns the count of values in the specified column that are greater than the threshold.\n",
        "\n",
        "In particualar, define a function `count_values_greater_than(df, column, threshold)` that:\n",
        "- Takes three arguments:\n",
        "    - `df`: A pandas DataFrame containing the data.\n",
        "    - `column`: A string representing the name of the column to check.\n",
        "    - `threshold`: A numeric value to compare against.\n",
        "- Returns an integer representing the count of values in the specified column that are greater than the given threshold.\n",
        "- If the column contains any null values, ignore these values in the count.\n"
      ]
    },
    {
      "cell_type": "code",
      "execution_count": 22,
      "metadata": {
        "slideshow": {
          "slide_type": "slide"
        }
      },
      "outputs": [],
      "source": [
        "# Solution goes here"
      ]
    },
    {
      "cell_type": "markdown",
      "metadata": {
        "slideshow": {
          "slide_type": "slide"
        }
      },
      "source": [
        "### Test your code"
      ]
    },
    {
      "cell_type": "code",
      "execution_count": 24,
      "metadata": {},
      "outputs": [],
      "source": [
        "import numpy as np\n",
        "import pandas as pd\n",
        "\n",
        "# Sample DataFrame setup\n",
        "data = {\n",
        "    'name': ['Alice', 'Bob', 'Charlie', 'David'],\n",
        "    'age': [24, np.nan, 22, 32],\n",
        "    'score': [85, 90, 88, 95]\n",
        "}\n",
        "df = pd.DataFrame(data)\n",
        "\n",
        "# Test case 1: Count values in 'age' column greater than 23\n",
        "result = count_values_greater_than(df, 'age', 23)\n",
        "assert result == 2, f\"Test case 1 failed: Expected count of 2, but got {result}\"\n",
        "\n",
        "# Test case 2: Count values in 'score' column greater than 89\n",
        "result = count_values_greater_than(df, 'score', 89)\n",
        "assert result == 2, f\"Test case 2 failed: Expected count of 2, but got {result}\"\n",
        "\n",
        "# Test case 3: Non-existent column\n",
        "try:\n",
        "    count_values_greater_than(df, 'height', 23)\n",
        "    print(\"Test case 3 failed: Expected KeyError for non-existent column\")\n",
        "except KeyError:\n",
        "    # print(\"Test case 3 passed: KeyError raised as expected\")\n",
        "    pass\n",
        "\n",
        "# Test case 4: Count values greater than threshold when all values are below it\n",
        "result = count_values_greater_than(df, 'age', 100)\n",
        "assert result == 0, f\"Test case 4 failed: Expected count of 0 for threshold above all values, but got {result}\""
      ]
    },
    {
      "cell_type": "markdown",
      "metadata": {
        "slideshow": {
          "slide_type": "slide"
        }
      },
      "source": [
        "## Exercise 9: Add a new column to a DataFrame\n",
        "\n",
        "Write a function `add_column(df, column_name, values)` that:\n",
        "- Takes a pandas DataFrame `df`, a string `column_name`, and a list `values`.\n",
        "- Adds a new column to `df` with the name `column_name` and the values from `values`.\n",
        "- Returns the modified DataFrame."
      ]
    },
    {
      "cell_type": "code",
      "execution_count": 28,
      "metadata": {
        "slideshow": {
          "slide_type": "slide"
        }
      },
      "outputs": [],
      "source": [
        "# Solution goes here"
      ]
    },
    {
      "cell_type": "markdown",
      "metadata": {
        "slideshow": {
          "slide_type": "slide"
        }
      },
      "source": [
        "### Test your code"
      ]
    },
    {
      "cell_type": "code",
      "execution_count": 27,
      "metadata": {},
      "outputs": [],
      "source": [
        "import pandas as pd\n",
        "\n",
        "# Test case 1: Add a column with correct length\n",
        "df = pd.DataFrame({'A': [1, 2, 3]})\n",
        "result = add_column(df.copy(), 'B', [4, 5, 6])\n",
        "assert 'B' in result.columns and all(result['B'] == [4, 5, 6]), \"Test case 1 failed\"\n",
        "\n",
        "# Test case 2: Add a column to empty DataFrame\n",
        "df_empty = pd.DataFrame()\n",
        "result = add_column(df_empty.copy(), 'D', [])\n",
        "assert 'D' in result.columns and result.empty, \"Test case 2 failed\""
      ]
    },
    {
      "cell_type": "markdown",
      "metadata": {
        "slideshow": {
          "slide_type": "slide"
        }
      },
      "source": [
        "## Exercise 10: Sort a DataFrame by a column\n",
        "\n",
        "Write a function `sort_by_column(df, column, ascending=True)` that:\n",
        "- Takes a pandas DataFrame `df`, a string `column`, and a boolean `ascending` (default `True`).\n",
        "- Returns a new DataFrame sorted by the specified column in ascending or descending order."
      ]
    },
    {
      "cell_type": "code",
      "execution_count": null,
      "metadata": {
        "slideshow": {
          "slide_type": "slide"
        }
      },
      "outputs": [],
      "source": [
        "# Solution goes here"
      ]
    },
    {
      "cell_type": "markdown",
      "metadata": {
        "slideshow": {
          "slide_type": "slide"
        }
      },
      "source": [
        "### Test your code"
      ]
    },
    {
      "cell_type": "code",
      "execution_count": 30,
      "metadata": {},
      "outputs": [],
      "source": [
        "import pandas as pd\n",
        "\n",
        "# Test case 1: Sort ascending\n",
        "df = pd.DataFrame({'A': [3, 1, 2], 'B': [9, 8, 7]})\n",
        "result = sort_by_column(df, 'A')\n",
        "assert list(result['A']) == [1, 2, 3], \"Test case 1 failed\"\n",
        "\n",
        "# Test case 2: Sort descending\n",
        "result = sort_by_column(df, 'B', ascending=False)\n",
        "assert list(result['B']) == [9, 8, 7], \"Test case 2 failed\"\n",
        "\n",
        "# Test case 3: Sort with duplicate values\n",
        "df_dup = pd.DataFrame({'A': [2, 1, 2], 'B': [5, 6, 7]})\n",
        "result = sort_by_column(df_dup, 'A')\n",
        "assert list(result['A']) == [1, 2, 2], \"Test case 3 failed\""
      ]
    },
    {
      "cell_type": "markdown",
      "metadata": {
        "slideshow": {
          "slide_type": "slide"
        }
      },
      "source": [
        "## Exercise 11: Filter with multiple conditions, sort, and select columns\n",
        "\n",
        "Write a function `complex_filter_sort_select(df)` that:\n",
        "- Takes a pandas DataFrame `df`.\n",
        "- Filters the rows where **(the value in 'age' is greater than 25 and 'score' is at least 90) or (the value in 'name' is 'Anna')**.\n",
        "- Sorts the filtered DataFrame by `'score'` in descending order.\n",
        "- Returns a new DataFrame containing only the columns `'name'`, `'age'`, and `'score'`."
      ]
    },
    {
      "cell_type": "code",
      "execution_count": null,
      "metadata": {
        "slideshow": {
          "slide_type": "slide"
        }
      },
      "outputs": [],
      "source": [
        "# Solution goes here"
      ]
    },
    {
      "cell_type": "markdown",
      "metadata": {
        "slideshow": {
          "slide_type": "slide"
        }
      },
      "source": [
        "### Test your code"
      ]
    },
    {
      "cell_type": "code",
      "execution_count": 32,
      "metadata": {},
      "outputs": [],
      "source": [
        "import pandas as pd\n",
        "\n",
        "data = {\n",
        "    'name': ['Anna', 'Bob', 'Cleo', 'Dan'],\n",
        "    'age': [23, 35, 29, 40],\n",
        "    'score': [88, 92, 85, 95]\n",
        "}\n",
        "df = pd.DataFrame(data)\n",
        "\n",
        "# Test: should select Anna (name=='Anna'), Bob (age>25 and score>=90), Dan (age>25 and score>=90)\n",
        "result = complex_filter_sort_select(df)\n",
        "expected = pd.DataFrame({\n",
        "    'name': ['Dan', 'Bob', 'Anna'],\n",
        "    'age': [40, 35, 23],\n",
        "    'score': [95, 92, 88]\n",
        "}, index=[3,1,0])\n",
        "assert result.reset_index(drop=True).equals(expected.reset_index(drop=True)), \"Test failed\""
      ]
    },
    {
      "cell_type": "markdown",
      "metadata": {
        "slideshow": {
          "slide_type": "slide"
        }
      },
      "source": [
        "## Exercise 12: Compute the average grade for each student\n",
        "\n",
        "Write a function `add_average_grade(df)` that:\n",
        "- Takes a pandas DataFrame `df` where each row represents a student and each column (e.g., 'exam1', 'exam2', ...) represents the grade for an exam.\n",
        "- Adds a new column called `'average'` containing the mean of the grades for each student (row).\n",
        "- Returns the modified DataFrame."
      ]
    },
    {
      "cell_type": "code",
      "execution_count": null,
      "metadata": {
        "slideshow": {
          "slide_type": "slide"
        }
      },
      "outputs": [],
      "source": [
        "# Solution goes here"
      ]
    },
    {
      "cell_type": "markdown",
      "metadata": {
        "slideshow": {
          "slide_type": "slide"
        }
      },
      "source": [
        "### Test your code"
      ]
    },
    {
      "cell_type": "code",
      "execution_count": 34,
      "metadata": {},
      "outputs": [],
      "source": [
        "import pandas as pd\n",
        "\n",
        "data = {\n",
        "    'exam1': [28, 22, 30],\n",
        "    'exam2': [30, 18, 27],\n",
        "    'exam3': [26, 25, 29]\n",
        "}\n",
        "df = pd.DataFrame(data, index=['Alice', 'Bob', 'Carla'])\n",
        "\n",
        "result = add_average_grade(df.copy())\n",
        "expected_averages = [(28+30+26)/3, (22+18+25)/3, (30+27+29)/3]\n",
        "assert all(abs(a-b) < 1e-6 for a, b in zip(result['average'], expected_averages)), \"Test failed\""
      ]
    },
    {
      "cell_type": "markdown",
      "metadata": {
        "slideshow": {
          "slide_type": "slide"
        }
      },
      "source": [
        "## Exercise 13: Replace NaN, drop rows, and filter with multiple conditions and index\n",
        "\n",
        "Write a function `clean_and_filter(df, score_column, col1, col2, val1, val2, min_index=None, use_and=True)` that:\n",
        "- Takes a pandas DataFrame `df`.\n",
        "- Replaces all NaN values in the column `score_column` with 0.\n",
        "- Drops all rows that have any remaining NaN values in any other column.\n",
        "- Filters the DataFrame to keep only the rows where:\n",
        "    - If `use_and` is True: the value in `col1` is equal to `val1` **and** the value in `col2` is equal to `val2`.\n",
        "    - If `use_and` is False: the value in `col1` is equal to `val1` **or** the value in `col2` is equal to `val2`.\n",
        "    - In addition, only keep rows whose index is greater than or equal to `min_index` if `min_index` is not None.\n",
        "- Returns the resulting DataFrame."
      ]
    },
    {
      "cell_type": "code",
      "execution_count": null,
      "metadata": {
        "slideshow": {
          "slide_type": "slide"
        }
      },
      "outputs": [],
      "source": [
        "# Solution goes here"
      ]
    },
    {
      "cell_type": "markdown",
      "metadata": {
        "slideshow": {
          "slide_type": "slide"
        }
      },
      "source": [
        "### Test your code"
      ]
    },
    {
      "cell_type": "code",
      "execution_count": 24,
      "metadata": {},
      "outputs": [],
      "source": [
        "import pandas as pd\n",
        "import numpy as np\n",
        "\n",
        "data = {\n",
        "    'score': [np.nan, 5, np.nan, 8, 7],\n",
        "    'A': ['x', 'y', 'x', 'z', 'x'],\n",
        "    'B': [1, 2, 1, 2, np.nan]\n",
        "}\n",
        "df = pd.DataFrame(data)\n",
        "\n",
        "# Test 1: Replace NaN in 'score', drop other NaN, filter A=='x' and B==1, min_index=1\n",
        "result = clean_and_filter_with_min_index(df, 'score', 'A', 'B', 'x', 1, min_index=1, use_and=True)\n",
        "expected = pd.DataFrame({'score': [0.0], 'A': ['x'], 'B': [1.0]}, index=[2])\n",
        "assert result.reset_index(drop=True).equals(expected.reset_index(drop=True)), \"Test 1 failed\"\n",
        "\n",
        "# Test 2: Replace NaN in 'score', drop other NaN, filter A=='x' or B==2, min_index=1\n",
        "result = clean_and_filter_with_min_index(df, 'score', 'A', 'B', 'x', 2, min_index=1, use_and=False)\n",
        "expected = pd.DataFrame({'score': [5.0, 0.0, 8.0], 'A': ['y', 'x', 'z'], 'B': [2.0, 1.0, 2.0]}, index=[1,2,3])\n",
        "assert result.reset_index(drop=True).equals(expected.reset_index(drop=True)), \"Test 2 failed\"\n",
        "\n",
        "# Test 3: Replace NaN in 'score', drop other NaN, filter A=='z' and B==2, no min_index filter\n",
        "result = clean_and_filter_with_min_index(df, 'score', 'A', 'B', 'z', 2, min_index=None, use_and=True)\n",
        "expected = pd.DataFrame({'score': [8.0], 'A': ['z'], 'B': [2.0]}, index=[3])\n",
        "assert result.reset_index(drop=True).equals(expected.reset_index(drop=True)), \"Test 3 failed\"\n"
      ]
    },
    {
      "cell_type": "code",
      "execution_count": null,
      "metadata": {},
      "outputs": [],
      "source": []
    }
  ],
  "metadata": {
    "kernelspec": {
      "display_name": "Python 3",
      "language": "python",
      "name": "python3"
    },
    "language_info": {
      "codemirror_mode": {
        "name": "ipython",
        "version": 3
      },
      "file_extension": ".py",
      "mimetype": "text/x-python",
      "name": "python",
      "nbconvert_exporter": "python",
      "pygments_lexer": "ipython3",
      "version": "3.13.2"
    }
  },
  "nbformat": 4,
  "nbformat_minor": 4
}
