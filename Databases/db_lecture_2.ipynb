{
 "cells": [
  {
   "cell_type": "markdown",
   "id": "7efb4c78e96f955f",
   "metadata": {},
   "source": [
    "# Databases Lab: the basics of SQL queries 01/10/2025"
   ]
  },
  {
   "cell_type": "markdown",
   "id": "2bb71245db0f8ceb",
   "metadata": {},
   "source": [
    "## Task 0: Setting up the environment\n",
    "\n",
    "For this lecture we are going to use a very minimal database interaction tool called `sqlite3`. It is a standard python library to interact with databases using a python interface."
   ]
  },
  {
   "cell_type": "markdown",
   "id": "272a7f39aa3c616d",
   "metadata": {},
   "source": [
    "Import libraries"
   ]
  },
  {
   "cell_type": "code",
   "execution_count": 1,
   "id": "2379d65d66d63f70",
   "metadata": {
    "ExecuteTime": {
     "end_time": "2025-09-24T14:00:42.876667Z",
     "start_time": "2025-09-24T14:00:42.873068Z"
    }
   },
   "outputs": [],
   "source": [
    "import sqlite3\n",
    "import pandas as pd"
   ]
  },
  {
   "cell_type": "markdown",
   "id": "9206c5f7f4ef6d47",
   "metadata": {},
   "source": [
    "Connect to the database of choice"
   ]
  },
  {
   "cell_type": "code",
   "execution_count": 2,
   "id": "36edb1c60e413709",
   "metadata": {
    "ExecuteTime": {
     "end_time": "2025-09-24T14:00:42.896871Z",
     "start_time": "2025-09-24T14:00:42.893458Z"
    }
   },
   "outputs": [],
   "source": [
    "connection = sqlite3.connect(\"restaurant.db\")"
   ]
  },
  {
   "cell_type": "markdown",
   "id": "54c1b70b5d11b683",
   "metadata": {},
   "source": [
    "Create a cursor object to interact with the database"
   ]
  },
  {
   "cell_type": "code",
   "execution_count": 3,
   "id": "5f3927feee1ef141",
   "metadata": {
    "ExecuteTime": {
     "end_time": "2025-09-24T14:00:42.912939Z",
     "start_time": "2025-09-24T14:00:42.909935Z"
    }
   },
   "outputs": [],
   "source": [
    "cur = connection.cursor()"
   ]
  },
  {
   "cell_type": "markdown",
   "id": "f23addc0c7b03f95",
   "metadata": {},
   "source": [
    "Helper function to print the results of a query"
   ]
  },
  {
   "cell_type": "code",
   "execution_count": 4,
   "id": "e1b4867f0a5bc248",
   "metadata": {
    "ExecuteTime": {
     "end_time": "2025-09-24T14:00:42.930388Z",
     "start_time": "2025-09-24T14:00:42.927214Z"
    }
   },
   "outputs": [],
   "source": [
    "def show_results(cur):\n",
    "    results = cur.fetchall()\n",
    "    colnames = [desc[0] for desc in cur.description]\n",
    "    df = pd.DataFrame(results, columns=colnames)\n",
    "    return df"
   ]
  },
  {
   "cell_type": "markdown",
   "id": "3ea775e0b0d7a5a4",
   "metadata": {},
   "source": [
    "## Task 1: Familiarize yourself with the database\n"
   ]
  },
  {
   "cell_type": "markdown",
   "id": "5ce4996a",
   "metadata": {},
   "source": [
    "Let's take a look at the ER-Schema of the database we are going to use today:"
   ]
  },
  {
   "cell_type": "markdown",
   "id": "a1099312",
   "metadata": {},
   "source": [
    "![ER-Schema](./images/ERrest.drawio.png)"
   ]
  },
  {
   "cell_type": "markdown",
   "id": "b78a5fe235d63231",
   "metadata": {},
   "source": [
    "Before we start it is important to identify the tables in the database, their attributes and the relationships among them."
   ]
  },
  {
   "cell_type": "markdown",
   "id": "7efb8b4b7d343e22",
   "metadata": {},
   "source": [
    "## Task 2: Start querying\n",
    "\n",
    "Main SQL operators:\n",
    "* **SELECT** operator: used to select columns in tables\n",
    "* **FROM** operator: used to select tables in databases\n",
    "* **WHERE** operator: used to filter rows according to appropriate conditions\n",
    "\n",
    "**SELECT** and **FROM** in particular are the core building blocks of all retrieval queries on databases, therefore they will be *ALWAYS* present in all queries you are going to write today. \n",
    "\n",
    "Note: the **AS** keyword is used to rename a column or table within a query with an alias of choice.\n"
   ]
  },
  {
   "cell_type": "markdown",
   "id": "8552da96c3331a33",
   "metadata": {},
   "source": [
    "Query: retrieve all entries of the Foods table"
   ]
  },
  {
   "cell_type": "code",
   "execution_count": 8,
   "id": "7ad01a493bb9f899",
   "metadata": {
    "ExecuteTime": {
     "end_time": "2025-09-24T14:00:43.198449Z",
     "start_time": "2025-09-24T14:00:43.190004Z"
    }
   },
   "outputs": [
    {
     "data": {
      "application/vnd.microsoft.datawrangler.viewer.v0+json": {
       "columns": [
        {
         "name": "index",
         "rawType": "int64",
         "type": "integer"
        },
        {
         "name": "id",
         "rawType": "int64",
         "type": "integer"
        },
        {
         "name": "name",
         "rawType": "object",
         "type": "string"
        },
        {
         "name": "price",
         "rawType": "float64",
         "type": "float"
        }
       ],
       "ref": "2ccd57be-3bbd-4674-99d8-990644c132ce",
       "rows": [
        [
         "0",
         "1",
         "Margherita Pizza",
         "8.5"
        ],
        [
         "1",
         "2",
         "Diavola Pizza",
         "10.0"
        ],
        [
         "2",
         "3",
         "Spaghetti",
         "9.0"
        ],
        [
         "3",
         "4",
         "Lasagna",
         "11.5"
        ],
        [
         "4",
         "5",
         "Mixed Salad",
         "6.0"
        ],
        [
         "5",
         "6",
         "Tiramisu",
         "5.5"
        ],
        [
         "6",
         "7",
         "Mineral Water",
         "2.0"
        ],
        [
         "7",
         "8",
         "Espresso",
         "1.5"
        ],
        [
         "8",
         "9",
         "Risotto alla Milanese",
         "12.0"
        ],
        [
         "9",
         "10",
         "Parmigiana di Melanzane",
         "9.5"
        ],
        [
         "10",
         "11",
         "Tagliatelle al Ragù",
         "10.5"
        ],
        [
         "11",
         "12",
         "Bruschetta",
         "4.0"
        ],
        [
         "12",
         "13",
         "Caprese Salad",
         "7.0"
        ],
        [
         "13",
         "14",
         "Frittura di Calamari",
         "13.0"
        ],
        [
         "14",
         "15",
         "Panna Cotta",
         "5.0"
        ],
        [
         "15",
         "16",
         "Cannolo Siciliano",
         "4.5"
        ]
       ],
       "shape": {
        "columns": 3,
        "rows": 16
       }
      },
      "text/html": [
       "<div>\n",
       "<style scoped>\n",
       "    .dataframe tbody tr th:only-of-type {\n",
       "        vertical-align: middle;\n",
       "    }\n",
       "\n",
       "    .dataframe tbody tr th {\n",
       "        vertical-align: top;\n",
       "    }\n",
       "\n",
       "    .dataframe thead th {\n",
       "        text-align: right;\n",
       "    }\n",
       "</style>\n",
       "<table border=\"1\" class=\"dataframe\">\n",
       "  <thead>\n",
       "    <tr style=\"text-align: right;\">\n",
       "      <th></th>\n",
       "      <th>id</th>\n",
       "      <th>name</th>\n",
       "      <th>price</th>\n",
       "    </tr>\n",
       "  </thead>\n",
       "  <tbody>\n",
       "    <tr>\n",
       "      <th>0</th>\n",
       "      <td>1</td>\n",
       "      <td>Margherita Pizza</td>\n",
       "      <td>8.5</td>\n",
       "    </tr>\n",
       "    <tr>\n",
       "      <th>1</th>\n",
       "      <td>2</td>\n",
       "      <td>Diavola Pizza</td>\n",
       "      <td>10.0</td>\n",
       "    </tr>\n",
       "    <tr>\n",
       "      <th>2</th>\n",
       "      <td>3</td>\n",
       "      <td>Spaghetti</td>\n",
       "      <td>9.0</td>\n",
       "    </tr>\n",
       "    <tr>\n",
       "      <th>3</th>\n",
       "      <td>4</td>\n",
       "      <td>Lasagna</td>\n",
       "      <td>11.5</td>\n",
       "    </tr>\n",
       "    <tr>\n",
       "      <th>4</th>\n",
       "      <td>5</td>\n",
       "      <td>Mixed Salad</td>\n",
       "      <td>6.0</td>\n",
       "    </tr>\n",
       "    <tr>\n",
       "      <th>5</th>\n",
       "      <td>6</td>\n",
       "      <td>Tiramisu</td>\n",
       "      <td>5.5</td>\n",
       "    </tr>\n",
       "    <tr>\n",
       "      <th>6</th>\n",
       "      <td>7</td>\n",
       "      <td>Mineral Water</td>\n",
       "      <td>2.0</td>\n",
       "    </tr>\n",
       "    <tr>\n",
       "      <th>7</th>\n",
       "      <td>8</td>\n",
       "      <td>Espresso</td>\n",
       "      <td>1.5</td>\n",
       "    </tr>\n",
       "    <tr>\n",
       "      <th>8</th>\n",
       "      <td>9</td>\n",
       "      <td>Risotto alla Milanese</td>\n",
       "      <td>12.0</td>\n",
       "    </tr>\n",
       "    <tr>\n",
       "      <th>9</th>\n",
       "      <td>10</td>\n",
       "      <td>Parmigiana di Melanzane</td>\n",
       "      <td>9.5</td>\n",
       "    </tr>\n",
       "    <tr>\n",
       "      <th>10</th>\n",
       "      <td>11</td>\n",
       "      <td>Tagliatelle al Ragù</td>\n",
       "      <td>10.5</td>\n",
       "    </tr>\n",
       "    <tr>\n",
       "      <th>11</th>\n",
       "      <td>12</td>\n",
       "      <td>Bruschetta</td>\n",
       "      <td>4.0</td>\n",
       "    </tr>\n",
       "    <tr>\n",
       "      <th>12</th>\n",
       "      <td>13</td>\n",
       "      <td>Caprese Salad</td>\n",
       "      <td>7.0</td>\n",
       "    </tr>\n",
       "    <tr>\n",
       "      <th>13</th>\n",
       "      <td>14</td>\n",
       "      <td>Frittura di Calamari</td>\n",
       "      <td>13.0</td>\n",
       "    </tr>\n",
       "    <tr>\n",
       "      <th>14</th>\n",
       "      <td>15</td>\n",
       "      <td>Panna Cotta</td>\n",
       "      <td>5.0</td>\n",
       "    </tr>\n",
       "    <tr>\n",
       "      <th>15</th>\n",
       "      <td>16</td>\n",
       "      <td>Cannolo Siciliano</td>\n",
       "      <td>4.5</td>\n",
       "    </tr>\n",
       "  </tbody>\n",
       "</table>\n",
       "</div>"
      ],
      "text/plain": [
       "    id                     name  price\n",
       "0    1         Margherita Pizza    8.5\n",
       "1    2            Diavola Pizza   10.0\n",
       "2    3                Spaghetti    9.0\n",
       "3    4                  Lasagna   11.5\n",
       "4    5              Mixed Salad    6.0\n",
       "5    6                 Tiramisu    5.5\n",
       "6    7            Mineral Water    2.0\n",
       "7    8                 Espresso    1.5\n",
       "8    9    Risotto alla Milanese   12.0\n",
       "9   10  Parmigiana di Melanzane    9.5\n",
       "10  11      Tagliatelle al Ragù   10.5\n",
       "11  12               Bruschetta    4.0\n",
       "12  13            Caprese Salad    7.0\n",
       "13  14     Frittura di Calamari   13.0\n",
       "14  15              Panna Cotta    5.0\n",
       "15  16        Cannolo Siciliano    4.5"
      ]
     },
     "execution_count": 8,
     "metadata": {},
     "output_type": "execute_result"
    }
   ],
   "source": [
    "cur.execute(\"\"\"SELECT * FROM foods;\n",
    "\n",
    "\"\"\")\n",
    "\n",
    "show_results(cur)"
   ]
  },
  {
   "cell_type": "markdown",
   "id": "bf77d1c2438cd15d",
   "metadata": {},
   "source": [
    "Query: retrieve all entries of the Foods table where the price is > than 10 "
   ]
  },
  {
   "cell_type": "code",
   "execution_count": 9,
   "id": "4778269262325e57",
   "metadata": {
    "ExecuteTime": {
     "end_time": "2025-09-24T14:00:43.444119Z",
     "start_time": "2025-09-24T14:00:43.436394Z"
    }
   },
   "outputs": [
    {
     "data": {
      "application/vnd.microsoft.datawrangler.viewer.v0+json": {
       "columns": [
        {
         "name": "index",
         "rawType": "int64",
         "type": "integer"
        },
        {
         "name": "id",
         "rawType": "int64",
         "type": "integer"
        },
        {
         "name": "name",
         "rawType": "object",
         "type": "string"
        },
        {
         "name": "price",
         "rawType": "float64",
         "type": "float"
        }
       ],
       "ref": "a34099da-b309-4574-9148-d1b1cc2e9df9",
       "rows": [
        [
         "0",
         "1",
         "Margherita Pizza",
         "8.5"
        ],
        [
         "1",
         "3",
         "Spaghetti",
         "9.0"
        ],
        [
         "2",
         "5",
         "Mixed Salad",
         "6.0"
        ],
        [
         "3",
         "6",
         "Tiramisu",
         "5.5"
        ],
        [
         "4",
         "7",
         "Mineral Water",
         "2.0"
        ],
        [
         "5",
         "8",
         "Espresso",
         "1.5"
        ],
        [
         "6",
         "10",
         "Parmigiana di Melanzane",
         "9.5"
        ],
        [
         "7",
         "12",
         "Bruschetta",
         "4.0"
        ],
        [
         "8",
         "13",
         "Caprese Salad",
         "7.0"
        ],
        [
         "9",
         "15",
         "Panna Cotta",
         "5.0"
        ],
        [
         "10",
         "16",
         "Cannolo Siciliano",
         "4.5"
        ]
       ],
       "shape": {
        "columns": 3,
        "rows": 11
       }
      },
      "text/html": [
       "<div>\n",
       "<style scoped>\n",
       "    .dataframe tbody tr th:only-of-type {\n",
       "        vertical-align: middle;\n",
       "    }\n",
       "\n",
       "    .dataframe tbody tr th {\n",
       "        vertical-align: top;\n",
       "    }\n",
       "\n",
       "    .dataframe thead th {\n",
       "        text-align: right;\n",
       "    }\n",
       "</style>\n",
       "<table border=\"1\" class=\"dataframe\">\n",
       "  <thead>\n",
       "    <tr style=\"text-align: right;\">\n",
       "      <th></th>\n",
       "      <th>id</th>\n",
       "      <th>name</th>\n",
       "      <th>price</th>\n",
       "    </tr>\n",
       "  </thead>\n",
       "  <tbody>\n",
       "    <tr>\n",
       "      <th>0</th>\n",
       "      <td>1</td>\n",
       "      <td>Margherita Pizza</td>\n",
       "      <td>8.5</td>\n",
       "    </tr>\n",
       "    <tr>\n",
       "      <th>1</th>\n",
       "      <td>3</td>\n",
       "      <td>Spaghetti</td>\n",
       "      <td>9.0</td>\n",
       "    </tr>\n",
       "    <tr>\n",
       "      <th>2</th>\n",
       "      <td>5</td>\n",
       "      <td>Mixed Salad</td>\n",
       "      <td>6.0</td>\n",
       "    </tr>\n",
       "    <tr>\n",
       "      <th>3</th>\n",
       "      <td>6</td>\n",
       "      <td>Tiramisu</td>\n",
       "      <td>5.5</td>\n",
       "    </tr>\n",
       "    <tr>\n",
       "      <th>4</th>\n",
       "      <td>7</td>\n",
       "      <td>Mineral Water</td>\n",
       "      <td>2.0</td>\n",
       "    </tr>\n",
       "    <tr>\n",
       "      <th>5</th>\n",
       "      <td>8</td>\n",
       "      <td>Espresso</td>\n",
       "      <td>1.5</td>\n",
       "    </tr>\n",
       "    <tr>\n",
       "      <th>6</th>\n",
       "      <td>10</td>\n",
       "      <td>Parmigiana di Melanzane</td>\n",
       "      <td>9.5</td>\n",
       "    </tr>\n",
       "    <tr>\n",
       "      <th>7</th>\n",
       "      <td>12</td>\n",
       "      <td>Bruschetta</td>\n",
       "      <td>4.0</td>\n",
       "    </tr>\n",
       "    <tr>\n",
       "      <th>8</th>\n",
       "      <td>13</td>\n",
       "      <td>Caprese Salad</td>\n",
       "      <td>7.0</td>\n",
       "    </tr>\n",
       "    <tr>\n",
       "      <th>9</th>\n",
       "      <td>15</td>\n",
       "      <td>Panna Cotta</td>\n",
       "      <td>5.0</td>\n",
       "    </tr>\n",
       "    <tr>\n",
       "      <th>10</th>\n",
       "      <td>16</td>\n",
       "      <td>Cannolo Siciliano</td>\n",
       "      <td>4.5</td>\n",
       "    </tr>\n",
       "  </tbody>\n",
       "</table>\n",
       "</div>"
      ],
      "text/plain": [
       "    id                     name  price\n",
       "0    1         Margherita Pizza    8.5\n",
       "1    3                Spaghetti    9.0\n",
       "2    5              Mixed Salad    6.0\n",
       "3    6                 Tiramisu    5.5\n",
       "4    7            Mineral Water    2.0\n",
       "5    8                 Espresso    1.5\n",
       "6   10  Parmigiana di Melanzane    9.5\n",
       "7   12               Bruschetta    4.0\n",
       "8   13            Caprese Salad    7.0\n",
       "9   15              Panna Cotta    5.0\n",
       "10  16        Cannolo Siciliano    4.5"
      ]
     },
     "execution_count": 9,
     "metadata": {},
     "output_type": "execute_result"
    }
   ],
   "source": [
    "cur.execute(\"\"\"select * from foods where price<10;\n",
    "\n",
    "\"\"\")\n",
    "\n",
    "show_results(cur)"
   ]
  },
  {
   "cell_type": "markdown",
   "id": "22d3e574",
   "metadata": {},
   "source": [
    "Additional query operators:\n",
    "\n",
    "* The **ORDER BY** operator in SQL is used to sort the result set of a query by one or more columns, either in ascending (**ASC**) or descending (**DESC**) order. By default, sorting is in ascending order.\n",
    "\n",
    "* The **LIMIT** operator is used to restrict the number of rows returned by a query. It is often used in combination with **ORDER BY** to retrieve only the top *N* results according to the specified sorting criterion.\n",
    "\n",
    "* The **DISTINCT** keyword is used to return only unique values in the result set. It is mainly applied to columns in a **SELECT** statement."
   ]
  },
  {
   "cell_type": "markdown",
   "id": "87ba37c0224d6ad0",
   "metadata": {},
   "source": [
    "Query: retrieve all entries of the foods table with price greater than 10 and sort them in descending order of price"
   ]
  },
  {
   "cell_type": "code",
   "execution_count": 12,
   "id": "2c1eba91da42e553",
   "metadata": {
    "ExecuteTime": {
     "end_time": "2025-09-24T14:00:43.616938Z",
     "start_time": "2025-09-24T14:00:43.609009Z"
    }
   },
   "outputs": [
    {
     "data": {
      "application/vnd.microsoft.datawrangler.viewer.v0+json": {
       "columns": [
        {
         "name": "index",
         "rawType": "int64",
         "type": "integer"
        },
        {
         "name": "id",
         "rawType": "int64",
         "type": "integer"
        },
        {
         "name": "name",
         "rawType": "object",
         "type": "string"
        },
        {
         "name": "price",
         "rawType": "float64",
         "type": "float"
        }
       ],
       "ref": "d84dde83-da8b-4fbd-b4f9-2b38001b9938",
       "rows": [
        [
         "0",
         "14",
         "Frittura di Calamari",
         "13.0"
        ],
        [
         "1",
         "9",
         "Risotto alla Milanese",
         "12.0"
        ],
        [
         "2",
         "4",
         "Lasagna",
         "11.5"
        ],
        [
         "3",
         "11",
         "Tagliatelle al Ragù",
         "10.5"
        ]
       ],
       "shape": {
        "columns": 3,
        "rows": 4
       }
      },
      "text/html": [
       "<div>\n",
       "<style scoped>\n",
       "    .dataframe tbody tr th:only-of-type {\n",
       "        vertical-align: middle;\n",
       "    }\n",
       "\n",
       "    .dataframe tbody tr th {\n",
       "        vertical-align: top;\n",
       "    }\n",
       "\n",
       "    .dataframe thead th {\n",
       "        text-align: right;\n",
       "    }\n",
       "</style>\n",
       "<table border=\"1\" class=\"dataframe\">\n",
       "  <thead>\n",
       "    <tr style=\"text-align: right;\">\n",
       "      <th></th>\n",
       "      <th>id</th>\n",
       "      <th>name</th>\n",
       "      <th>price</th>\n",
       "    </tr>\n",
       "  </thead>\n",
       "  <tbody>\n",
       "    <tr>\n",
       "      <th>0</th>\n",
       "      <td>14</td>\n",
       "      <td>Frittura di Calamari</td>\n",
       "      <td>13.0</td>\n",
       "    </tr>\n",
       "    <tr>\n",
       "      <th>1</th>\n",
       "      <td>9</td>\n",
       "      <td>Risotto alla Milanese</td>\n",
       "      <td>12.0</td>\n",
       "    </tr>\n",
       "    <tr>\n",
       "      <th>2</th>\n",
       "      <td>4</td>\n",
       "      <td>Lasagna</td>\n",
       "      <td>11.5</td>\n",
       "    </tr>\n",
       "    <tr>\n",
       "      <th>3</th>\n",
       "      <td>11</td>\n",
       "      <td>Tagliatelle al Ragù</td>\n",
       "      <td>10.5</td>\n",
       "    </tr>\n",
       "  </tbody>\n",
       "</table>\n",
       "</div>"
      ],
      "text/plain": [
       "   id                   name  price\n",
       "0  14   Frittura di Calamari   13.0\n",
       "1   9  Risotto alla Milanese   12.0\n",
       "2   4                Lasagna   11.5\n",
       "3  11    Tagliatelle al Ragù   10.5"
      ]
     },
     "execution_count": 12,
     "metadata": {},
     "output_type": "execute_result"
    }
   ],
   "source": [
    "cur.execute(\"\"\" select * from foods where price>10 ORDER BY price DESC;\n",
    "\n",
    "\"\"\")\n",
    "\n",
    "show_results(cur)"
   ]
  },
  {
   "cell_type": "markdown",
   "id": "1d258ed1",
   "metadata": {},
   "source": [
    "Query: retrieve all distinct locations of the dining tables in the restaurant"
   ]
  },
  {
   "cell_type": "code",
   "execution_count": null,
   "id": "d4318511",
   "metadata": {},
   "outputs": [
    {
     "data": {
      "application/vnd.microsoft.datawrangler.viewer.v0+json": {
       "columns": [
        {
         "name": "index",
         "rawType": "int64",
         "type": "integer"
        },
        {
         "name": "location",
         "rawType": "object",
         "type": "string"
        }
       ],
       "ref": "f89f8617-4819-4b3c-9c57-46ef3d9b41a3",
       "rows": [
        [
         "0",
         "Patio"
        ],
        [
         "1",
         "Bar"
        ],
        [
         "2",
         "Private Room"
        ]
       ],
       "shape": {
        "columns": 1,
        "rows": 3
       }
      },
      "text/html": [
       "<div>\n",
       "<style scoped>\n",
       "    .dataframe tbody tr th:only-of-type {\n",
       "        vertical-align: middle;\n",
       "    }\n",
       "\n",
       "    .dataframe tbody tr th {\n",
       "        vertical-align: top;\n",
       "    }\n",
       "\n",
       "    .dataframe thead th {\n",
       "        text-align: right;\n",
       "    }\n",
       "</style>\n",
       "<table border=\"1\" class=\"dataframe\">\n",
       "  <thead>\n",
       "    <tr style=\"text-align: right;\">\n",
       "      <th></th>\n",
       "      <th>location</th>\n",
       "    </tr>\n",
       "  </thead>\n",
       "  <tbody>\n",
       "    <tr>\n",
       "      <th>0</th>\n",
       "      <td>Patio</td>\n",
       "    </tr>\n",
       "    <tr>\n",
       "      <th>1</th>\n",
       "      <td>Bar</td>\n",
       "    </tr>\n",
       "    <tr>\n",
       "      <th>2</th>\n",
       "      <td>Private Room</td>\n",
       "    </tr>\n",
       "  </tbody>\n",
       "</table>\n",
       "</div>"
      ],
      "text/plain": [
       "       location\n",
       "0         Patio\n",
       "1           Bar\n",
       "2  Private Room"
      ]
     },
     "execution_count": 13,
     "metadata": {},
     "output_type": "execute_result"
    }
   ],
   "source": [
    "cur.execute(\"\"\"select DISTINCT location from DiningTables;\n",
    "\n",
    "\"\"\")\n",
    "\n",
    "show_results(cur)"
   ]
  },
  {
   "cell_type": "markdown",
   "id": "21d29a8f39c18726",
   "metadata": {},
   "source": [
    "The **WHERE** clause can support more complex conditions, for example:\n",
    "\n",
    "* **AND**, **OR** logical operators used to concatenate multiple conditions\n",
    "* **LIKE** operator for substring matching  (e.g., `name LIKE \"Ma%\"`)\n",
    "* **BETWEEN** operator to check for value ranges (e.g., `price BETWEEN 5 AND 15`)\n",
    "* **IN** operator to check for multiple specific values (e.g., `price IN (5, 10, 15)`)\n",
    "* **IS NULL** or **IS NOT NULL** operators to check if specific fields exist (e.g., `description IS NOT NULL`)\n",
    "* **NOT** logical operator which can be used in combination with any of the previous operators to negate conditions\n",
    "\n",
    "\n",
    "Note: if you need to concatenate logical conditions you can use parentheses to ensure they are executed correctly"
   ]
  },
  {
   "cell_type": "markdown",
   "id": "298587a8ab3a96a1",
   "metadata": {},
   "source": [
    "Query: Show foods whose name contains an \"m\" or an \"M\" and whose price is between 5 and 10"
   ]
  },
  {
   "cell_type": "code",
   "execution_count": null,
   "id": "26c98d33a66de880",
   "metadata": {
    "ExecuteTime": {
     "end_time": "2025-09-24T14:00:43.794402Z",
     "start_time": "2025-09-24T14:00:43.786681Z"
    }
   },
   "outputs": [],
   "source": [
    "cur.execute(\"\"\"\n",
    "\n",
    "\"\"\")\n",
    "\n",
    "show_results(cur)"
   ]
  },
  {
   "cell_type": "markdown",
   "id": "11887ca9ad2a3e90",
   "metadata": {},
   "source": [
    "## Task 3: Aggregate functions and grouping\n",
    "\n",
    "There are several aggregator functions in SQL, the most common ones are:\n",
    "* **COUNT**\n",
    "* **SUM**\n",
    "* **AVG**\n",
    "* **MIN**\n",
    "* **MAX**\n",
    "\n",
    "They are used inside the **SELECT** statement to compute aggregate values over a set of rows.\n",
    "\n",
    "They go hand in hand with another important SQL statement: the **GROUP BY** operator, which is used to group rows that have the same values in specified columns in order to allow for aggregation functions to be used in a grouped fashion.\n"
   ]
  },
  {
   "cell_type": "markdown",
   "id": "e43ae4e8a7518b1c",
   "metadata": {},
   "source": [
    "Query: Count the number of dining tables in each location"
   ]
  },
  {
   "cell_type": "code",
   "execution_count": null,
   "id": "a98651f8",
   "metadata": {},
   "outputs": [],
   "source": [
    "cur.execute(\"\"\"\n",
    "\n",
    "\"\"\")\n",
    "\n",
    "show_results(cur)"
   ]
  },
  {
   "cell_type": "code",
   "execution_count": null,
   "id": "3bbdebefa22d85b5",
   "metadata": {
    "ExecuteTime": {
     "end_time": "2025-09-24T14:00:44.171549Z",
     "start_time": "2025-09-24T14:00:44.164574Z"
    }
   },
   "outputs": [],
   "source": [
    "cur.execute(\"\"\"\n",
    "\n",
    "\"\"\")\n",
    "\n",
    "show_results(cur)"
   ]
  },
  {
   "cell_type": "markdown",
   "id": "81ba9bcc",
   "metadata": {},
   "source": [
    "Query: retrieve the average capacity of dining tables in each location"
   ]
  },
  {
   "cell_type": "code",
   "execution_count": null,
   "id": "7d0ec8ae",
   "metadata": {},
   "outputs": [],
   "source": [
    "cur.execute(\"\"\"\n",
    "\n",
    "\"\"\")\n",
    "\n",
    "show_results(cur)"
   ]
  },
  {
   "cell_type": "markdown",
   "id": "5286cd34",
   "metadata": {},
   "source": [
    "## Task 4: Joining Tables\n",
    "\n",
    "When working with relational databases it is common to need to retrieve data from multiple tables.\n",
    "\n",
    "This is done via the **JOIN** operator, which allows to combine rows from two or more tables based on a specific column in common between them.\n",
    "\n",
    "Example: let's take a look at the DiningTables and Orders tables."
   ]
  },
  {
   "cell_type": "code",
   "execution_count": null,
   "id": "46ce49c8",
   "metadata": {},
   "outputs": [],
   "source": [
    "cur.execute(\"\"\"\n",
    "\n",
    "\"\"\")\n",
    "\n",
    "show_results(cur)"
   ]
  },
  {
   "cell_type": "code",
   "execution_count": null,
   "id": "f718bb12",
   "metadata": {},
   "outputs": [],
   "source": [
    "cur.execute(\"\"\"\n",
    "\n",
    "\"\"\")\n",
    "\n",
    "show_results(cur)"
   ]
  },
  {
   "cell_type": "markdown",
   "id": "4dda6da5",
   "metadata": {},
   "source": [
    "Let's **JOIN** them"
   ]
  },
  {
   "cell_type": "code",
   "execution_count": null,
   "id": "912a3d20",
   "metadata": {},
   "outputs": [],
   "source": [
    "cur.execute(\"\"\"\n",
    "\n",
    "\"\"\")\n",
    "\n",
    "show_results(cur)"
   ]
  },
  {
   "cell_type": "markdown",
   "id": "0f00d1aa",
   "metadata": {},
   "source": [
    "Query: retrieve the number of orders for each distinct location in the restaurant. "
   ]
  },
  {
   "cell_type": "code",
   "execution_count": null,
   "id": "7b971f56",
   "metadata": {},
   "outputs": [],
   "source": [
    "cur.execute(\"\"\"\n",
    "\n",
    "\"\"\")\n",
    "\n",
    "show_results(cur)"
   ]
  },
  {
   "cell_type": "markdown",
   "id": "14755600a13acbb2",
   "metadata": {},
   "source": [
    "## Query Exercises\n",
    "\n",
    "Query Exercise 1: retrieve, for each distinct date in the Orders table, the total number of unique orders placed that day.\n"
   ]
  },
  {
   "cell_type": "code",
   "execution_count": null,
   "id": "29ffeb4c8f10fab5",
   "metadata": {
    "ExecuteTime": {
     "end_time": "2025-09-24T14:00:44.376137Z",
     "start_time": "2025-09-24T14:00:44.368266Z"
    }
   },
   "outputs": [],
   "source": [
    "cur.execute(\"\"\"\n",
    "\n",
    "\"\"\")\n",
    "\n",
    "show_results(cur)"
   ]
  },
  {
   "cell_type": "markdown",
   "id": "4fa7a8d0",
   "metadata": {},
   "source": [
    "Query Exercise 2: retrieve id, name, surname, and email of all clients whose email address contains the *\"icloud\"* substring."
   ]
  },
  {
   "cell_type": "code",
   "execution_count": null,
   "id": "5f07c01e",
   "metadata": {},
   "outputs": [],
   "source": [
    "cur.execute(\"\"\"\n",
    "\n",
    "\"\"\")\n",
    "\n",
    "show_results(cur)"
   ]
  },
  {
   "cell_type": "markdown",
   "id": "f805820b8c28ded8",
   "metadata": {},
   "source": [
    "Query Exercise 3: retrieve, for each location in the restaurant, its total capacity, defined as the sum of the seating capacities of all tables assigned to that location."
   ]
  },
  {
   "cell_type": "code",
   "execution_count": null,
   "id": "5fab19c8386d5628",
   "metadata": {
    "ExecuteTime": {
     "end_time": "2025-09-24T14:00:44.559812Z",
     "start_time": "2025-09-24T14:00:44.552573Z"
    }
   },
   "outputs": [],
   "source": [
    "cur.execute(\"\"\"\n",
    "            \n",
    "\"\"\")\n",
    "\n",
    "show_results(cur)"
   ]
  },
  {
   "cell_type": "markdown",
   "id": "325decef7dc9e021",
   "metadata": {},
   "source": [
    "Query Exercise 4: retrieve the average of the individual prices of all food items on the menu of the restaurant."
   ]
  },
  {
   "cell_type": "code",
   "execution_count": null,
   "id": "6ca6d1ef933a11c4",
   "metadata": {
    "ExecuteTime": {
     "end_time": "2025-09-24T14:00:44.742215Z",
     "start_time": "2025-09-24T14:00:44.734921Z"
    }
   },
   "outputs": [],
   "source": [
    "cur.execute(\"\"\"\n",
    "\n",
    "\"\"\")\n",
    "\n",
    "show_results(cur)"
   ]
  },
  {
   "cell_type": "markdown",
   "id": "4cbd072540976d9b",
   "metadata": {},
   "source": [
    "Query Exercise 5: Retrieve order id, table id, date and location of all orders placed between '2025-09-04' and '2025-09-08' (extremes included). Recall that one table may be associated with multiple orders."
   ]
  },
  {
   "cell_type": "code",
   "execution_count": null,
   "id": "a585c9cb983a6b04",
   "metadata": {
    "ExecuteTime": {
     "end_time": "2025-09-24T14:00:44.952177Z",
     "start_time": "2025-09-24T14:00:44.943744Z"
    }
   },
   "outputs": [],
   "source": [
    "cur.execute(\"\"\"\n",
    "\n",
    "\"\"\")\n",
    "\n",
    "show_results(cur)"
   ]
  },
  {
   "cell_type": "markdown",
   "id": "6f8a4d5a",
   "metadata": {},
   "source": [
    "Query Exercise 6: Retrieve the order id and the total price of each order in the database. Recall that each order may contain multiple food items, and that the total price of an order is given by the sum of the prices of all food items in it, multiplied by their respective quantities."
   ]
  },
  {
   "cell_type": "code",
   "execution_count": null,
   "id": "2011ccf4",
   "metadata": {},
   "outputs": [],
   "source": [
    "cur.execute(\"\"\"\n",
    "\n",
    "\"\"\")\n",
    "\n",
    "show_results(cur)"
   ]
  },
  {
   "cell_type": "markdown",
   "id": "3730840b",
   "metadata": {},
   "source": [
    "Query Exercise 7: Retrieve the number of distinct orders in which each food item appears. Report both the food id, name and the number of orders in which it appears."
   ]
  },
  {
   "cell_type": "code",
   "execution_count": null,
   "id": "dd0b9227",
   "metadata": {},
   "outputs": [],
   "source": [
    "cur.execute(\"\"\"\n",
    "\n",
    "\"\"\")\n",
    "\n",
    "show_results(cur)"
   ]
  },
  {
   "cell_type": "markdown",
   "id": "dc633dc8",
   "metadata": {},
   "source": [
    "Query Exercise 8: Retrieve food id, name and number of times they were ordered of the 3 foods which have been ordered the most times in the restaurant. Note: each food can be ordered more than once in the same order."
   ]
  },
  {
   "cell_type": "code",
   "execution_count": null,
   "id": "b867ba03",
   "metadata": {},
   "outputs": [],
   "source": [
    "cur.execute(\"\"\"\n",
    "\n",
    "\"\"\")\n",
    "\n",
    "show_results(cur)"
   ]
  },
  {
   "cell_type": "markdown",
   "id": "9e9007506632da65",
   "metadata": {},
   "source": [
    "Query Exercise 9: Retrieve name, surname and total expenditure of the $3$ clients that have spent the most in the restaurant. Recall that each client may have placed multiple orders which may contain multiple food items in them."
   ]
  },
  {
   "cell_type": "code",
   "execution_count": null,
   "id": "fe4561ff51a7ab05",
   "metadata": {
    "ExecuteTime": {
     "end_time": "2025-09-24T14:00:45.136568Z",
     "start_time": "2025-09-24T14:00:45.127987Z"
    }
   },
   "outputs": [],
   "source": [
    "cur.execute(\"\"\"\n",
    "\n",
    "\"\"\")\n",
    "\n",
    "show_results(cur)"
   ]
  },
  {
   "cell_type": "markdown",
   "id": "6f98a4f9df7b0905",
   "metadata": {},
   "source": [
    "Query Exercise 10: retrieve the total expenditure in the restaurant for each of the locations on '2025-09-09'."
   ]
  },
  {
   "cell_type": "code",
   "execution_count": null,
   "id": "67a91ae70f54b8b8",
   "metadata": {
    "ExecuteTime": {
     "end_time": "2025-09-24T14:00:45.312210Z",
     "start_time": "2025-09-24T14:00:45.303806Z"
    }
   },
   "outputs": [],
   "source": [
    "cur.execute(\"\"\"\n",
    "\n",
    "\"\"\")\n",
    "\n",
    "show_results(cur)"
   ]
  }
 ],
 "metadata": {
  "kernelspec": {
   "display_name": "Python 3",
   "language": "python",
   "name": "python3"
  },
  "language_info": {
   "codemirror_mode": {
    "name": "ipython",
    "version": 3
   },
   "file_extension": ".py",
   "mimetype": "text/x-python",
   "name": "python",
   "nbconvert_exporter": "python",
   "pygments_lexer": "ipython3",
   "version": "3.13.2"
  }
 },
 "nbformat": 4,
 "nbformat_minor": 5
}
