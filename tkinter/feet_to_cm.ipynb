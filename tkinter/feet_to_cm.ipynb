{
 "cells": [
  {
   "cell_type": "markdown",
   "metadata": {},
   "source": [
    "# Intro\n",
    "\n",
    "To make any kind of design, we need 3 major components:\n",
    "- Widgets: The building blocks of the design. There are many types, but initially, we will focus on the most common ones (text, button and entry field).\n",
    "- Layout: The arrangement of the widgets on the screen or window.\n",
    "- Styling: The appearance of the widgets, such as color of buttons and texts, font, size.\n"
   ]
  },
  {
   "cell_type": "code",
   "execution_count": 1,
   "metadata": {},
   "outputs": [],
   "source": [
    "import tkinter as tk\n",
    "from tkinter import ttk\n",
    "\n",
    "# window\n",
    "window = tk.Tk()\n",
    "window.title(\"First GUI\")\n",
    "\n",
    "#run\n",
    "window.mainloop()\n",
    "\n"
   ]
  }
 ],
 "metadata": {
  "kernelspec": {
   "display_name": "Python 3",
   "language": "python",
   "name": "python3"
  },
  "language_info": {
   "codemirror_mode": {
    "name": "ipython",
    "version": 3
   },
   "file_extension": ".py",
   "mimetype": "text/x-python",
   "name": "python",
   "nbconvert_exporter": "python",
   "pygments_lexer": "ipython3",
   "version": "3.13.2"
  }
 },
 "nbformat": 4,
 "nbformat_minor": 2
}
