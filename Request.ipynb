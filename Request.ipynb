{
 "cells": [
  {
   "cell_type": "markdown",
   "id": "b4eac041",
   "metadata": {},
   "source": [
    "Request is a general purpose Python package for making HTTP requests that will work for any REST API. "
   ]
  },
  {
   "cell_type": "markdown",
   "id": "af9aed61",
   "metadata": {},
   "source": [
    "# Types of HTTP requests\n",
    "- GET: Retrieve data from a server.\n",
    "- POST: Send data to a server to create a resource."
   ]
  },
  {
   "cell_type": "code",
   "execution_count": null,
   "id": "0305d4f2",
   "metadata": {},
   "outputs": [
    {
     "name": "stdout",
     "output_type": "stream",
     "text": [
      "<Response [200]>\n"
     ]
    }
   ],
   "source": [
    "import requests\n",
    "url = \"https://api.open-meteo.com/v1/forecast?latitude=41.89&longitude=12.48&hour\"\n",
    "response = requests.get(url)"
   ]
  },
  {
   "cell_type": "markdown",
   "id": "a9d18a62",
   "metadata": {},
   "source": [
    "Instead of hardcoding parameters in the URL, we can use the params argument of the requests.get() function to pass them as a dictionary. This makes the code cleaner and easier to read."
   ]
  },
  {
   "cell_type": "code",
   "execution_count": null,
   "id": "5d27756f",
   "metadata": {},
   "outputs": [],
   "source": [
    "endpoint = 'https://api.open-meteo.com/v1/forecast'\n",
    "params = {'latitude': 41.89, 'longitude': 12.48, 'hourly': 'temperature_2m'} \n",
    "response = requests.get(endpoint, params=params)"
   ]
  },
  {
   "cell_type": "markdown",
   "id": "d0280d6a",
   "metadata": {},
   "source": [
    "The library allows the data to be retrieved in various formats, including JSON, XML, and HTML. It also supports authentication, headers, and cookies.\n",
    "- 'response.text' returns the response content as a string. It is used only when the response is in plain text format.\n",
    "- 'response.json()' parses the response content as JSON and returns a Python dictionary. It is the most commonly used method when working with REST APIs that return JSON data.\n",
    "- 'response.cotent' returns the response content as bytes. It is used when the response is in binary format, such as images or files."
   ]
  },
  {
   "cell_type": "code",
   "execution_count": 4,
   "id": "104956ce",
   "metadata": {},
   "outputs": [
    {
     "name": "stdout",
     "output_type": "stream",
     "text": [
      "Response in string format:\n",
      "{\"latitude\":41.875,\"longitude\":12.5,\"generationtime_ms\":0.0010728836059570312,\"utc_offset_seconds\":0,\"timezone\":\"GMT\",\"timezone_abbreviation\":\"GMT\",\"elevation\":18.0}\n",
      "Data type: <class 'str'>\n",
      "\n",
      "Response in JSON format:\n",
      "{'latitude': 41.875, 'longitude': 12.5, 'generationtime_ms': 0.0010728836059570312, 'utc_offset_seconds': 0, 'timezone': 'GMT', 'timezone_abbreviation': 'GMT', 'elevation': 18.0}\n",
      "Data type: <class 'dict'>\n",
      "\n",
      "Response in bytes format:\n",
      "b'{\"latitude\":41.875,\"longitude\":12.5,\"generationtime_ms\":0.0010728836059570312,\"utc_offset_seconds\":0,\"timezone\":\"GMT\",\"timezone_abbreviation\":\"GMT\",\"elevation\":18.0}'\n",
      "Data type: <class 'bytes'>\n"
     ]
    }
   ],
   "source": [
    "print(\"Response in string format:\")\n",
    "print(response.text)\n",
    "print(\"Data type:\", type(response.text))\n",
    "print(\"\\nResponse in JSON format:\")\n",
    "print(response.json())\n",
    "print(\"Data type:\", type(response.json()))\n",
    "print(\"\\nResponse in bytes format:\")\n",
    "print(response.content)\n",
    "print(\"Data type:\", type(response.content))\n"
   ]
  },
  {
   "cell_type": "code",
   "execution_count": 7,
   "id": "4337d402",
   "metadata": {},
   "outputs": [
    {
     "ename": "KeyError",
     "evalue": "'hourly'",
     "output_type": "error",
     "traceback": [
      "\u001b[31m---------------------------------------------------------------------------\u001b[39m",
      "\u001b[31mKeyError\u001b[39m                                  Traceback (most recent call last)",
      "\u001b[36mCell\u001b[39m\u001b[36m \u001b[39m\u001b[32mIn[7]\u001b[39m\u001b[32m, line 5\u001b[39m\n\u001b[32m      3\u001b[39m response = requests.get(url)\n\u001b[32m      4\u001b[39m result = response.json()\n\u001b[32m----> \u001b[39m\u001b[32m5\u001b[39m \u001b[38;5;28mprint\u001b[39m(\u001b[33mf\u001b[39m\u001b[33m\"\u001b[39m\u001b[33mTemperature: \u001b[39m\u001b[38;5;132;01m{\u001b[39;00m\u001b[43mresult\u001b[49m\u001b[43m[\u001b[49m\u001b[33;43m'\u001b[39;49m\u001b[33;43mhourly\u001b[39;49m\u001b[33;43m'\u001b[39;49m\u001b[43m]\u001b[49m[\u001b[33m'\u001b[39m\u001b[33mtemperature_2m\u001b[39m\u001b[33m'\u001b[39m][:\u001b[32m10\u001b[39m]\u001b[38;5;132;01m}\u001b[39;00m\u001b[33m\"\u001b[39m)\n",
      "\u001b[31mKeyError\u001b[39m: 'hourly'"
     ]
    }
   ],
   "source": [
    "import requests\n",
    "url = \"https://api.open-meteo.com/v1/forecast?latitude=41.89&longitude=12.48&hour\"\n",
    "response = requests.get(url)\n",
    "result = response.json()\n",
    "print(f\"Temperature: {result['hourly']['temperature_2m'][:10]}\")"
   ]
  }
 ],
 "metadata": {
  "kernelspec": {
   "display_name": "Python 3",
   "language": "python",
   "name": "python3"
  },
  "language_info": {
   "codemirror_mode": {
    "name": "ipython",
    "version": 3
   },
   "file_extension": ".py",
   "mimetype": "text/x-python",
   "name": "python",
   "nbconvert_exporter": "python",
   "pygments_lexer": "ipython3",
   "version": "3.13.2"
  }
 },
 "nbformat": 4,
 "nbformat_minor": 5
}
