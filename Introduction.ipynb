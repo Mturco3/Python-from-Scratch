{
 "cells": [
  {
   "cell_type": "markdown",
   "id": "a3270845",
   "metadata": {},
   "source": [
    "# 🐍 Introduction to Python\n",
    "\n",
    "Python is a **high-level, interpreted programming language** that is beginner-friendly, flexible, and widely used for everything from automation to AI.  \n",
    "This guide introduces key concepts for understanding Python and writing basic programs.\n",
    "\n",
    "---\n",
    "\n",
    "## 🧮 Computation\n",
    "\n",
    "Computation in Python means **performing calculations** and storing their results.  \n",
    "It can be **declarative** (describing what we want) or **imperative** (telling Python step by step what to do).\n",
    "\n",
    "An **algorithm** is:\n",
    "- A series of well-defined steps\n",
    "- With a clear **flow of control**\n",
    "- And a **stop condition**\n",
    "\n",
    "A **program** is composed of **definitions** and **statements**.\n",
    "\n",
    "---\n",
    "\n",
    "## 🧾 Definitions vs. Statements\n",
    "\n",
    "- **Definitions (expressions)**  \n",
    "  - Combine objects and operators  \n",
    "  - Yield a value (which has a type)  \n",
    "  - Example: `3 + 2` ➝ `5`\n",
    "\n",
    "- **Statements (commands)**  \n",
    "  - Instruct the interpreter to **do something**  \n",
    "  - Example: `print(\"Hello\")`\n",
    "\n",
    "---\n",
    "\n",
    "## 💻 Writing Python Code\n",
    "\n",
    "Python can be written in **two modes**:\n",
    "\n",
    "### 🔹 Interactive Mode\n",
    "- Uses the **Python console** (the prompt `>>>`)\n",
    "- Executes code **immediately**, line by line  \n",
    "- Great for experimentation and learning  \n",
    "- Data is not stored after the session ends\n",
    "\n",
    "### 🔹 Script Mode\n",
    "- Uses a **file with `.py` extension**\n",
    "- Code is executed **from top to bottom**\n",
    "- Allows writing **consistent, reusable programs**\n",
    "- Data can be stored and re-used\n",
    "\n",
    "---\n",
    "\n",
    "## 🔢 Data Objects & Types\n",
    "\n",
    "Every program manipulates **data objects**.  \n",
    "Each object has a **type**, which determines what operations are allowed.\n",
    "\n",
    "### Scalar vs Non-Scalar\n",
    "- **Scalar objects**: indivisible, no internal structure (e.g., numbers, booleans)\n",
    "- **Non-scalar objects**: have internal structure, can be subdivided (e.g., strings, lists)\n",
    "\n",
    "---\n",
    "\n",
    "### 🔢 Scalar Types\n",
    "\n",
    "#### 1. **Integers (`int`)**\n",
    "- Whole numbers: `... -2, -1, 0, 1, 2 ...`\n",
    "- Operations:\n",
    "  - `+`, `-`, `*`, `/` (division returns a float)\n",
    "  - `//` (floor division – cuts off decimal part)\n",
    "  - `**` (exponentiation)\n",
    "  - `%` (modulus – remainder of division)\n",
    "  - Unary `-` (negation)\n",
    "\n",
    "⚠️ Division (`/`) may return a **float**, even if both operands are integers."
   ]
  },
  {
   "cell_type": "code",
   "execution_count": 2,
   "id": "c375b19d",
   "metadata": {},
   "outputs": [
    {
     "name": "stdout",
     "output_type": "stream",
     "text": [
      "a = 5\n",
      "b = 10\n",
      "Sum: 15\n",
      "Difference: -5\n",
      "Product: 50\n",
      "Quotient: 0.5\n",
      "Integer Division: 0\n",
      "Remainder: 5\n"
     ]
    }
   ],
   "source": [
    "a = 5\n",
    "b = 10\n",
    "print(\"a =\", a)\n",
    "print(\"b =\", b)\n",
    "print(\"Sum:\", a + b)\n",
    "print(\"Difference:\", a - b)\n",
    "print(\"Product:\", a * b)\n",
    "print(\"Quotient:\", a / b)\n",
    "print(\"Integer Division:\", a // b)\n",
    "print(\"Remainder:\", a % b)"
   ]
  },
  {
   "cell_type": "markdown",
   "id": "1f7039ba",
   "metadata": {},
   "source": [
    "#### 2. **Floating Point Numbers (`float`)**\n",
    "- Real numbers: include decimal point (`2.0`, `3.14`)\n",
    "- Stored as **binary fractions**, so some numbers cannot be represented exactly  \n",
    "  Example: `0.2 + 0.1` ➝ `0.30000000000000004`\n",
    "\n",
    "- Type conversions:\n",
    "  - `float(a)` ➝ convert to float\n",
    "  - `int(a)` ➝ cut off decimal part (no rounding)\n",
    "  - `round(a)` ➝ round to nearest integer"
   ]
  },
  {
   "cell_type": "code",
   "execution_count": 6,
   "id": "9b720a41",
   "metadata": {},
   "outputs": [
    {
     "name": "stdout",
     "output_type": "stream",
     "text": [
      "a = 0.2\n",
      "b = 0.1\n",
      "Sum: 0.30000000000000004\n",
      "Converting to int: 0\n",
      "Rounding: 0.3\n"
     ]
    }
   ],
   "source": [
    "a = 0.2\n",
    "b = 0.1\n",
    "print(\"a =\", a)\n",
    "print(\"b =\", b)\n",
    "print(\"Sum:\", a + b)\n",
    "sum_int = int(a+b)\n",
    "print(\"Converting to int:\", sum_int)\n",
    "print(\"Rounding:\", round(a+b, 2))"
   ]
  },
  {
   "cell_type": "markdown",
   "id": "985de29e",
   "metadata": {},
   "source": [
    "#### 3. **Boolean (`bool`)**\n",
    "- Logical values: `True` or `False`\n",
    "- Operations:\n",
    "  - `and` (logical AND)\n",
    "  - `or` (logical OR)\n",
    "  - `not` (logical NOT – flips value)\n",
    "\n",
    "Booleans are heavily used in **conditions** and **control flow**.\n",
    "\n",
    "---\n",
    "\n",
    "#### 4. **NoneType (`None`)**\n",
    "- Represents the **absence of a value**\n",
    "- Often used as a placeholder\n",
    "\n",
    "---\n",
    "\n",
    "## 📦 Variables\n",
    "\n",
    "Variables **store values** and make code reusable.\n",
    "\n",
    "- Defined with `=`  \n",
    "  ```python\n",
    "  radius = 5\n",
    "  area = 3.14 * radius ** 2\n"
   ]
  }
 ],
 "metadata": {
  "kernelspec": {
   "display_name": "Python 3",
   "language": "python",
   "name": "python3"
  },
  "language_info": {
   "codemirror_mode": {
    "name": "ipython",
    "version": 3
   },
   "file_extension": ".py",
   "mimetype": "text/x-python",
   "name": "python",
   "nbconvert_exporter": "python",
   "pygments_lexer": "ipython3",
   "version": "3.13.2"
  }
 },
 "nbformat": 4,
 "nbformat_minor": 5
}
