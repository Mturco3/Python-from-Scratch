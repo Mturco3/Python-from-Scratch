{
 "cells": [
  {
   "cell_type": "markdown",
   "metadata": {
    "slideshow": {
     "slide_type": "slide"
    }
   },
   "source": [
    "<div align=\"center\">\n",
    "\n",
    "# <b style=\"font-family: 'LUISS', 'Lato'\">Python Exercises - Part I</b>\n",
    "<h2 style=\"font-family: 'LUISS', 'Lato'\">Python and R for Data Science</h2>\n",
    "\n",
    "<h3 style=\"font-family: 'LUISS', 'Lato'\">Data Science and Management</h3>\n",
    "<img src=\"https://lollo93.gitlab.io/python-and-r-labs/dist/img/cliente-luiss.png\">\n",
    "\n",
    "<br><br><br>\n",
    "\n",
    "</div>"
   ]
  },
  {
   "cell_type": "markdown",
   "metadata": {
    "slideshow": {
     "slide_type": "slide"
    }
   },
   "source": [
    "## Exercise 1: sum of two integers\n",
    "\n",
    "1. Define two variables `a` and `b` with initial values `10` and `12`, respectively.\n",
    "2. Define the variable `c` as the sum of `a` and `b`\n",
    "3. Print `c`"
   ]
  },
  {
   "cell_type": "code",
   "execution_count": 1,
   "metadata": {},
   "outputs": [
    {
     "name": "stdout",
     "output_type": "stream",
     "text": [
      "The sum of 10 and 12 is 22\n"
     ]
    }
   ],
   "source": [
    "# Solution goes here\n",
    "a = 10\n",
    "b = 12\n",
    "c = a + b\n",
    "print(\"The sum of\", a, \"and\", b, \"is\", c)"
   ]
  },
  {
   "cell_type": "markdown",
   "metadata": {
    "slideshow": {
     "slide_type": "slide"
    }
   },
   "source": [
    "### Test your code\n",
    "\n",
    "Run this code to test your solution:"
   ]
  },
  {
   "cell_type": "code",
   "execution_count": 2,
   "metadata": {},
   "outputs": [
    {
     "name": "stdout",
     "output_type": "stream",
     "text": [
      "Test passed\n"
     ]
    }
   ],
   "source": [
    "try: assert c == (a + b) and c == 22 and not print(\"Test passed\")\n",
    "except: print('Test failed')"
   ]
  },
  {
   "cell_type": "markdown",
   "metadata": {
    "slideshow": {
     "slide_type": "slide"
    }
   },
   "source": [
    "## Exercise 2: area of a triangle\n",
    "\n",
    "1. Compute the area of a triangle with:\n",
    "    - `base`: `5.0`\n",
    "    - `height`: `7.0`\n",
    "2. Store the result in the variable `area`\n",
    "3. Print the area"
   ]
  },
  {
   "cell_type": "code",
   "execution_count": null,
   "metadata": {},
   "outputs": [
    {
     "name": "stdout",
     "output_type": "stream",
     "text": [
      "Area of triangle with base 5 and height 7 is 17.5\n"
     ]
    }
   ],
   "source": [
    "# Solution goes here\n",
    "def area_of_triange(base, height):\n",
    "    return 0.5 * base * height\n",
    "area = area_of_triange(5, 7)\n",
    "print(\"Area of triangle with base 5 and height 7 is\", area)"
   ]
  },
  {
   "cell_type": "markdown",
   "metadata": {
    "slideshow": {
     "slide_type": "slide"
    }
   },
   "source": [
    "### Test your code\n",
    "\n",
    "Run this code to test your solution:"
   ]
  },
  {
   "cell_type": "code",
   "execution_count": 6,
   "metadata": {},
   "outputs": [
    {
     "name": "stdout",
     "output_type": "stream",
     "text": [
      "Test passed\n"
     ]
    }
   ],
   "source": [
    "try: assert area == 17.5 and not print(\"Test passed\")\n",
    "except: print('Test failed')"
   ]
  },
  {
   "cell_type": "markdown",
   "metadata": {
    "slideshow": {
     "slide_type": "slide"
    }
   },
   "source": [
    "## Exercise 3: volume of a cube\n",
    "\n",
    "1. Compute the volume of a cube with `side` equal to `8.0`\n",
    "2. Store the result in the variable `volume`\n",
    "3. Print the area"
   ]
  },
  {
   "cell_type": "code",
   "execution_count": 8,
   "metadata": {},
   "outputs": [
    {
     "name": "stdout",
     "output_type": "stream",
     "text": [
      "Volume of cube with side length 8 is 512\n"
     ]
    }
   ],
   "source": [
    "# Solution goes here\n",
    "def volume_of_cube(side):\n",
    "    return side ** 3\n",
    "volume = volume_of_cube(8)\n",
    "print(\"Volume of cube with side length 8 is\", volume)"
   ]
  },
  {
   "cell_type": "markdown",
   "metadata": {
    "slideshow": {
     "slide_type": "slide"
    }
   },
   "source": [
    "### Test your code\n",
    "\n",
    "Run this code to test your solution:"
   ]
  },
  {
   "cell_type": "code",
   "execution_count": 9,
   "metadata": {},
   "outputs": [
    {
     "name": "stdout",
     "output_type": "stream",
     "text": [
      "Test passed\n"
     ]
    }
   ],
   "source": [
    "try: assert volume == 512 and not print(\"Test passed\")\n",
    "except: print('Test failed')"
   ]
  },
  {
   "cell_type": "markdown",
   "metadata": {
    "slideshow": {
     "slide_type": "slide"
    }
   },
   "source": [
    "## Exercise 4: compute equation\n",
    "\n",
    "1. Define:\n",
    "    - `x` equal to `10`\n",
    "    - `y` equal to `20`\n",
    "2. Compute the result of:\n",
    "\n",
    "$$\n",
    "    \\frac{(x-4)^3 + 5}{4 ⋅ (y\\mod3)}\n",
    "$$\n",
    "\n",
    "3. Store the result in the variable `result`\n",
    "4. Print the result"
   ]
  },
  {
   "cell_type": "code",
   "execution_count": 10,
   "metadata": {},
   "outputs": [
    {
     "name": "stdout",
     "output_type": "stream",
     "text": [
      "Result of the equation with x=10 and y=20 is 27.625\n"
     ]
    }
   ],
   "source": [
    "# Solution goes here\n",
    "def math_equation(x, y):\n",
    "    nominator = (x-4)**3 + 5\n",
    "    denominator = 4*(y%3)\n",
    "    return nominator / denominator\n",
    "result = math_equation(10, 20)\n",
    "print(\"Result of the equation with x=10 and y=20 is\", result)"
   ]
  },
  {
   "cell_type": "markdown",
   "metadata": {
    "slideshow": {
     "slide_type": "slide"
    }
   },
   "source": [
    "### Test your code\n",
    "\n",
    "Run this code to test your solution:"
   ]
  },
  {
   "cell_type": "code",
   "execution_count": 11,
   "metadata": {},
   "outputs": [
    {
     "name": "stdout",
     "output_type": "stream",
     "text": [
      "Test passed\n"
     ]
    }
   ],
   "source": [
    "try: assert result == 27.625 and not print(\"Test passed\")\n",
    "except: print('Test failed')"
   ]
  },
  {
   "cell_type": "markdown",
   "metadata": {
    "slideshow": {
     "slide_type": "slide"
    }
   },
   "source": [
    "## Exercise 5: count characters\n",
    "\n",
    "1. Define the string `s` equal to `Bazinga!`\n",
    "2. Count the number of characters in `s` (without using a loop!) and store the result in the variable `length`\n",
    "3. Print `length`"
   ]
  },
  {
   "cell_type": "code",
   "execution_count": 13,
   "metadata": {},
   "outputs": [
    {
     "name": "stdout",
     "output_type": "stream",
     "text": [
      "The length of the string is: 8\n"
     ]
    }
   ],
   "source": [
    "# Solution goes here\n",
    "s = \"Bazinga!\"\n",
    "length = len(s)\n",
    "print(\"The length of the string is:\", length)"
   ]
  },
  {
   "cell_type": "markdown",
   "metadata": {
    "slideshow": {
     "slide_type": "slide"
    }
   },
   "source": [
    "### Test your code\n",
    "\n",
    "Run this code to test your solution:"
   ]
  },
  {
   "cell_type": "code",
   "execution_count": 14,
   "metadata": {},
   "outputs": [
    {
     "name": "stdout",
     "output_type": "stream",
     "text": [
      "Test passed\n"
     ]
    }
   ],
   "source": [
    "try: assert length == 8 and not print(\"Test passed\")\n",
    "except: print('Test failed')"
   ]
  },
  {
   "cell_type": "markdown",
   "metadata": {
    "slideshow": {
     "slide_type": "slide"
    }
   },
   "source": [
    "## Exercise 6: concatenate strings\n",
    "\n",
    "1. Define one string `s1` with the content `Francesco`\n",
    "2. Define one string `s2` with the content ` ` (one space)\n",
    "3. Define one string `s3` with the content `Totti`\n",
    "4. Concatenate `s1`, `s2`, and `s3` into `s4`\n",
    "5. Print the concatenated string `s4`"
   ]
  },
  {
   "cell_type": "code",
   "execution_count": 17,
   "metadata": {},
   "outputs": [
    {
     "name": "stdout",
     "output_type": "stream",
     "text": [
      "COncatenated string: Francesco Totti\n"
     ]
    }
   ],
   "source": [
    "# Solution goes here\n",
    "s_1 = \"Francesco\"\n",
    "s_2 = \" \"\n",
    "s_3 = \"Totti\"\n",
    "s4 = s_1 + s_2 + s_3\n",
    "print(\"COncatenated string:\", s4)"
   ]
  },
  {
   "cell_type": "markdown",
   "metadata": {
    "slideshow": {
     "slide_type": "slide"
    }
   },
   "source": [
    "### Test your code\n",
    "\n",
    "Run this code to test your solution:"
   ]
  },
  {
   "cell_type": "code",
   "execution_count": 18,
   "metadata": {},
   "outputs": [
    {
     "name": "stdout",
     "output_type": "stream",
     "text": [
      "Test passed\n"
     ]
    }
   ],
   "source": [
    "try: assert s4 == \"Francesco Totti\" and not print(\"Test passed\")\n",
    "except: print('Test failed')"
   ]
  },
  {
   "cell_type": "markdown",
   "metadata": {
    "slideshow": {
     "slide_type": "slide"
    }
   },
   "source": [
    "## Exercise 7: get the last three chars from a string\n",
    "\n",
    "1. Define the string `s1` with the content `Totti`\n",
    "2. Extract the last three characters of `s1` into `s2`\n",
    "3. Print the string `s2`"
   ]
  },
  {
   "cell_type": "code",
   "execution_count": 21,
   "metadata": {},
   "outputs": [
    {
     "name": "stdout",
     "output_type": "stream",
     "text": [
      "The last 3 characters of the string are: tti\n"
     ]
    }
   ],
   "source": [
    "# Solution goes here\n",
    "s1 = \"Totti\"\n",
    "s2 = s1[-3:]\n",
    "print(\"The last 3 characters of the string are:\", s2)"
   ]
  },
  {
   "cell_type": "markdown",
   "metadata": {
    "slideshow": {
     "slide_type": "slide"
    }
   },
   "source": [
    "### Test your code\n",
    "\n",
    "Run this code to test your solution:"
   ]
  },
  {
   "cell_type": "code",
   "execution_count": 22,
   "metadata": {},
   "outputs": [
    {
     "name": "stdout",
     "output_type": "stream",
     "text": [
      "Test passed\n"
     ]
    }
   ],
   "source": [
    "try: assert s2 == \"tti\" and not print(\"Test passed\")\n",
    "except: print('Test failed')"
   ]
  },
  {
   "cell_type": "markdown",
   "metadata": {
    "slideshow": {
     "slide_type": "slide"
    }
   },
   "source": [
    "## Exercise 8: convert types\n",
    "\n",
    "1. Define the **integer** `n1` equal to `10`\n",
    "2. Define the **string** `s1` equal to `\"20.5\"`\n",
    "3. Convert `n1` and `s1` to `float` and then sum the two values into `f1`\n",
    "3. Print `f1`"
   ]
  },
  {
   "cell_type": "code",
   "execution_count": null,
   "metadata": {},
   "outputs": [],
   "source": [
    "# Solution goes here\n",
    "n1 = 10\n",
    "s1 = \"20.5\"\n"
   ]
  },
  {
   "cell_type": "markdown",
   "metadata": {
    "slideshow": {
     "slide_type": "slide"
    }
   },
   "source": [
    "### Test your code\n",
    "\n",
    "Run this code to test your solution:"
   ]
  },
  {
   "cell_type": "code",
   "execution_count": null,
   "metadata": {},
   "outputs": [
    {
     "name": "stdout",
     "output_type": "stream",
     "text": [
      "Test passed\n"
     ]
    }
   ],
   "source": [
    "try: assert type(s1) == str and type(n1) == int and f1 == 30.5 and not print(\"Test passed\")\n",
    "except: print('Test failed')"
   ]
  },
  {
   "cell_type": "markdown",
   "metadata": {
    "slideshow": {
     "slide_type": "slide"
    }
   },
   "source": [
    "## Exercise 9: largest average of two sequences\n",
    "\n",
    "1. Define the numbers `a1`, `a2`, and `a3` with values equal to `10`, `12`, `8`, respectively \n",
    "2. Define the numbers `b1`, `b2`, and `b3` with values equal to `7`, `10`, `18`, respectively\n",
    "3. Compute the average of: \n",
    "    - `a1`, `a2`, and `a3` into `avg_a`\n",
    "    - `b1`, `b2`, and `b3` into `avg_b`\n",
    "4. Conditionally define the string `s` to be equal to:\n",
    "    - if `avg_a` is larger than `avg_b`: `Sequence A is on average larger than sequence B`\n",
    "    - if `avg_b` is smaller than `avg_b`: `Sequence A is on average smaller than sequence B`\n",
    "    - otherwise: `The two sequences have the same average`\n",
    "5. Print `avg_a`, `avg_b`, `s`"
   ]
  },
  {
   "cell_type": "code",
   "execution_count": 82,
   "metadata": {},
   "outputs": [],
   "source": [
    "# Solution goes here"
   ]
  },
  {
   "cell_type": "markdown",
   "metadata": {
    "slideshow": {
     "slide_type": "slide"
    }
   },
   "source": [
    "### Test your code\n",
    "\n",
    "Run this code to test your solution:"
   ]
  },
  {
   "cell_type": "code",
   "execution_count": 84,
   "metadata": {},
   "outputs": [
    {
     "name": "stdout",
     "output_type": "stream",
     "text": [
      "Test passed\n"
     ]
    }
   ],
   "source": [
    "try: assert round(avg_a, 1) == 10.0 and round(avg_b, 1) == 11.7 and s == \"Sequence A is on average smaller than sequence B\" and not print(\"Test passed\")\n",
    "except: print('Test failed')"
   ]
  },
  {
   "cell_type": "markdown",
   "metadata": {
    "slideshow": {
     "slide_type": "slide"
    }
   },
   "source": [
    "## Exercise 10: perfect square\n",
    "\n",
    "1. Define the numbers `n1`  and `n3` with values equal to `9` and `12`, respectively \n",
    "2. Check whether these numbers are *perfect squares*:\n",
    "\n",
    "    > In mathematics, a square number or perfect square is an integer that is the square of an integer; in other words, it is the product of some integer with itself.\n",
    "\n",
    "    Store the result of the checks in `is_n1_perfect_square` and `is_n2_perfect_square`\n",
    "\n",
    "3. Print  `is_n1_perfect_square` and `is_n2_perfect_square`"
   ]
  },
  {
   "cell_type": "code",
   "execution_count": 23,
   "metadata": {},
   "outputs": [
    {
     "name": "stdout",
     "output_type": "stream",
     "text": [
      "n1 is a perfect square? True\n",
      "n2 is a perfect square? None\n"
     ]
    }
   ],
   "source": [
    "# Solution goes here\n",
    "n1 = 9\n",
    "n2 = 12\n",
    "\n",
    "def perfect_square(n):\n",
    "    for i in range(1,n):\n",
    "        if i**2 == n:\n",
    "            return True\n",
    "    else:\n",
    "        pass\n",
    "\n",
    "is_n1_perfect_square = perfect_square(n1)\n",
    "is_n2_perfect_square = perfect_square(n2)\n",
    "print(\"n1 is a perfect square?\", is_n1_perfect_square)\n",
    "print(\"n2 is a perfect square?\", is_n2_perfect_square)"
   ]
  },
  {
   "cell_type": "markdown",
   "metadata": {
    "slideshow": {
     "slide_type": "slide"
    }
   },
   "source": [
    "### Test your code\n",
    "\n",
    "Run this code to test your solution:"
   ]
  },
  {
   "cell_type": "code",
   "execution_count": 24,
   "metadata": {},
   "outputs": [
    {
     "name": "stdout",
     "output_type": "stream",
     "text": [
      "Test passed\n"
     ]
    }
   ],
   "source": [
    "try: assert is_n1_perfect_square and not is_n2_perfect_square and not print(\"Test passed\")\n",
    "except: print('Test failed')"
   ]
  },
  {
   "cell_type": "markdown",
   "metadata": {
    "slideshow": {
     "slide_type": "slide"
    }
   },
   "source": [
    "## Exercise 11: count digits\n",
    "\n",
    "1. Define the integer `n1` equal to `123450` \n",
    "2. Using a loop, count the number of digits in `n1` and store the result in `ndigits`\n",
    "3. print `ndigits`"
   ]
  },
  {
   "cell_type": "code",
   "execution_count": 25,
   "metadata": {},
   "outputs": [
    {
     "name": "stdout",
     "output_type": "stream",
     "text": [
      "N1 has 6 digits\n"
     ]
    }
   ],
   "source": [
    "# Solution goes here\n",
    "n1 = 123450\n",
    "ndigits = len(str(n1))\n",
    "print(f\"N1 has {ndigits} digits\")\n"
   ]
  },
  {
   "cell_type": "markdown",
   "metadata": {
    "slideshow": {
     "slide_type": "slide"
    }
   },
   "source": [
    "### Test your code\n",
    "\n",
    "Run this code to test your solution:"
   ]
  },
  {
   "cell_type": "code",
   "execution_count": 26,
   "metadata": {},
   "outputs": [
    {
     "name": "stdout",
     "output_type": "stream",
     "text": [
      "Test passed\n"
     ]
    }
   ],
   "source": [
    "try: assert ndigits == 6 and not print(\"Test passed\")\n",
    "except: print('Test failed')"
   ]
  },
  {
   "cell_type": "markdown",
   "metadata": {
    "slideshow": {
     "slide_type": "slide"
    }
   },
   "source": [
    "## Exercise 12: quotient and remainder by hand\n",
    "\n",
    "1. Define the integer `n1` equal to `123450` \n",
    "2. Define the integer `n2` equal to `57` \n",
    "3. Using a loop, without using the `/` and/or `//` and/or `%` operators, compute the quotient `q` and the remainder `r` of the integer division of `n1` by `n2`\n",
    "4. print `r` and `q`"
   ]
  },
  {
   "cell_type": "code",
   "execution_count": null,
   "metadata": {},
   "outputs": [
    {
     "name": "stdout",
     "output_type": "stream",
     "text": [
      "The remainder of the division is: 1\n",
      "The quotient is: 4\n"
     ]
    }
   ],
   "source": [
    "# Solution goes here\n",
    "n1 = 123450\n",
    "n2 = 57\n",
    "\n",
    "r = 0\n",
    "q = 0\n",
    "\n",
    "for i in range(0,n1,n2):\n",
    "    if i+n2 > n1:\n",
    "        r = n1-i\n",
    "    else:\n",
    "        q +=1\n",
    "\n",
    "print(\"The remainder of the division is:\", r)\n",
    "print(\"The quotient is:\", q)"
   ]
  },
  {
   "cell_type": "markdown",
   "metadata": {
    "slideshow": {
     "slide_type": "slide"
    }
   },
   "source": [
    "### Test your code\n",
    "\n",
    "Run this code to test your solution:"
   ]
  },
  {
   "cell_type": "code",
   "execution_count": 35,
   "metadata": {},
   "outputs": [
    {
     "name": "stdout",
     "output_type": "stream",
     "text": [
      "Test passed\n"
     ]
    }
   ],
   "source": [
    "try: assert q == int(n1/n2) and r == (n1 % n2) and not print(\"Test passed\")\n",
    "except: print('Test failed')"
   ]
  },
  {
   "cell_type": "markdown",
   "metadata": {
    "slideshow": {
     "slide_type": "slide"
    }
   },
   "source": [
    "## Exercise 13: sum of the first n numbers\n",
    "\n",
    "1. Define the integer `n` equal to `100` \n",
    "3. Using a loop compute the sum of the first `n` numbers (starting from `1`), storing the result into `s`\n",
    "4. print `s`"
   ]
  },
  {
   "cell_type": "code",
   "execution_count": 10,
   "metadata": {},
   "outputs": [
    {
     "name": "stdout",
     "output_type": "stream",
     "text": [
      "The sum of the first 100 numbers is: 5050\n"
     ]
    }
   ],
   "source": [
    "# Solution goes here\n",
    "s = 0\n",
    "for i in range(s,101):\n",
    "    s += i\n",
    "\n",
    "print(\"The sum of the first 100 numbers is:\", s)"
   ]
  },
  {
   "cell_type": "markdown",
   "metadata": {
    "slideshow": {
     "slide_type": "slide"
    }
   },
   "source": [
    "### Test your code\n",
    "\n",
    "Run this code to test your solution:"
   ]
  },
  {
   "cell_type": "code",
   "execution_count": 11,
   "metadata": {},
   "outputs": [
    {
     "name": "stdout",
     "output_type": "stream",
     "text": [
      "Test passed\n"
     ]
    }
   ],
   "source": [
    "try: assert s == 5050 and not print(\"Test passed\")\n",
    "except: print('Test failed')"
   ]
  },
  {
   "cell_type": "markdown",
   "metadata": {
    "slideshow": {
     "slide_type": "slide"
    }
   },
   "source": [
    "## Exercise 14: sum of the prime numbers\n",
    "\n",
    "1. Define the integer `n` equal to `100` \n",
    "3. Using a loop compute the sum of **prime** numbers up to `n`, storing the result into `s`\n",
    "4. print `s`"
   ]
  },
  {
   "cell_type": "code",
   "execution_count": 12,
   "metadata": {},
   "outputs": [
    {
     "name": "stdout",
     "output_type": "stream",
     "text": [
      "1060\n"
     ]
    }
   ],
   "source": [
    "# Solution goes here\n",
    "n = 100\n",
    "\n",
    "def isprime(x):\n",
    "    for i in range(2,x):\n",
    "        if x%i == 0:\n",
    "            return False\n",
    "    return True\n",
    "\n",
    "s = 0\n",
    "for a in range(2,n+1):\n",
    "    if isprime(a):\n",
    "        s += a\n",
    "\n",
    "print(s)\n"
   ]
  },
  {
   "cell_type": "markdown",
   "metadata": {
    "slideshow": {
     "slide_type": "slide"
    }
   },
   "source": [
    "### Test your code\n",
    "\n",
    "Run this code to test your solution:"
   ]
  },
  {
   "cell_type": "code",
   "execution_count": 13,
   "metadata": {},
   "outputs": [
    {
     "name": "stdout",
     "output_type": "stream",
     "text": [
      "Test passed\n"
     ]
    }
   ],
   "source": [
    "try: assert s == 1060 and not print(\"Test passed\")\n",
    "except: print('Test failed')"
   ]
  },
  {
   "cell_type": "markdown",
   "metadata": {
    "slideshow": {
     "slide_type": "slide"
    }
   },
   "source": [
    "## Exercise 15: prefixes of a string\n",
    "\n",
    "1. Define the string `s` equal to `The Big Bang Theory` \n",
    "2. Create the empty list `p`\n",
    "3. Using a loop, add all prefixes of `s` to `p` (note: `The Big Bang Theory` is a prefix of `The Big Bang Theory`)\n",
    "4. print `p`"
   ]
  },
  {
   "cell_type": "code",
   "execution_count": 21,
   "metadata": {},
   "outputs": [
    {
     "name": "stdout",
     "output_type": "stream",
     "text": [
      "['T', 'Th', 'The', 'The ', 'The B', 'The Bi', 'The Big', 'The Big ', 'The Big B', 'The Big Ba', 'The Big Ban', 'The Big Bang', 'The Big Bang ', 'The Big Bang T', 'The Big Bang Th', 'The Big Bang The', 'The Big Bang Theo', 'The Big Bang Theor', 'The Big Bang Theory']\n"
     ]
    }
   ],
   "source": [
    "# Solution goes here\n",
    "\n",
    "s = \"The Big Bang Theory\"\n",
    "p = []\n",
    "for i in range(1,len(s)+1):\n",
    "    p.append(s[:i])\n",
    "\n",
    "print(p)"
   ]
  },
  {
   "cell_type": "markdown",
   "metadata": {
    "slideshow": {
     "slide_type": "slide"
    }
   },
   "source": [
    "### Test your code\n",
    "\n",
    "Run this code to test your solution:"
   ]
  },
  {
   "cell_type": "code",
   "execution_count": 22,
   "metadata": {},
   "outputs": [
    {
     "name": "stdout",
     "output_type": "stream",
     "text": [
      "Test passed\n"
     ]
    }
   ],
   "source": [
    "try: assert sorted(p) == ['T', 'Th', 'The', 'The ', 'The B', 'The Bi', 'The Big', 'The Big ', 'The Big B', 'The Big Ba', 'The Big Ban', 'The Big Bang', 'The Big Bang ', 'The Big Bang T', 'The Big Bang Th', 'The Big Bang The', 'The Big Bang Theo', 'The Big Bang Theor', 'The Big Bang Theory'] and not print(\"Test passed\")\n",
    "except: print('Test failed')"
   ]
  },
  {
   "cell_type": "markdown",
   "metadata": {
    "slideshow": {
     "slide_type": "slide"
    }
   },
   "source": [
    "## Exercise 16: check postfixes of a string\n",
    "\n",
    "1. Define the string `s` equal to `The Big Bang Theory` \n",
    "2. Define the list `p` equal to `[\"y\", \"ry\", \"ery\", \"\"]`\n",
    "3. Remove from `p` any string that is not a postfix of `s` (note: `\"\"` is a postfix of `s`)\n",
    "4. print `p`"
   ]
  },
  {
   "cell_type": "code",
   "execution_count": 23,
   "metadata": {},
   "outputs": [
    {
     "name": "stdout",
     "output_type": "stream",
     "text": [
      "['y', 'yr', 'yro', 'yroe', 'yroeh', 'yroehT', 'yroehT ', 'yroehT g', 'yroehT gn', 'yroehT gna', 'yroehT gnaB', 'yroehT gnaB ', 'yroehT gnaB g', 'yroehT gnaB gi', 'yroehT gnaB giB', 'yroehT gnaB giB ', 'yroehT gnaB giB e', 'yroehT gnaB giB eh', 'yroehT gnaB giB ehT']\n"
     ]
    }
   ],
   "source": [
    "# Solution goes here\n",
    "\n",
    "s = \"The Big Bang Theory\"\n",
    "s_2 = s[::-1]\n",
    "p = []\n",
    "for i in range(1,len(s_2)+1):\n",
    "    p.append(s_2[:i])\n",
    "\n",
    "print(p)"
   ]
  },
  {
   "cell_type": "markdown",
   "metadata": {
    "slideshow": {
     "slide_type": "slide"
    }
   },
   "source": [
    "### Test your code\n",
    "\n",
    "Run this code to test your solution:"
   ]
  },
  {
   "cell_type": "code",
   "execution_count": 24,
   "metadata": {},
   "outputs": [
    {
     "name": "stdout",
     "output_type": "stream",
     "text": [
      "Test failed\n"
     ]
    }
   ],
   "source": [
    "try: assert p == ['y', 'ry', ''] and not print(\"Test passed\")\n",
    "except: print('Test failed')"
   ]
  },
  {
   "cell_type": "markdown",
   "metadata": {
    "slideshow": {
     "slide_type": "slide"
    }
   },
   "source": [
    "## Exercise 17: max of a list\n",
    "\n",
    "Define a function `max_from_list` that:\n",
    "- takes as arguments a list of integers\n",
    "- returns:\n",
    "    - if the list is not empty: the maximum value in the list\n",
    "    - otherwise: `None` \n",
    "\n",
    "Do not use the built-in function `max` in this exercise."
   ]
  },
  {
   "cell_type": "code",
   "execution_count": 106,
   "metadata": {},
   "outputs": [],
   "source": [
    "# Solution goes here"
   ]
  },
  {
   "cell_type": "markdown",
   "metadata": {
    "slideshow": {
     "slide_type": "slide"
    }
   },
   "source": [
    "### Test your code\n",
    "\n",
    "Run this code to test your solution:"
   ]
  },
  {
   "cell_type": "code",
   "execution_count": 108,
   "metadata": {},
   "outputs": [
    {
     "name": "stdout",
     "output_type": "stream",
     "text": [
      "Test passed\n"
     ]
    }
   ],
   "source": [
    "try: max_from_list([]) == None and max_from_list([1, 2, 3]) == 3 and not print(\"Test passed\")\n",
    "except: print('Test failed')"
   ]
  },
  {
   "cell_type": "markdown",
   "metadata": {
    "slideshow": {
     "slide_type": "slide"
    }
   },
   "source": [
    "## Exercise 19: prime numbers\n",
    "\n",
    "Define a function `is_prime` that:\n",
    "- takes as arguments a list `L` of positive integers\n",
    "- returns:\n",
    "    - if the list is not empty: a new list where the i-th element is a boolean asserting whether the i-th element from `L` is a prime number\n",
    "    - otherwise: `[]` "
   ]
  },
  {
   "cell_type": "code",
   "execution_count": 109,
   "metadata": {},
   "outputs": [],
   "source": [
    "# Solution goes here"
   ]
  },
  {
   "cell_type": "markdown",
   "metadata": {
    "slideshow": {
     "slide_type": "slide"
    }
   },
   "source": [
    "### Test your code\n",
    "\n",
    "Run this code to test your solution:"
   ]
  },
  {
   "cell_type": "code",
   "execution_count": 111,
   "metadata": {},
   "outputs": [
    {
     "name": "stdout",
     "output_type": "stream",
     "text": [
      "Test passed\n"
     ]
    }
   ],
   "source": [
    "try: assert is_prime([]) == [] and is_prime([3, 4, 9, 11]) == [True, False, False, True] and not print(\"Test passed\")\n",
    "except: print('Test failed')"
   ]
  },
  {
   "cell_type": "markdown",
   "metadata": {
    "slideshow": {
     "slide_type": "slide"
    }
   },
   "source": [
    "## Exercise 20: word frequency\n",
    "\n",
    "Define a function `count_freq` that:\n",
    "- takes as arguments:\n",
    "    - a string `s`\n",
    "    - a list `L` of words\n",
    "- returns:\n",
    "    - if the list is not empty: a new list where the i-th element is the number of occurences in `s` of the i-th word from `L`\n",
    "    - otherwise: `[]` "
   ]
  },
  {
   "cell_type": "code",
   "execution_count": 112,
   "metadata": {},
   "outputs": [],
   "source": [
    "# Solution goes here"
   ]
  },
  {
   "cell_type": "markdown",
   "metadata": {
    "slideshow": {
     "slide_type": "slide"
    }
   },
   "source": [
    "### Test your code\n",
    "\n",
    "Run this code to test your solution:"
   ]
  },
  {
   "cell_type": "code",
   "execution_count": 114,
   "metadata": {},
   "outputs": [
    {
     "name": "stdout",
     "output_type": "stream",
     "text": [
      "Test passed\n"
     ]
    }
   ],
   "source": [
    "try: assert count_freq(\"test\", []) == [] and count_freq(\"Aejeje\", [\"e\", \"je\", \"aje\"]) == [3, 2, 0] and not print(\"Test passed\")\n",
    "except: print('Test failed')"
   ]
  }
 ],
 "metadata": {
  "kernelspec": {
   "display_name": "Python 3",
   "language": "python",
   "name": "python3"
  },
  "language_info": {
   "codemirror_mode": {
    "name": "ipython",
    "version": 3
   },
   "file_extension": ".py",
   "mimetype": "text/x-python",
   "name": "python",
   "nbconvert_exporter": "python",
   "pygments_lexer": "ipython3",
   "version": "3.13.2"
  }
 },
 "nbformat": 4,
 "nbformat_minor": 4
}
