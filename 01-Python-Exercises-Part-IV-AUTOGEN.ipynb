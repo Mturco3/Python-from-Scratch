{
  "cells": [
    {
      "cell_type": "markdown",
      "metadata": {
        "slideshow": {
          "slide_type": "slide"
        }
      },
      "source": [
        "<div align=\"center\">\n",
        "\n",
        "# <b style=\"font-family: 'LUISS', 'Lato'\">Python Exercises - Part IV</b>\n",
        "<h2 style=\"font-family: 'LUISS', 'Lato'\">Python and R for Data Science</h2>\n",
        "\n",
        "<h3 style=\"font-family: 'LUISS', 'Lato'\">Data Science and Management</h3>\n",
        "<img src=\"https://lollo93.gitlab.io/python-and-r-labs/dist/img/cliente-luiss.png\">\n",
        "\n",
        "<br><br><br>\n",
        "\n",
        "</div>"
      ]
    },
    {
      "cell_type": "markdown",
      "metadata": {
        "slideshow": {
          "slide_type": "slide"
        }
      },
      "source": [
        "## Exercise 1: Days of the week with tuples\n",
        "\n",
        "Define a list `days = [\"mon\", \"tue\", \"wed\", \"thu\", \"fri\", \"sat\", \"sun\"]` with week days.\n",
        "\n",
        "Now, define the following tuples:\n",
        "- `t1` that contains the **weekdays** (`mon` to `fri`).\n",
        "- `t2` that contains the **weekend days** (`sat` and `sun`).\n",
        "- `t3` that contains the **odd days** (`mon`, `wed`, `fri`, `sun`).\n",
        "\n",
        "Rule of the game: you are **not allowed** to directly write the tuple, e.g., `t1 = ('mon', 'tue', ...)`."
      ]
    },
    {
      "cell_type": "code",
      "execution_count": 4,
      "metadata": {},
      "outputs": [],
      "source": [
        "# Solution goes here\n",
        "l1 = []\n",
        "l2 = []\n",
        "l3 = []\n",
        "days = [\"mon\", \"tue\", \"wed\", \"thu\", \"fri\", \"sat\", \"sun\"]\n",
        "for i, day in enumerate(days):\n",
        "    if i<5:\n",
        "        l1.append(day)\n",
        "    if i>=5:\n",
        "        l2.append(day)\n",
        "    if i%2==0:\n",
        "        l3.append(day)\n",
        "t1, t2, t3 = tuple(l1), tuple(l2), tuple(l3)\n",
        "\n"
      ]
    },
    {
      "cell_type": "markdown",
      "metadata": {
        "slideshow": {
          "slide_type": "slide"
        }
      },
      "source": [
        "### Test your code\n",
        "\n",
        "Run this code to test your solution:"
      ]
    },
    {
      "cell_type": "code",
      "execution_count": 5,
      "metadata": {},
      "outputs": [
        {
          "name": "stdout",
          "output_type": "stream",
          "text": [
            "Test #1 passed\n",
            "Test #2 passed\n",
            "Test #3 passed\n"
          ]
        }
      ],
      "source": [
        "try: assert t1 == (\"mon\", \"tue\", \"wed\", \"thu\", \"fri\") and not print(\"Test #1 passed\")\n",
        "except: print(\"Test #1 failed\")\n",
        "\n",
        "try: assert t2 == (\"sat\", \"sun\") and not print(\"Test #2 passed\")\n",
        "except: print(\"Test #2 failed\")\n",
        "\n",
        "try: assert t3 == (\"mon\", \"wed\", \"fri\", \"sun\") and not print(\"Test #3 passed\")\n",
        "except: print(\"Test #3 failed\")"
      ]
    },
    {
      "cell_type": "markdown",
      "metadata": {
        "slideshow": {
          "slide_type": "slide"
        }
      },
      "source": [
        "## Exercise 2: Mutable tuples\n",
        "\n",
        "Since tuples are immutable, we want to simulate a **mutable tuple** `t` with the following numbers: `6, 8, 4, 12, 1, 7`.  \n",
        "\n",
        "Define `t` such that we can mutate it, and then modify the tuple so that **all numbers greater than 5 are replaced with 0**."
      ]
    },
    {
      "cell_type": "code",
      "execution_count": 4,
      "metadata": {},
      "outputs": [],
      "source": [
        "# Solution goes here"
      ]
    },
    {
      "cell_type": "markdown",
      "metadata": {
        "slideshow": {
          "slide_type": "slide"
        }
      },
      "source": [
        "### Test your code\n",
        "\n",
        "Run this code to test your solution:"
      ]
    },
    {
      "cell_type": "code",
      "execution_count": 9,
      "metadata": {},
      "outputs": [
        {
          "name": "stdout",
          "output_type": "stream",
          "text": [
            "Test #1 passed\n",
            "Test #2 passed\n"
          ]
        }
      ],
      "source": [
        "try: assert tuple(t) == ([0], [0], [4], [0], [1], [0]) and not print(\"Test #1 passed\")\n",
        "except: print(\"Test #1 failed\")\n",
        "\n",
        "try: assert [elem[0] for elem in t] == [0, 0, 4, 0, 1, 0] and not print(\"Test #2 passed\")\n",
        "except: print(\"Test #2 failed\")"
      ]
    },
    {
      "cell_type": "markdown",
      "metadata": {
        "slideshow": {
          "slide_type": "slide"
        }
      },
      "source": [
        "## Exercise 3: Safe removal from a set\n",
        "\n",
        "Define a set `s` with the elements `{1, 2, 3, 4, 5}`.  \n",
        "\n",
        "Define a list `l` with the elements `[2, 5, 7]`.  \n",
        "\n",
        "Modify the set `s` by removing all elements in `l` **in a way that does not cause an error if an element is missing**.  \n",
        "\n",
        "Store the final set in `s`."
      ]
    },
    {
      "cell_type": "code",
      "execution_count": 3,
      "metadata": {},
      "outputs": [],
      "source": [
        "# Solution goes here\n",
        "s = set([1,2,3,4,5])\n",
        "l = [2,5,7]\n",
        "\n",
        "for element in l:\n",
        "    if element in s:\n",
        "        s.remove(element)\n",
        "    else:\n",
        "        pass\n"
      ]
    },
    {
      "cell_type": "markdown",
      "metadata": {
        "slideshow": {
          "slide_type": "slide"
        }
      },
      "source": [
        "### Test your code\n",
        "\n",
        "Run this code to test your solution:"
      ]
    },
    {
      "cell_type": "code",
      "execution_count": 4,
      "metadata": {},
      "outputs": [
        {
          "name": "stdout",
          "output_type": "stream",
          "text": [
            "Test #1 passed\n",
            "Test #2 passed\n"
          ]
        }
      ],
      "source": [
        "try: assert s == {1, 3, 4} and not print(\"Test #1 passed\")\n",
        "except: print(\"Test #1 failed\")\n",
        "\n",
        "try: assert 2 not in s and 5 not in s and 7 not in s and not print(\"Test #2 passed\")\n",
        "except: print(\"Test #2 failed\")"
      ]
    },
    {
      "cell_type": "markdown",
      "metadata": {
        "slideshow": {
          "slide_type": "slide"
        }
      },
      "source": [
        "## Exercise 4: Dictionary from a list of tuples\n",
        "\n",
        "Define a list `l` of tuples with the following elements: `(10, 20), (30, 40), (50, 60)`.\n",
        "\n",
        "Create a dictionary `d` where:\n",
        "- the **keys** are the indices of `l`\n",
        "- the **values** are the corresponding tuples from `l`."
      ]
    },
    {
      "cell_type": "code",
      "execution_count": 1,
      "metadata": {},
      "outputs": [],
      "source": [
        "# Solution goes here\n",
        "l = [(10,20), (30,40), (50,60)]\n",
        "d = {}\n",
        "\n",
        "for i in range(len(l)):\n",
        "    d[i] = l[i]"
      ]
    },
    {
      "cell_type": "markdown",
      "metadata": {
        "slideshow": {
          "slide_type": "slide"
        }
      },
      "source": [
        "### Test your code\n",
        "\n",
        "Run this code to test your solution:"
      ]
    },
    {
      "cell_type": "code",
      "execution_count": 2,
      "metadata": {},
      "outputs": [
        {
          "name": "stdout",
          "output_type": "stream",
          "text": [
            "Test #1 passed\n",
            "Test #2 passed\n"
          ]
        }
      ],
      "source": [
        "try: assert d == {0: (10, 20), 1: (30, 40), 2: (50, 60)} and not print(\"Test #1 passed\")\n",
        "except: print(\"Test #1 failed\")\n",
        "\n",
        "try: assert d[0] == (10, 20) and d[2] == (50, 60) and not print(\"Test #2 passed\")\n",
        "except: print(\"Test #2 failed\")"
      ]
    }
  ],
  "metadata": {
    "kernelspec": {
      "display_name": "Python 3",
      "language": "python",
      "name": "python3"
    },
    "language_info": {
      "codemirror_mode": {
        "name": "ipython",
        "version": 3
      },
      "file_extension": ".py",
      "mimetype": "text/x-python",
      "name": "python",
      "nbconvert_exporter": "python",
      "pygments_lexer": "ipython3",
      "version": "3.13.2"
    }
  },
  "nbformat": 4,
  "nbformat_minor": 4
}
