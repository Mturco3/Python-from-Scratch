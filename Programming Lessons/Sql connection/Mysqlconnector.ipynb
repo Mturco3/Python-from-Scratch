{
 "cells": [
  {
   "cell_type": "markdown",
   "metadata": {},
   "source": [
    "# Mysql interaction with python"
   ]
  },
  {
   "cell_type": "markdown",
   "metadata": {},
   "source": [
    "- 1) Import mysql.connector"
   ]
  },
  {
   "cell_type": "code",
   "execution_count": 14,
   "metadata": {},
   "outputs": [],
   "source": [
    "import mysql.connector as mysql\n",
    "import time"
   ]
  },
  {
   "cell_type": "markdown",
   "metadata": {},
   "source": [
    "- 2) Connects with mysql server"
   ]
  },
  {
   "cell_type": "code",
   "execution_count": 15,
   "metadata": {},
   "outputs": [],
   "source": [
    "mydb = mysql.connect(\n",
    "    host=\"localhost\",\n",
    "    user=\"root\",\n",
    "    passwd=input(\"Enter your password: \"),\n",
    ")"
   ]
  },
  {
   "cell_type": "markdown",
   "metadata": {},
   "source": [
    "- 3) Verify connection and create cursor object. The cursor is basically what interacts with mysql server."
   ]
  },
  {
   "cell_type": "code",
   "execution_count": 16,
   "metadata": {},
   "outputs": [
    {
     "name": "stdout",
     "output_type": "stream",
     "text": [
      "Connected to MySQL database\n"
     ]
    }
   ],
   "source": [
    "if mydb.is_connected():\n",
    "    print(\"Connected to MySQL database\")\n",
    "else:\n",
    "    print(\"Connection failed\")\n",
    "\n",
    "cursor = mydb.cursor()"
   ]
  },
  {
   "cell_type": "markdown",
   "metadata": {},
   "source": [
    "- 4) It is possible to execute queries using cursor.execute() method. The below example shows how to visualize all the databases in the server."
   ]
  },
  {
   "cell_type": "code",
   "execution_count": 18,
   "metadata": {},
   "outputs": [
    {
     "name": "stdout",
     "output_type": "stream",
     "text": [
      "('aggregate',)\n",
      "('aiaciampino',)\n",
      "('classicmodels',)\n",
      "('goshare',)\n",
      "('impero_romano',)\n",
      "('information_schema',)\n",
      "('jobs',)\n",
      "('mysql',)\n",
      "('performance_schema',)\n",
      "('seriea',)\n",
      "('sys',)\n",
      "('world',)\n"
     ]
    }
   ],
   "source": [
    "cursor.execute(\"SHOW DATABASES\")\n",
    "databases = cursor.fetchall()\n",
    "for database in databases:\n",
    "    print(database)"
   ]
  },
  {
   "cell_type": "markdown",
   "metadata": {},
   "source": [
    "- 5) I will now start to work with the database aiaciampino. We first need to drop the database if it already exists. Then we create the database and select it."
   ]
  },
  {
   "cell_type": "code",
   "execution_count": 20,
   "metadata": {},
   "outputs": [
    {
     "name": "stdout",
     "output_type": "stream",
     "text": [
      "Creating database...\n",
      "Database created successfully\n"
     ]
    }
   ],
   "source": [
    "cursor.execute(\"SHOW DATABASES\")\n",
    "databases = cursor.fetchall()\n",
    "for database in databases:\n",
    "    if database[0] == \"aiaciampino\":\n",
    "        print(\"Database already exists\")\n",
    "        time.sleep(1)\n",
    "        cursor.execute(\"DROP DATABASE aiaciampino\")\n",
    "        mydb.commit()\n",
    "        print(\"Database dropped\")\n",
    "\n",
    "print(\"Creating database...\")\n",
    "time.sleep(1)\n",
    "cursor.execute(\"CREATE DATABASE aiaciampino\")\n",
    "print(\"Database created successfully\")\n",
    "\n",
    "\n",
    "\n"
   ]
  },
  {
   "cell_type": "markdown",
   "metadata": {},
   "source": [
    "- 6) We can now create a table. The first table wil be called \"teams\" and it will have 5 columns: name, city, stadium and number of sanctions. The first column will be the primary key.\n",
    "\n",
    "-> \"CREATE TABLE teams (name VARCHAR(255), city VARCHAR(255), stadium VARCHAR(255), sanctions INT(10), PRIMARY KEY (name));\"\n"
   ]
  },
  {
   "cell_type": "code",
   "execution_count": 21,
   "metadata": {},
   "outputs": [
    {
     "name": "stdout",
     "output_type": "stream",
     "text": [
      "Table teams created\n"
     ]
    }
   ],
   "source": [
    "cursor.execute(\"USE aiaciampino\")\n",
    "cursor.execute(\"SHOW TABLES\")\n",
    "for table in cursor:\n",
    "    if table[0] == \"teams\":\n",
    "        print(\"Table already exists, dropping it...\")\n",
    "        cursor.execute(\"DROP TABLE teams\")\n",
    "        time.sleep(1)\n",
    "        print(\"Table dropped\")\n",
    "cursor.execute(\"CREATE TABLE teams (name VARCHAR(255), position INT(10), played INT(10), wins INT(10), draws INT(10), losses INT(10), scored INT(10), conceded INT(10), goal_difference INT(10) , points INT(10), PRIMARY KEY (name));\")\n",
    "cursor.execute(\"SHOW TABLES\")\n",
    "for table in cursor:\n",
    "    print(f\"Table {table[0]} created\") "
   ]
  },
  {
   "cell_type": "markdown",
   "metadata": {},
   "source": [
    "- 7) We can now insert data into the table. The following example shows how to insert a single row. Then we will procede by inserting multiple rows at once. First of all, we have to import the dataset and to manipulate the dataframes in order to facilitate the insertion."
   ]
  },
  {
   "cell_type": "code",
   "execution_count": 23,
   "metadata": {},
   "outputs": [
    {
     "name": "stdout",
     "output_type": "stream",
     "text": [
      "['Team', 'Pos', 'Pld', 'W', 'D', 'L', 'GF', 'GA', 'GD', 'Pts']\n"
     ]
    },
    {
     "data": {
      "application/vnd.microsoft.datawrangler.viewer.v0+json": {
       "columns": [
        {
         "name": "index",
         "rawType": "int64",
         "type": "integer"
        },
        {
         "name": "Team",
         "rawType": "object",
         "type": "string"
        },
        {
         "name": "Pos",
         "rawType": "int64",
         "type": "integer"
        },
        {
         "name": "Pld",
         "rawType": "int64",
         "type": "integer"
        },
        {
         "name": "W",
         "rawType": "int64",
         "type": "integer"
        },
        {
         "name": "D",
         "rawType": "int64",
         "type": "integer"
        },
        {
         "name": "L",
         "rawType": "int64",
         "type": "integer"
        },
        {
         "name": "GF",
         "rawType": "int64",
         "type": "integer"
        },
        {
         "name": "GA",
         "rawType": "int64",
         "type": "integer"
        },
        {
         "name": "GD",
         "rawType": "int64",
         "type": "integer"
        },
        {
         "name": "Pts",
         "rawType": "int64",
         "type": "integer"
        }
       ],
       "ref": "acd76171-7afc-4c28-8dc2-a1d93a416872",
       "rows": [
        [
         "0",
         "Manchester City",
         "1",
         "38",
         "29",
         "6",
         "3",
         "99",
         "26",
         "73",
         "93"
        ],
        [
         "1",
         "Liverpool",
         "2",
         "38",
         "28",
         "8",
         "2",
         "94",
         "26",
         "68",
         "92"
        ],
        [
         "2",
         "Chelsea",
         "3",
         "38",
         "21",
         "11",
         "6",
         "76",
         "33",
         "43",
         "74"
        ],
        [
         "3",
         "Tottenham Hotspur",
         "4",
         "38",
         "22",
         "5",
         "11",
         "69",
         "40",
         "29",
         "71"
        ],
        [
         "4",
         "Arsenal",
         "5",
         "38",
         "22",
         "3",
         "13",
         "61",
         "48",
         "13",
         "69"
        ]
       ],
       "shape": {
        "columns": 10,
        "rows": 5
       }
      },
      "text/html": [
       "<div>\n",
       "<style scoped>\n",
       "    .dataframe tbody tr th:only-of-type {\n",
       "        vertical-align: middle;\n",
       "    }\n",
       "\n",
       "    .dataframe tbody tr th {\n",
       "        vertical-align: top;\n",
       "    }\n",
       "\n",
       "    .dataframe thead th {\n",
       "        text-align: right;\n",
       "    }\n",
       "</style>\n",
       "<table border=\"1\" class=\"dataframe\">\n",
       "  <thead>\n",
       "    <tr style=\"text-align: right;\">\n",
       "      <th></th>\n",
       "      <th>Team</th>\n",
       "      <th>Pos</th>\n",
       "      <th>Pld</th>\n",
       "      <th>W</th>\n",
       "      <th>D</th>\n",
       "      <th>L</th>\n",
       "      <th>GF</th>\n",
       "      <th>GA</th>\n",
       "      <th>GD</th>\n",
       "      <th>Pts</th>\n",
       "    </tr>\n",
       "  </thead>\n",
       "  <tbody>\n",
       "    <tr>\n",
       "      <th>0</th>\n",
       "      <td>Manchester City</td>\n",
       "      <td>1</td>\n",
       "      <td>38</td>\n",
       "      <td>29</td>\n",
       "      <td>6</td>\n",
       "      <td>3</td>\n",
       "      <td>99</td>\n",
       "      <td>26</td>\n",
       "      <td>73</td>\n",
       "      <td>93</td>\n",
       "    </tr>\n",
       "    <tr>\n",
       "      <th>1</th>\n",
       "      <td>Liverpool</td>\n",
       "      <td>2</td>\n",
       "      <td>38</td>\n",
       "      <td>28</td>\n",
       "      <td>8</td>\n",
       "      <td>2</td>\n",
       "      <td>94</td>\n",
       "      <td>26</td>\n",
       "      <td>68</td>\n",
       "      <td>92</td>\n",
       "    </tr>\n",
       "    <tr>\n",
       "      <th>2</th>\n",
       "      <td>Chelsea</td>\n",
       "      <td>3</td>\n",
       "      <td>38</td>\n",
       "      <td>21</td>\n",
       "      <td>11</td>\n",
       "      <td>6</td>\n",
       "      <td>76</td>\n",
       "      <td>33</td>\n",
       "      <td>43</td>\n",
       "      <td>74</td>\n",
       "    </tr>\n",
       "    <tr>\n",
       "      <th>3</th>\n",
       "      <td>Tottenham Hotspur</td>\n",
       "      <td>4</td>\n",
       "      <td>38</td>\n",
       "      <td>22</td>\n",
       "      <td>5</td>\n",
       "      <td>11</td>\n",
       "      <td>69</td>\n",
       "      <td>40</td>\n",
       "      <td>29</td>\n",
       "      <td>71</td>\n",
       "    </tr>\n",
       "    <tr>\n",
       "      <th>4</th>\n",
       "      <td>Arsenal</td>\n",
       "      <td>5</td>\n",
       "      <td>38</td>\n",
       "      <td>22</td>\n",
       "      <td>3</td>\n",
       "      <td>13</td>\n",
       "      <td>61</td>\n",
       "      <td>48</td>\n",
       "      <td>13</td>\n",
       "      <td>69</td>\n",
       "    </tr>\n",
       "  </tbody>\n",
       "</table>\n",
       "</div>"
      ],
      "text/plain": [
       "                Team  Pos  Pld   W   D   L  GF  GA  GD  Pts\n",
       "0    Manchester City    1   38  29   6   3  99  26  73   93\n",
       "1          Liverpool    2   38  28   8   2  94  26  68   92\n",
       "2            Chelsea    3   38  21  11   6  76  33  43   74\n",
       "3  Tottenham Hotspur    4   38  22   5  11  69  40  29   71\n",
       "4            Arsenal    5   38  22   3  13  61  48  13   69"
      ]
     },
     "execution_count": 23,
     "metadata": {},
     "output_type": "execute_result"
    }
   ],
   "source": [
    "import pandas as pd \n",
    "\n",
    "data = pd.read_csv(r\"Dataset Premier League\\points_table.csv\")\n",
    "data_columns = list(data.columns)\n",
    "data_columns = [data_columns[1]] + [data_columns[0]] + data_columns[2:] # this line is necessary to change the order of the columns\n",
    "print(data_columns) \n",
    "data = data.reindex(columns=data_columns) # this line is necessary to change the order of the columns\n",
    "data.head()"
   ]
  },
  {
   "cell_type": "code",
   "execution_count": 24,
   "metadata": {},
   "outputs": [
    {
     "name": "stdout",
     "output_type": "stream",
     "text": [
      "-----------------------\n",
      "0\n",
      "-\n",
      "Team    Manchester City\n",
      "Pos                   1\n",
      "Pld                  38\n",
      "W                    29\n",
      "D                     6\n",
      "L                     3\n",
      "GF                   99\n",
      "GA                   26\n",
      "GD                   73\n",
      "Pts                  93\n",
      "Name: 0, dtype: object\n",
      "-----------------------\n",
      "1\n",
      "-\n",
      "Team    Liverpool\n",
      "Pos             2\n",
      "Pld            38\n",
      "W              28\n",
      "D               8\n",
      "L               2\n",
      "GF             94\n",
      "GA             26\n",
      "GD             68\n",
      "Pts            92\n",
      "Name: 1, dtype: object\n",
      "-----------------------\n",
      "2\n",
      "-\n",
      "Team    Chelsea\n",
      "Pos           3\n",
      "Pld          38\n",
      "W            21\n",
      "D            11\n",
      "L             6\n",
      "GF           76\n",
      "GA           33\n",
      "GD           43\n",
      "Pts          74\n",
      "Name: 2, dtype: object\n",
      "-----------------------\n",
      "3\n",
      "-\n",
      "Team    Tottenham Hotspur\n",
      "Pos                     4\n",
      "Pld                    38\n",
      "W                      22\n",
      "D                       5\n",
      "L                      11\n",
      "GF                     69\n",
      "GA                     40\n",
      "GD                     29\n",
      "Pts                    71\n",
      "Name: 3, dtype: object\n",
      "-----------------------\n",
      "4\n",
      "-\n",
      "Team    Arsenal\n",
      "Pos           5\n",
      "Pld          38\n",
      "W            22\n",
      "D             3\n",
      "L            13\n",
      "GF           61\n",
      "GA           48\n",
      "GD           13\n",
      "Pts          69\n",
      "Name: 4, dtype: object\n",
      "-----------------------\n",
      "5\n",
      "-\n",
      "Team    Manchester United\n",
      "Pos                     6\n",
      "Pld                    38\n",
      "W                      16\n",
      "D                      10\n",
      "L                      12\n",
      "GF                     57\n",
      "GA                     57\n",
      "GD                      0\n",
      "Pts                    58\n",
      "Name: 5, dtype: object\n",
      "-----------------------\n",
      "6\n",
      "-\n",
      "Team    West Ham United\n",
      "Pos                   7\n",
      "Pld                  38\n",
      "W                    16\n",
      "D                     8\n",
      "L                    14\n",
      "GF                   60\n",
      "GA                   51\n",
      "GD                    9\n",
      "Pts                  56\n",
      "Name: 6, dtype: object\n",
      "-----------------------\n",
      "7\n",
      "-\n",
      "Team    Leicester City\n",
      "Pos                  8\n",
      "Pld                 38\n",
      "W                   14\n",
      "D                   10\n",
      "L                   14\n",
      "GF                  62\n",
      "GA                  59\n",
      "GD                   3\n",
      "Pts                 52\n",
      "Name: 7, dtype: object\n",
      "-----------------------\n",
      "8\n",
      "-\n",
      "Team    Brighton and Hove Albion\n",
      "Pos                            9\n",
      "Pld                           38\n",
      "W                             12\n",
      "D                             15\n",
      "L                             11\n",
      "GF                            42\n",
      "GA                            44\n",
      "GD                            -2\n",
      "Pts                           51\n",
      "Name: 8, dtype: object\n",
      "-----------------------\n",
      "9\n",
      "-\n",
      "Team    Wolverhampton Wanderers\n",
      "Pos                          10\n",
      "Pld                          38\n",
      "W                            15\n",
      "D                             6\n",
      "L                            17\n",
      "GF                           38\n",
      "GA                           43\n",
      "GD                           -5\n",
      "Pts                          51\n",
      "Name: 9, dtype: object\n",
      "-----------------------\n",
      "10\n",
      "-\n",
      "Team    Newcastle United\n",
      "Pos                   11\n",
      "Pld                   38\n",
      "W                     13\n",
      "D                     10\n",
      "L                     15\n",
      "GF                    44\n",
      "GA                    62\n",
      "GD                   -18\n",
      "Pts                   49\n",
      "Name: 10, dtype: object\n",
      "-----------------------\n",
      "11\n",
      "-\n",
      "Team    Crystal Palace\n",
      "Pos                 12\n",
      "Pld                 38\n",
      "W                   11\n",
      "D                   15\n",
      "L                   12\n",
      "GF                  50\n",
      "GA                  46\n",
      "GD                   4\n",
      "Pts                 48\n",
      "Name: 11, dtype: object\n",
      "-----------------------\n",
      "12\n",
      "-\n",
      "Team    Brentford\n",
      "Pos            13\n",
      "Pld            38\n",
      "W              13\n",
      "D               7\n",
      "L              18\n",
      "GF             48\n",
      "GA             56\n",
      "GD             -8\n",
      "Pts            46\n",
      "Name: 12, dtype: object\n",
      "-----------------------\n",
      "13\n",
      "-\n",
      "Team    Aston Villa\n",
      "Pos              14\n",
      "Pld              38\n",
      "W                13\n",
      "D                 6\n",
      "L                19\n",
      "GF               52\n",
      "GA               54\n",
      "GD               -2\n",
      "Pts              45\n",
      "Name: 13, dtype: object\n",
      "-----------------------\n",
      "14\n",
      "-\n",
      "Team    Southampton\n",
      "Pos              15\n",
      "Pld              38\n",
      "W                 9\n",
      "D                13\n",
      "L                16\n",
      "GF               43\n",
      "GA               67\n",
      "GD              -24\n",
      "Pts              40\n",
      "Name: 14, dtype: object\n",
      "-----------------------\n",
      "15\n",
      "-\n",
      "Team    Everton\n",
      "Pos          16\n",
      "Pld          38\n",
      "W            11\n",
      "D             6\n",
      "L            21\n",
      "GF           43\n",
      "GA           66\n",
      "GD          -23\n",
      "Pts          39\n",
      "Name: 15, dtype: object\n",
      "-----------------------\n",
      "16\n",
      "-\n",
      "Team    Leeds United\n",
      "Pos               17\n",
      "Pld               38\n",
      "W                  9\n",
      "D                 11\n",
      "L                 18\n",
      "GF                42\n",
      "GA                79\n",
      "GD               -37\n",
      "Pts               38\n",
      "Name: 16, dtype: object\n",
      "-----------------------\n",
      "17\n",
      "-\n",
      "Team    Burnley\n",
      "Pos          18\n",
      "Pld          38\n",
      "W             7\n",
      "D            14\n",
      "L            17\n",
      "GF           34\n",
      "GA           53\n",
      "GD          -19\n",
      "Pts          35\n",
      "Name: 17, dtype: object\n",
      "-----------------------\n",
      "18\n",
      "-\n",
      "Team    Watford\n",
      "Pos          19\n",
      "Pld          38\n",
      "W             6\n",
      "D             5\n",
      "L            27\n",
      "GF           34\n",
      "GA           77\n",
      "GD          -43\n",
      "Pts          23\n",
      "Name: 18, dtype: object\n",
      "-----------------------\n",
      "19\n",
      "-\n",
      "Team    Norwich City\n",
      "Pos               20\n",
      "Pld               38\n",
      "W                  5\n",
      "D                  7\n",
      "L                 26\n",
      "GF                23\n",
      "GA                84\n",
      "GD               -61\n",
      "Pts               22\n",
      "Name: 19, dtype: object\n"
     ]
    }
   ],
   "source": [
    "for element in data.iterrows():\n",
    "    print(\"-----------------------\")\n",
    "    print(element[0])\n",
    "    print(\"-\")\n",
    "    print(element[1])"
   ]
  },
  {
   "cell_type": "code",
   "execution_count": 25,
   "metadata": {},
   "outputs": [
    {
     "name": "stdout",
     "output_type": "stream",
     "text": [
      "['Manchester City', np.int64(1), np.int64(38), np.int64(29), np.int64(6), np.int64(3), np.int64(99), np.int64(26), np.int64(73), np.int64(93)]\n",
      "Error while inserting the first team\n",
      "('Arsenal', 5, 38, 22, 3, 13, 61, 48, 13, 69)\n",
      "('Aston Villa', 14, 38, 13, 6, 19, 52, 54, -2, 45)\n",
      "('Brentford', 13, 38, 13, 7, 18, 48, 56, -8, 46)\n",
      "('Brighton and Hove Albion', 9, 38, 12, 15, 11, 42, 44, -2, 51)\n",
      "('Burnley', 18, 38, 7, 14, 17, 34, 53, -19, 35)\n",
      "('Chelsea', 3, 38, 21, 11, 6, 76, 33, 43, 74)\n",
      "('Crystal Palace', 12, 38, 11, 15, 12, 50, 46, 4, 48)\n",
      "('Everton', 16, 38, 11, 6, 21, 43, 66, -23, 39)\n",
      "('Leeds United', 17, 38, 9, 11, 18, 42, 79, -37, 38)\n",
      "('Leicester City', 8, 38, 14, 10, 14, 62, 59, 3, 52)\n",
      "('Liverpool', 2, 38, 28, 8, 2, 94, 26, 68, 92)\n",
      "('Manchester United', 6, 38, 16, 10, 12, 57, 57, 0, 58)\n",
      "('Newcastle United', 11, 38, 13, 10, 15, 44, 62, -18, 49)\n",
      "('Norwich City', 20, 38, 5, 7, 26, 23, 84, -61, 22)\n",
      "('Southampton', 15, 38, 9, 13, 16, 43, 67, -24, 40)\n",
      "('Tottenham Hotspur', 4, 38, 22, 5, 11, 69, 40, 29, 71)\n",
      "('Watford', 19, 38, 6, 5, 27, 34, 77, -43, 23)\n",
      "('West Ham United', 7, 38, 16, 8, 14, 60, 51, 9, 56)\n",
      "('Wolverhampton Wanderers', 10, 38, 15, 6, 17, 38, 43, -5, 51)\n"
     ]
    }
   ],
   "source": [
    "first_team = data.iloc[0].values.tolist()\n",
    "print(first_team)\n",
    "\n",
    "try:\n",
    "    cursor.execute(\"INSERT INTO teams (name, position, played, wins, draws, losses, scored, conceded, goal_difference, points) VALUES (%s, %s, %s, %s, %s, %s, %s, %s, %s, %s)\", first_team)\n",
    "    mydb.commit()\n",
    "except:\n",
    "    print(\"Error while inserting the first team\")\n",
    "\n",
    "cursor.execute(\"SELECT * FROM teams\")\n",
    "for row in cursor:\n",
    "    print(row)\n",
    "\n",
    "try:\n",
    "    cursor.executemany(\"INSERT INTO teams (name, position, played, wins, draws, losses, scored, conceded, goal_difference, points) VALUES (%s, %s, %s, %s, %s, %s, %s, %s, %s, %s)\", data.iloc[1:,:].values.tolist()) \n",
    "    mydb.commit()\n",
    "except:\n",
    "    print(\"Error while inserting the other teams\")\n",
    "\n",
    "cursor.execute(\"SELECT * FROM teams\")\n",
    "for row in cursor:\n",
    "    print(row)\n",
    "\n",
    "mydb.commit()\n"
   ]
  },
  {
   "cell_type": "code",
   "execution_count": 1,
   "metadata": {},
   "outputs": [
    {
     "name": "stdout",
     "output_type": "stream",
     "text": [
      "ciao\n"
     ]
    }
   ],
   "source": [
    "print(\"ciao\")"
   ]
  }
 ],
 "metadata": {
  "kernelspec": {
   "display_name": "Python 3",
   "language": "python",
   "name": "python3"
  },
  "language_info": {
   "codemirror_mode": {
    "name": "ipython",
    "version": 3
   },
   "file_extension": ".py",
   "mimetype": "text/x-python",
   "name": "python",
   "nbconvert_exporter": "python",
   "pygments_lexer": "ipython3",
   "version": "3.13.2"
  }
 },
 "nbformat": 4,
 "nbformat_minor": 2
}
